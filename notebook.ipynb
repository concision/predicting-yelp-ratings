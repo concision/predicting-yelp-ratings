{
 "cells": [
  {
   "cell_type": "markdown",
   "metadata": {
    "pycharm": {
     "name": "#%% md\n"
    }
   },
   "source": [
    "<h1 style=\"text-align: center\">Yelp Rating Prediction</h1>\n",
    "<hr style=\"border-top: 1px solid #444\">"
   ]
  },
  {
   "cell_type": "markdown",
   "source": [
    "## Development Environment"
   ],
   "metadata": {
    "collapsed": false,
    "pycharm": {
     "name": "#%% md\n"
    }
   }
  },
  {
   "cell_type": "markdown",
   "source": [
    "### Imports"
   ],
   "metadata": {
    "collapsed": false,
    "pycharm": {
     "name": "#%% md\n"
    }
   }
  },
  {
   "cell_type": "code",
   "source": [
    "# imports\n",
    "from typing import TypedDict, Dict, List\n",
    "from statistics import mean, stdev\n",
    "from io import StringIO\n",
    "from time import time\n",
    "import sys\n",
    "import os\n",
    "import json\n",
    "import spectra\n",
    "import math\n",
    "import pandas\n",
    "import numpy\n",
    "import sklearn\n",
    "import tensorflow\n",
    "import matplotlib.pyplot as pyplot\n",
    "from matplotlib.ticker import FuncFormatter\n",
    "from IPython.core.display import display, HTML\n",
    "from sklearn.feature_extraction.text import TfidfVectorizer\n",
    "from sklearn.model_selection import train_test_split\n",
    "from tensorflow.keras.models import Sequential\n",
    "from tensorflow.keras.layers import Dense\n",
    "from tensorflow.keras.callbacks import EarlyStopping, ModelCheckpoint\n",
    "\n",
    "# store standard out stream\n",
    "original_stdout = sys.stdout\n",
    "\n",
    "print(f\"Python: {sys.version}\")\n",
    "print(f\"Pandas {pandas.__version__}\")\n",
    "print(f\"Scikit-Learn {sklearn.__version__}\")\n",
    "print(f\"Tensor Flow Version: {tensorflow.__version__} (Keras Version: {tensorflow.keras.__version__})\")"
   ],
   "metadata": {
    "collapsed": false,
    "pycharm": {
     "name": "#%%\n"
    }
   },
   "execution_count": 17,
   "outputs": [
    {
     "name": "stdout",
     "output_type": "stream",
     "text": [
      "Python: 3.8.5 (tags/v3.8.5:580fbb0, Jul 20 2020, 15:57:54) [MSC v.1924 64 bit (AMD64)]\n",
      "Pandas 1.1.2\n",
      "Scikit-Learn 0.23.2\n",
      "Tensor Flow Version: 2.3.0 (Keras Version: 2.4.0)\n"
     ]
    }
   ]
  },
  {
   "cell_type": "markdown",
   "source": [
    "### Configure PRNG Seed"
   ],
   "metadata": {
    "collapsed": false,
    "pycharm": {
     "name": "#%% md\n"
    }
   }
  },
  {
   "cell_type": "code",
   "execution_count": 18,
   "outputs": [],
   "source": [
    "PRNG_SEED = 42\n",
    "numpy.random.seed(PRNG_SEED)\n",
    "tensorflow.random.set_seed(PRNG_SEED)"
   ],
   "metadata": {
    "collapsed": false,
    "pycharm": {
     "name": "#%%\n"
    }
   }
  },
  {
   "cell_type": "markdown",
   "source": [
    "<hr style=\"border-top: 1px solid #444\">"
   ],
   "metadata": {
    "collapsed": false,
    "pycharm": {
     "name": "#%% md\n"
    }
   }
  },
  {
   "cell_type": "markdown",
   "source": [
    "# I. Data Importation"
   ],
   "metadata": {
    "collapsed": false,
    "pycharm": {
     "name": "#%% md\n"
    }
   }
  },
  {
   "cell_type": "markdown",
   "source": [
    "## Dataset Location"
   ],
   "metadata": {
    "collapsed": false,
    "pycharm": {
     "name": "#%% md\n"
    }
   }
  },
  {
   "cell_type": "code",
   "execution_count": 19,
   "outputs": [
    {
     "name": "stdout",
     "output_type": "stream",
     "text": [
      "Dataset_User_Agreement.pdf\n",
      "yelp_academic_dataset_business.json\n",
      "yelp_academic_dataset_checkin.json\n",
      "yelp_academic_dataset_review.json\n",
      "yelp_academic_dataset_tip.json\n",
      "yelp_academic_dataset_user.json\n"
     ]
    }
   ],
   "source": [
    "!dir /b \"./data/\"\n",
    "\n",
    "file_businesses = r\"data/yelp_academic_dataset_business.json\"\n",
    "file_user_reviews = r\"data/yelp_academic_dataset_review.json\""
   ],
   "metadata": {
    "collapsed": false,
    "pycharm": {
     "name": "#%%\n"
    }
   }
  },
  {
   "cell_type": "markdown",
   "source": [
    "## Import Yelp Businesses"
   ],
   "metadata": {
    "collapsed": false,
    "pycharm": {
     "name": "#%% md\n"
    }
   }
  },
  {
   "cell_type": "code",
   "execution_count": 20,
   "outputs": [
    {
     "name": "stdout",
     "output_type": "stream",
     "text": [
      "Imported 209,393 distinct businesses in 4.467366 seconds\n"
     ]
    }
   ],
   "source": [
    "# metrics\n",
    "start_time = time()\n",
    "\n",
    "# business data structure\n",
    "class Business(TypedDict):\n",
    "    business_id: str\n",
    "    review_count: int\n",
    "    stars: float\n",
    "\n",
    "# businesses indexed by business_id (i.e. {business['business_id']: Business}\n",
    "businesses_by_id: Dict[str, Business] = {}\n",
    "\n",
    "# parse all businesses\n",
    "with open(file_businesses, 'r', encoding='utf-8') as file:\n",
    "    # iterate over newline-delimited JSON records\n",
    "    record: str\n",
    "    for record in file:\n",
    "        # parse JSON record\n",
    "        business: Business = json.loads(record)\n",
    "        # map Business by business_id\n",
    "        businesses_by_id[business['business_id']] = business\n",
    "\n",
    "# metrics\n",
    "print(f\"Imported {len(businesses_by_id):,} distinct businesses in {time() - start_time:.6f} seconds\")"
   ],
   "metadata": {
    "collapsed": false,
    "pycharm": {
     "name": "#%%\n"
    }
   }
  },
  {
   "cell_type": "markdown",
   "source": [
    "## Import User Reviews"
   ],
   "metadata": {
    "collapsed": false,
    "pycharm": {
     "name": "#%% md\n"
    }
   }
  },
  {
   "cell_type": "code",
   "execution_count": 21,
   "outputs": [
    {
     "name": "stdout",
     "output_type": "stream",
     "text": [
      "Imported 8,021,122 user reviews in 113.376799 seconds\n"
     ]
    }
   ],
   "source": [
    "# metrics\n",
    "start_time = time()\n",
    "\n",
    "# user review data structure\n",
    "class UserReview(TypedDict):\n",
    "    business_id: str\n",
    "    text: str\n",
    "\n",
    "# user reviews indexed by business_id (i.e. {business_id: UserReview[]})\n",
    "business_review_texts: Dict[str, List[str]] = {\n",
    "    business_id: []\n",
    "    for business_id in businesses_by_id.keys()\n",
    "}\n",
    "\n",
    "# parse user reviews\n",
    "with open(file_user_reviews, 'r', encoding='utf-8') as file:\n",
    "    # iterate over newline-delimited JSON records\n",
    "    record: str\n",
    "    for record in file:\n",
    "        # parse JSON record\n",
    "        review: UserReview = json.loads(record)\n",
    "        # map user review by business_id\n",
    "        business_review_texts[review['business_id']].append(review[\"text\"])\n",
    "\n",
    "# metrics\n",
    "print(f\"Imported {sum([len(reviews) for reviews in business_review_texts.values()]):,} user reviews in {time() - start_time:.6f} seconds\")"
   ],
   "metadata": {
    "collapsed": false,
    "pycharm": {
     "name": "#%%\n"
    }
   }
  },
  {
   "cell_type": "markdown",
   "source": [
    "<hr style=\"border-top: 1px solid #444\">"
   ],
   "metadata": {
    "collapsed": false,
    "pycharm": {
     "name": "#%% md\n"
    }
   }
  },
  {
   "cell_type": "markdown",
   "source": [
    "## II. Dataset Visualizations"
   ],
   "metadata": {
    "collapsed": false
   }
  },
  {
   "cell_type": "markdown",
   "source": [
    "### Star Rating Distribution"
   ],
   "metadata": {
    "collapsed": false,
    "pycharm": {
     "name": "#%% md\n"
    }
   }
  },
  {
   "cell_type": "code",
   "execution_count": 22,
   "outputs": [
    {
     "data": {
      "text/plain": "<Figure size 864x288 with 1 Axes>",
      "image/png": "[encoded data removed]"
     },
     "metadata": {
      "needs_background": "light"
     },
     "output_type": "display_data"
    },
    {
     "name": "stdout",
     "output_type": "stream",
     "text": [
      "Rendered graphic in 0.554757 seconds\n"
     ]
    }
   ],
   "source": [
    "# metrics\n",
    "start_time = time()\n",
    "\n",
    "pyplot.figure(figsize=(12, 4))\n",
    "pyplot.title(\"Star Rating Histogram\")\n",
    "pyplot.xlabel(\"Star Rating\")\n",
    "pyplot.ylabel(\"Frequency\")\n",
    "star_color = spectra.scale(['red', 'yellow', 'green'])\n",
    "for star_rating, frequency in pandas.DataFrame(businesses_by_id.values(), columns=['stars'])['stars'].value_counts().sort_index().items():\n",
    "    pyplot.bar(str(star_rating), frequency, color=star_color((star_rating - 1)/ 4).hexcode)\n",
    "    pyplot.text(star_rating * 2 - 2.25, frequency + 400, frequency)\n",
    "pyplot.show()\n",
    "\n",
    "# metrics\n",
    "print(f\"Rendered graphic in {time() - start_time:.6f} seconds\")"
   ],
   "metadata": {
    "collapsed": false,
    "pycharm": {
     "name": "#%%\n"
    }
   }
  },
  {
   "cell_type": "markdown",
   "source": [
    "### Review Count Distribution"
   ],
   "metadata": {
    "collapsed": false
   }
  },
  {
   "cell_type": "code",
   "execution_count": 23,
   "outputs": [
    {
     "data": {
      "text/plain": "<Figure size 864x288 with 2 Axes>",
      "image/png": "[encoded data removed]"
     },
     "metadata": {
      "needs_background": "light"
     },
     "output_type": "display_data"
    },
    {
     "name": "stdout",
     "output_type": "stream",
     "text": [
      "Rendered graphic in 43.460822 seconds\n"
     ]
    }
   ],
   "source": [
    "# metrics\n",
    "start_time = time()\n",
    "\n",
    "review_counts = [business['review_count'] for business in businesses_by_id.values()]\n",
    "figure = pyplot.figure(figsize=(12, 4))\n",
    "\n",
    "axes = figure.add_subplot(1, 2, 1)\n",
    "axes.set_title(\"Frequency of Review Counts\")\n",
    "axes.set_xlabel(\"Business Review Count\")\n",
    "axes.axis(xmin=0, xmax=mean(review_counts) + stdev(review_counts))\n",
    "axes.set_ylabel(\"Frequency\")\n",
    "axes.grid(True)\n",
    "axes.hist(review_counts, bins = list(range(0, max(review_counts))))\n",
    "\n",
    "## Cumulative\n",
    "axes = figure.add_subplot(1, 2, 2)\n",
    "axes.set_title(\"Cumulative Distribution of Review Counts\")\n",
    "axes.set_xlabel(\"Business Review Count\")\n",
    "axes.axis(xmin=0, xmax=mean(review_counts) + stdev(review_counts))\n",
    "axes.set_ylabel(\"Cumulative Proportion\")\n",
    "axes.yaxis.set_major_formatter(FuncFormatter('{0:.0%}'.format))\n",
    "axes.grid(True)\n",
    "pyplot.hist(review_counts, bins=list(range(0, max(review_counts))), cumulative=True, density=True)\n",
    "\n",
    "pyplot.show()\n",
    "\n",
    "# metrics\n",
    "print(f\"Rendered graphic in {time() - start_time:.6f} seconds\")"
   ],
   "metadata": {
    "collapsed": false,
    "pycharm": {
     "name": "#%%\n"
    }
   }
  },
  {
   "cell_type": "markdown",
   "source": [
    "<hr style=\"border-top: 1px solid #444\">"
   ],
   "metadata": {
    "collapsed": false
   }
  },
  {
   "cell_type": "markdown",
   "source": [
    "## III. Data Preprocessing"
   ],
   "metadata": {
    "collapsed": false,
    "pycharm": {
     "name": "#%% md\n"
    }
   }
  },
  {
   "cell_type": "markdown",
   "source": [
    "### Filter Businesses with Less than 15 Reviews"
   ],
   "metadata": {
    "collapsed": false,
    "pycharm": {
     "name": "#%% md\n"
    }
   }
  },
  {
   "cell_type": "code",
   "execution_count": 24,
   "outputs": [
    {
     "name": "stdout",
     "output_type": "stream",
     "text": [
      "Selected 80,355 businesses (filtered 129,038)\n"
     ]
    }
   ],
   "source": [
    "# minimum business['review_count'] required to be selected for training\n",
    "MINIMUM_REVIEW_COUNT = 15\n",
    "\n",
    "selected_businesses = [business for business in businesses_by_id.values() if MINIMUM_REVIEW_COUNT <= business['review_count']]\n",
    "\n",
    "print(f\"Selected {len(selected_businesses):,} businesses (filtered {len(businesses_by_id) - len(selected_businesses):,})\")"
   ],
   "metadata": {
    "collapsed": false,
    "pycharm": {
     "name": "#%%\n"
    }
   }
  },
  {
   "cell_type": "markdown",
   "source": [
    "### Data Partitioning: Training, Validation, and Testing"
   ],
   "metadata": {
    "collapsed": false,
    "pycharm": {
     "name": "#%% md\n"
    }
   }
  },
  {
   "cell_type": "code",
   "execution_count": 25,
   "outputs": [
    {
     "name": "stdout",
     "output_type": "stream",
     "text": [
      "Partitioned 209,393 businesses into {'train': 10000, 'validate': 1000, 'test': 10000} in 0.405349 seconds\n",
      "Remaining unused businesses: 188,393\n"
     ]
    }
   ],
   "source": [
    "# partition size constants\n",
    "TRAINING_SIZE = 10_000\n",
    "VALIDATE_SIZE = 1_000\n",
    "TESTING_SIZE = 10_000\n",
    "\n",
    "# metrics\n",
    "start_time = time()\n",
    "\n",
    "# perform partitions\n",
    "partitions = {}\n",
    "partitions['train'], _ = train_test_split(\n",
    "    # select all businesses that are greater than or equal to MINIMUM_REVIEW_COUNT\n",
    "    selected_businesses,\n",
    "    # partition proportions\n",
    "    train_size=TRAINING_SIZE,\n",
    "    shuffle=True,\n",
    "    # PRNG seed for deterministic behaviour\n",
    "    random_state=PRNG_SEED,\n",
    ")\n",
    "partitions['validate'], partitions['test'] = train_test_split(\n",
    "    # select all businesses not in partitions['train']\n",
    "    [\n",
    "        businesses_by_id[business_id]\n",
    "        for business_id in set([business['business_id'] for business in selected_businesses]).difference(set([business['business_id'] for business in partitions['train']]))\n",
    "    ],\n",
    "    # partition proportions\n",
    "    train_size=VALIDATE_SIZE,\n",
    "    test_size=TESTING_SIZE,\n",
    "    shuffle=True,\n",
    "    # PRNG seed for deterministic behaviour\n",
    "    random_state=PRNG_SEED,\n",
    ")\n",
    "\n",
    "# metrics\n",
    "print(f\"Partitioned {len(businesses_by_id):,} businesses into { {category: len(partition) for category, partition in partitions.items()}} in {time() - start_time:.6f} seconds\")\n",
    "print(f\"Remaining unused businesses: {len(businesses_by_id) - sum([len(partition) for partition in partitions.values()]):,}\")"
   ],
   "metadata": {
    "collapsed": false,
    "pycharm": {
     "name": "#%%\n"
    }
   }
  },
  {
   "cell_type": "markdown",
   "source": [
    "### Input Features: Preprocess Review Texts using TF-IDF Vectorization"
   ],
   "metadata": {
    "collapsed": false
   }
  },
  {
   "cell_type": "code",
   "execution_count": 26,
   "outputs": [
    {
     "name": "stdout",
     "output_type": "stream",
     "text": [
      "Word features cardinality: 1,500\n",
      "Word features: ['00', '10', '100', '11', '12', '13', '14', '15', '16', '18', '20', '24', '25', '2nd', '30', '35', '40', '45', '50', '60', '95', '99', 'able', 'absolute', 'absolutely', 'access', 'accommodating', 'actual', 'actually', 'add', 'added', 'addition', 'additional', 'affordable', 'afternoon', 'ago', 'agreed', 'ahead', 'air', 'airport', 'alcohol', 'allowed', 'alright', 'amazing', 'ambiance', 'ambience', 'american', 'annoying', 'answer', 'answered', 'anymore', 'anyways', 'apart', 'apartment', 'app', 'apparently', 'appetizer', 'appetizers', 'apple', 'appointment', 'appreciate', 'appreciated', 'area', 'areas', 'aren', 'aria', 'arizona', 'arrive', 'arrived', 'art', 'asada', 'asian', 'ask', 'asked', 'asking', 'ate', 'atmosphere', 'attention', 'attentive', 'attitude', 'authentic', 'available', 'average', 'avocado', 'avoid', 'away', 'awesome', 'awful', 'awhile', 'ayce', 'az', 'baby', 'bacon', 'bad', 'bag', 'baked', 'bakery', 'banana', 'bar', 'barely', 'bars', 'bartender', 'bartenders', 'based', 'basic', 'basically', 'bathroom', 'bathrooms', 'bay', 'bbq', 'bean', 'beans', 'beat', 'beautiful', 'bed', 'beds', 'beef', 'beer', 'beers', 'believe', 'bell', 'bellagio', 'belly', 'benedict', 'best', 'better', 'big', 'bigger', 'biggest', 'birthday', 'bit', 'bite', 'bites', 'black', 'bland', 'blue', 'board', 'boba', 'body', 'bomb', 'bone', 'book', 'booked', 'booth', 'bother', 'bottle', 'bought', 'bowl', 'bowls', 'box', 'boy', 'boyfriend', 'brand', 'bread', 'break', 'breakfast', 'bright', 'bring', 'bringing', 'brisket', 'broken', 'broth', 'brought', 'brown', 'brunch', 'bucks', 'budget', 'buffet', 'buffets', 'building', 'bun', 'bunch', 'burger', 'burgers', 'burnt', 'burrito', 'business', 'busy', 'butter', 'buy', 'buying', 'caesar', 'cafe', 'cake', 'cakes', 'calamari', 'california', 'called', 'calling', 'calls', 'came', 'car', 'card', 'cards', 'care', 'carne', 'carry', 'cars', 'case', 'cash', 'cashier', 'casino', 'casual', 'catch', 'cause', 'center', 'certain', 'certainly', 'chain', 'chair', 'chairs', 'chance', 'change', 'changed', 'changes', 'charge', 'charged', 'charlotte', 'cheap', 'cheaper', 'check', 'checked', 'checking', 'cheese', 'cheesecake', 'chef', 'chewy', 'chicken', 'children', 'chili', 'chill', 'chinese', 'chipotle', 'chips', 'chocolate', 'choice', 'choices', 'choose', 'chose', 'cinnamon', 'city', 'class', 'classic', 'clean', 'cleaned', 'cleaning', 'clear', 'clearly', 'cleveland', 'close', 'closed', 'closer', 'closing', 'club', 'cocktail', 'cocktails', 'coconut', 'coffee', 'cold', 'color', 'combination', 'combo', 'come', 'comes', 'comfortable', 'coming', 'company', 'compared', 'complain', 'complaint', 'complaints', 'complete', 'completely', 'complimentary', 'concept', 'consider', 'considering', 'consistent', 'consistently', 'constantly', 'contact', 'continue', 'convenient', 'conversation', 'cook', 'cooked', 'cookie', 'cookies', 'cooking', 'cool', 'corn', 'corner', 'correct', 'cost', 'couldn', 'counter', 'country', 'couple', 'coupon', 'course', 'courteous', 'cover', 'covered', 'cozy', 'crab', 'craft', 'crap', 'craving', 'crazy', 'cream', 'creamy', 'credit', 'crepe', 'crew', 'crisp', 'crispy', 'crowd', 'crowded', 'crunchy', 'crust', 'cuisine', 'cup', 'curry', 'customer', 'customers', 'cut', 'cute', 'daily', 'damn', 'dance', 'dark', 'date', 'daughter', 'day', 'days', 'deal', 'dealership', 'deals', 'decent', 'decide', 'decided', 'decor', 'deep', 'definitely', 'deli', 'delicious', 'delish', 'delivered', 'delivery', 'department', 'desert', 'design', 'desk', 'despite', 'dessert', 'desserts', 'did', 'didn', 'didnt', 'die', 'difference', 'different', 'difficult', 'dim', 'dine', 'dining', 'dinner', 'dip', 'dirty', 'disappoint', 'disappointed', 'disappointing', 'disappointment', 'discount', 'disgusting', 'dish', 'dishes', 'doctor', 'does', 'doesn', 'dog', 'dogs', 'doing', 'dollar', 'dollars', 'don', 'dont', 'donuts', 'door', 'doors', 'double', 'doubt', 'downtown', 'dr', 'dress', 'dressing', 'drink', 'drinking', 'drinks', 'drive', 'driver', 'driving', 'drop', 'dropped', 'drove', 'dry', 'duck', 'earlier', 'early', 'easily', 'east', 'easy', 'eat', 'eaten', 'eating', 'efficient', 'egg', 'eggs', 'email', 'employee', 'employees', 'end', 'ended', 'english', 'enjoy', 'enjoyable', 'enjoyed', 'entire', 'entrance', 'entree', 'entrees', 'environment', 'especially', 'est', 'establishment', 'et', 'evening', 'event', 'exactly', 'excellent', 'exceptional', 'excited', 'expect', 'expectations', 'expected', 'expecting', 'expensive', 'experience', 'experienced', 'experiences', 'explain', 'explained', 'extra', 'extremely', 'eye', 'eyes', 'fabulous', 'face', 'facility', 'fact', 'fair', 'fairly', 'fall', 'family', 'fan', 'fancy', 'fantastic', 'far', 'fast', 'fat', 'fault', 'favorite', 'favorites', 'favourite', 'fee', 'feel', 'feeling', 'feels', 'feet', 'fell', 'felt', 'figure', 'figured', 'filet', 'filled', 'filling', 'finally', 'finding', 'fine', 'finish', 'finished', 'fish', 'fit', 'fix', 'fixed', 'flat', 'flavor', 'flavorful', 'flavors', 'flavour', 'flight', 'floor', 'folks', 'follow', 'following', 'food', 'foods', 'foot', 'forever', 'forget', 'forgot', 'forward', 'free', 'french', 'fresh', 'friday', 'fried', 'friend', 'friendly', 'friends', 'fries', 'frozen', 'fruit', 'fun', 'funny', 'furniture', 'future', 'game', 'games', 'garage', 'garlic', 'gave', 'gel', 'gem', 'general', 'generally', 'generous', 'gets', 'getting', 'gift', 'girl', 'girlfriend', 'girls', 'given', 'gives', 'giving', 'glad', 'glass', 'glasses', 'gluten', 'god', 'goes', 'going', 'gone', 'good', 'goodness', 'gorgeous', 'got', 'gotten', 'grab', 'gravy', 'greasy', 'great', 'greek', 'green', 'greens', 'greeted', 'grill', 'grilled', 'grocery', 'gross', 'group', 'groupon', 'groups', 'guacamole', 'guess', 'guest', 'guests', 'guy', 'guys', 'gym', 'hadn', 'hair', 'half', 'hand', 'hands', 'hang', 'happen', 'happened', 'happy', 'hard', 'hash', 'hate', 'haven', 'having', 'head', 'health', 'healthy', 'hear', 'heard', 'heart', 'heat', 'heavy', 'hell', 'help', 'helped', 'helpful', 'helping', 'hey', 'hidden', 'high', 'higher', 'highly', 'hit', 'hold', 'hole', 'home', 'homemade', 'honest', 'honestly', 'honey', 'hope', 'hopefully', 'hoping', 'horrible', 'hospital', 'host', 'hostess', 'hot', 'hotel', 'hotels', 'hour', 'hours', 'house', 'hubby', 'huge', 'hummus', 'hungry', 'husband', 'ice', 'iced', 'idea', 'im', 'imagine', 'immediately', 'important', 'impressed', 'impressive', 'included', 'including', 'incredible', 'incredibly', 'indian', 'information', 'informed', 'ingredients', 'inside', 'instead', 'insurance', 'interested', 'interesting', 'interior', 'isn', 'issue', 'issues', 'italian', 'item', 'items', 'japanese', 'job', 'joint', 'joke', 'juice', 'juicy', 'just', 'kept', 'key', 'kick', 'kid', 'kids', 'kind', 'kinda', 'king', 'kitchen', 'knew', 'know', 'knowing', 'knowledgeable', 'known', 'knows', 'korean', 'la', 'lack', 'lacking', 'ladies', 'lady', 'lamb', 'large', 'larger', 'las', 'late', 'later', 'latte', 'le', 'leave', 'leaving', 'left', 'legs', 'lemon', 'let', 'lettuce', 'level', 'life', 'light', 'lighting', 'lights', 'like', 'liked', 'likely', 'limited', 'line', 'lines', 'list', 'literally', 'little', 'live', 'lived', 'living', 'll', 'lobby', 'lobster', 'local', 'located', 'location', 'locations', 'lol', 'long', 'longer', 'look', 'looked', 'looking', 'looks', 'lost', 'lot', 'lots', 'loud', 'lounge', 'love', 'loved', 'lovely', 'loves', 'low', 'lower', 'luck', 'luckily', 'lucky', 'lunch', 'mac', 'machine', 'main', 'major', 'make', 'makes', 'making', 'mall', 'man', 'management', 'manager', 'mango', 'margarita', 'market', 'mashed', 'massage', 'matter', 'maybe', 'mayo', 'meal', 'meals', 'mean', 'means', 'meat', 'meatballs', 'meats', 'mediocre', 'medium', 'meet', 'meh', 'member', 'members', 'men', 'mention', 'mentioned', 'menu', 'menus', 'mess', 'met', 'mexican', 'middle', 'milk', 'min', 'mind', 'mini', 'mins', 'minute', 'minutes', 'miso', 'miss', 'missed', 'missing', 'mistake', 'mix', 'mixed', 'modern', 'moist', 'mom', 'moment', 'monday', 'money', 'month', 'months', 'montreal', 'mood', 'morning', 'mother', 'mouth', 'moved', 'movie', 'moving', 'multiple', 'mushroom', 'mushrooms', 'music', 'nachos', 'nail', 'nails', 'near', 'nearby', 'nearly', 'need', 'needed', 'needless', 'needs', 'negative', 'neighborhood', 'new', 'nice', 'nicely', 'night', 'nights', 'noise', 'non', 'noodle', 'noodles', 'normal', 'normally', 'north', 'notch', 'note', 'notice', 'noticed', 'number', 'obviously', 'odd', 'offer', 'offered', 'offers', 'office', 'oh', 'oil', 'ok', 'okay', 'old', 'older', 'omg', 'ones', 'onion', 'onions', 'online', 'open', 'opened', 'opening', 'opinion', 'opted', 'option', 'options', 'orange', 'order', 'ordered', 'ordering', 'orders', 'original', 'outdoor', 'outside', 'outstanding', 'overall', 'overly', 'overpriced', 'owned', 'owner', 'owners', 'oysters', 'packed', 'pad', 'paid', 'pain', 'pancakes', 'paper', 'par', 'parents', 'park', 'parking', 'particular', 'parts', 'party', 'pass', 'passed', 'past', 'pasta', 'patient', 'patio', 'patrons', 'pay', 'paying', 'pedicure', 'people', 'pepper', 'peppers', 'perfect', 'perfection', 'perfectly', 'person', 'personable', 'personal', 'personally', 'phenomenal', 'pho', 'phoenix', 'phone', 'photos', 'pick', 'picked', 'picky', 'picture', 'pictures', 'pie', 'piece', 'pieces', 'pineapple', 'pita', 'pittsburgh', 'pizza', 'pizzas', 'place', 'placed', 'places', 'plain', 'plan', 'plastic', 'plate', 'plates', 'platter', 'play', 'playing', 'pleasant', 'pleasantly', 'pleased', 'plenty', 'plus', 'pm', 'point', 'poke', 'polish', 'polite', 'pool', 'poor', 'pop', 'popular', 'pork', 'portion', 'portions', 'positive', 'possible', 'post', 'pot', 'potato', 'potatoes', 'pour', 'pre', 'prefer', 'prepared', 'presentation', 'pressure', 'pretty', 'previous', 'price', 'priced', 'prices', 'pricey', 'pricing', 'prime', 'prior', 'private', 'probably', 'problem', 'problems', 'process', 'product', 'products', 'professional', 'prompt', 'promptly', 'properly', 'property', 'provide', 'provided', 'pub', 'pulled', 'purchase', 'purchased', 'putting', 'quality', 'question', 'questions', 'quick', 'quickly', 'quiet', 'quite', 'ramen', 'ran', 'ranch', 'range', 'rare', 'rate', 'rating', 'raw', 'read', 'reading', 'ready', 'real', 'realize', 'realized', 'really', 'reason', 'reasonable', 'reasonably', 'receipt', 'receive', 'received', 'recent', 'recently', 'recommend', 'recommendation', 'recommendations', 'recommended', 'red', 'refill', 'refills', 'refreshing', 'refund', 'refused', 'register', 'regular', 'relaxing', 'remember', 'rent', 'rental', 'repair', 'replaced', 'request', 'requested', 'reservation', 'reservations', 'resort', 'response', 'rest', 'restaurant', 'restaurants', 'results', 'return', 'returned', 'returning', 'review', 'reviews', 'rib', 'ribs', 'rice', 'rich', 'ride', 'ridiculous', 'right', 'rings', 'road', 'roasted', 'rock', 'roll', 'rolls', 'room', 'rooms', 'round', 'rude', 'run', 'running', 'rush', 'rushed', 'sad', 'sadly', 'safe', 'said', 'salad', 'salads', 'sale', 'sales', 'salmon', 'salon', 'salsa', 'salt', 'salty', 'sample', 'sandwich', 'sandwiches', 'sashimi', 'sat', 'satisfied', 'saturday', 'sauce', 'sauces', 'sausage', 'save', 'saw', 'say', 'saying', 'says', 'schedule', 'scheduled', 'school', 'scottsdale', 'screen', 'seafood', 'seasoned', 'seasoning', 'seat', 'seated', 'seating', 'seats', 'second', 'section', 'security', 'seeing', 'seen', 'selection', 'selections', 'self', 'sell', 'send', 'sense', 'sent', 'separate', 'seriously', 'serve', 'served', 'server', 'servers', 'service', 'services', 'serving', 'set', 'setting', 'shake', 'shame', 'share', 'shared', 'shoes', 'shop', 'shopping', 'shops', 'short', 'shot', 'shouldn', 'showed', 'shower', 'shows', 'shrimp', 'sick', 'sides', 'sign', 'similar', 'simple', 'simply', 'single', 'sister', 'sit', 'sitting', 'situation', 'size', 'sized', 'sizes', 'skin', 'slice', 'slices', 'slightly', 'slow', 'small', 'smaller', 'smell', 'smile', 'smoke', 'smoked', 'smooth', 'soda', 'soft', 'soggy', 'sold', 'solid', 'somewhat', 'son', 'soon', 'sorry', 'sort', 'sound', 'soup', 'sour', 'south', 'spa', 'space', 'spacious', 'speak', 'special', 'specials', 'spectacular', 'spend', 'spending', 'spent', 'spice', 'spicy', 'spinach', 'split', 'spoke', 'sports', 'spot', 'spots', 'spring', 'sprouts', 'staff', 'stand', 'standard', 'standing', 'star', 'starbucks', 'stars', 'start', 'started', 'state', 'stated', 'station', 'stay', 'stayed', 'staying', 'steak', 'steaks', 'step', 'stick', 'stood', 'stop', 'stopped', 'store', 'stores', 'story', 'straight', 'strawberry', 'street', 'strip', 'strong', 'stuck', 'stuff', 'stuffed', 'style', 'sub', 'sucks', 'sugar', 'suggest', 'suggested', 'suite', 'summer', 'sun', 'sunday', 'super', 'support', 'supposed', 'sure', 'surprise', 'surprised', 'surprisingly', 'sushi', 'sweet', 'table', 'tables', 'taco', 'tacos', 'taken', 'takeout', 'takes', 'taking', 'talk', 'talked', 'talking', 'tap', 'taste', 'tasted', 'tastes', 'tasting', 'tasty', 'tax', 'tea', 'team', 'tech', 'tell', 'telling', 'tempura', 'tender', 'terrible', 'texture', 'thai', 'thank', 'thanks', 'theater', 'thing', 'things', 'think', 'thinking', 'thought', 'thursday', 'ticket', 'tickets', 'time', 'times', 'tiny', 'tip', 'tire', 'tires', 'toast', 'today', 'tofu', 'told', 'tomato', 'tomatoes', 'ton', 'tonight', 'tons', 'took', 'topped', 'toppings', 'toronto', 'total', 'totally', 'touch', 'tough', 'tower', 'town', 'traditional', 'training', 'travel', 'treat', 'treated', 'treatment', 'tried', 'trip', 'truck', 'true', 'truly', 'trust', 'try', 'trying', 'tuesday', 'tuna', 'turkey', 'turn', 'turned', 'tv', 'twice', 'type', 'types', 'typical', 'typically', 'uncomfortable', 'understand', 'unfortunately', 'unique', 'unless', 'unprofessional', 'update', 'upset', 'use', 'used', 'using', 'usual', 'usually', 'valet', 'valley', 'value', 'vanilla', 'variety', 'various', 've', 'vegan', 'vegas', 'vegetables', 'vegetarian', 'veggie', 'veggies', 'vehicle', 'venue', 'version', 'vibe', 'view', 'visit', 'visited', 'visiting', 'visits', 'waffle', 'waffles', 'wait', 'waited', 'waiter', 'waiting', 'waitress', 'waitresses', 'walk', 'walked', 'walking', 'wall', 'walls', 'want', 'wanted', 'wanting', 'wants', 'warm', 'warranty', 'wash', 'wasn', 'waste', 'watch', 'watching', 'water', 'way', 'website', 'wedding', 'wednesday', 'week', 'weekend', 'weekends', 'weeks', 'weird', 'welcome', 'welcoming', 'went', 'weren', 'west', 'white', 'wide', 'wife', 'wifi', 'willing', 'window', 'windows', 'wine', 'wings', 'wish', 'woman', 'women', 'won', 'wonderful', 'word', 'words', 'work', 'worked', 'workers', 'working', 'works', 'world', 'worse', 'worst', 'worth', 'wouldn', 'wow', 'wrap', 'write', 'writing', 'wrong', 'wynn', 'yeah', 'year', 'years', 'yelp', 'yes', 'yesterday', 'york', 'young', 'yum', 'yummy', 'zero']\n",
      "IDF Vectorized 21,000 businesses review texts in 202.540027 seconds\n",
      "\n",
      "Training Shape: (10000, 1500)\n",
      "Validate Shape: (1000, 1500)\n",
      "Testing Shape: (10000, 1500)\n"
     ]
    }
   ],
   "source": [
    "# metrics\n",
    "start_time = time()\n",
    "\n",
    "# construct vectorizer\n",
    "vectorizer: TfidfVectorizer = TfidfVectorizer(\n",
    "    # maximum word features\n",
    "    max_features=1500,\n",
    "    # prune english stop words\n",
    "    stop_words='english',\n",
    ")\n",
    "\n",
    "# construct corpus partitions\n",
    "tf_input = {\n",
    "    category: getattr(vectorizer, 'fit_transform' if category == 'train' else 'transform')\n",
    "              (['\\n'.join(business_review_texts[business['business_id']]) for business in partition])\n",
    "              .toarray()\n",
    "    for category, partition in partitions.items()\n",
    "}\n",
    "\n",
    "# metrics\n",
    "print(f\"Word features cardinality: {len(vectorizer.get_feature_names()):,}\")\n",
    "print(f\"Word features: {vectorizer.get_feature_names()}\")\n",
    "print(f\"IDF Vectorized {sum([len(matrix) for matrix in tf_input.values()]):,} businesses review texts in {time() - start_time:.6f} seconds\")\n",
    "print()\n",
    "print(f\"Training Shape: {tf_input['train'].shape}\")\n",
    "print(f\"Validate Shape: {tf_input['validate'].shape}\")\n",
    "print(f\"Testing Shape: {tf_input['test'].shape}\")"
   ],
   "metadata": {
    "collapsed": false,
    "pycharm": {
     "name": "#%%\n"
    }
   }
  },
  {
   "cell_type": "markdown",
   "source": [
    "### Output Features: Select Star Rating"
   ],
   "metadata": {
    "collapsed": false
   }
  },
  {
   "cell_type": "code",
   "execution_count": 27,
   "outputs": [
    {
     "name": "stdout",
     "output_type": "stream",
     "text": [
      "Training Shape: (10000, 1)\n",
      "Validate Shape: (1000, 1)\n",
      "Testing Shape: (10000, 1)\n"
     ]
    }
   ],
   "source": [
    "tf_output = {\n",
    "    category: numpy.array([[business['stars']] for business in partition])\n",
    "    for category, partition in partitions.items()\n",
    "}\n",
    "\n",
    "print(f\"Training Shape: {tf_output['train'].shape}\")\n",
    "print(f\"Validate Shape: {tf_output['validate'].shape}\")\n",
    "print(f\"Testing Shape: {tf_output['test'].shape}\")"
   ],
   "metadata": {
    "collapsed": false,
    "pycharm": {
     "name": "#%%\n"
    }
   }
  },
  {
   "cell_type": "markdown",
   "source": [
    "<hr style=\"border-top: 1px solid #444\">"
   ],
   "metadata": {
    "collapsed": false
   }
  },
  {
   "cell_type": "markdown",
   "source": [
    "# IV. Model Training"
   ],
   "metadata": {
    "collapsed": false
   }
  },
  {
   "cell_type": "markdown",
   "source": [
    "## Build Model"
   ],
   "metadata": {
    "collapsed": false,
    "pycharm": {
     "name": "#%% md\n"
    }
   }
  },
  {
   "cell_type": "code",
   "execution_count": 28,
   "outputs": [
    {
     "name": "stdout",
     "output_type": "stream",
     "text": [
      "Model: \"yelp_regression\"\n",
      "_________________________________________________________________\n",
      "Layer (type)                 Output Shape              Param #   \n",
      "=================================================================\n",
      "dense_4 (Dense)              (None, 64)                96064     \n",
      "_________________________________________________________________\n",
      "dense_5 (Dense)              (None, 32)                2080      \n",
      "_________________________________________________________________\n",
      "dense_6 (Dense)              (None, 16)                528       \n",
      "_________________________________________________________________\n",
      "dense_7 (Dense)              (None, 1)                 17        \n",
      "=================================================================\n",
      "Total params: 98,689\n",
      "Trainable params: 98,689\n",
      "Non-trainable params: 0\n",
      "_________________________________________________________________\n"
     ]
    }
   ],
   "source": [
    "# build model\n",
    "model = Sequential(\n",
    "    [\n",
    "        Dense(64, input_dim=tf_input['train'].shape[1]),\n",
    "        Dense(32, activation='relu'),\n",
    "        Dense(16, activation='relu'),\n",
    "        Dense(1)\n",
    "    ],\n",
    "    name=\"yelp_regression\"\n",
    ")\n",
    "# set optimizer for gradient descent\n",
    "model.compile(loss='mean_squared_error', optimizer='sgd', metrics=['mse'])\n",
    "\n",
    "# print model summary\n",
    "model.summary()"
   ],
   "metadata": {
    "collapsed": false,
    "pycharm": {
     "name": "#%%\n"
    }
   }
  },
  {
   "cell_type": "markdown",
   "source": [
    "## Train Model"
   ],
   "metadata": {
    "collapsed": false,
    "pycharm": {
     "name": "#%% md\n"
    }
   }
  },
  {
   "cell_type": "code",
   "execution_count": 29,
   "outputs": [
    {
     "name": "stdout",
     "output_type": "stream",
     "text": [
      "Model trained in 119.387771 seconds\n"
     ]
    },
    {
     "data": {
      "text/plain": "<IPython.core.display.HTML object>",
      "text/html": "    <details>        <summary><b>Training Details</b></summary>        <sub><sup>            Epoch 1/1000<br>313/313 - 1s - loss: 0.9769 - mse: 0.9769 - val_loss: 0.4530 - val_mse: 0.4530<br>Epoch 2/1000<br>313/313 - 1s - loss: 0.2741 - mse: 0.2741 - val_loss: 0.2184 - val_mse: 0.2184<br>Epoch 3/1000<br>313/313 - 1s - loss: 0.1646 - mse: 0.1646 - val_loss: 0.1683 - val_mse: 0.1683<br>Epoch 4/1000<br>313/313 - 1s - loss: 0.1417 - mse: 0.1417 - val_loss: 0.1639 - val_mse: 0.1639<br>Epoch 5/1000<br>313/313 - 1s - loss: 0.1309 - mse: 0.1309 - val_loss: 0.1312 - val_mse: 0.1312<br>Epoch 6/1000<br>313/313 - 1s - loss: 0.1220 - mse: 0.1220 - val_loss: 0.1415 - val_mse: 0.1415<br>Epoch 7/1000<br>313/313 - 1s - loss: 0.1143 - mse: 0.1143 - val_loss: 0.1210 - val_mse: 0.1210<br>Epoch 8/1000<br>313/313 - 1s - loss: 0.1097 - mse: 0.1097 - val_loss: 0.1479 - val_mse: 0.1479<br>Epoch 9/1000<br>313/313 - 1s - loss: 0.1045 - mse: 0.1045 - val_loss: 0.1201 - val_mse: 0.1201<br>Epoch 10/1000<br>313/313 - 1s - loss: 0.1005 - mse: 0.1005 - val_loss: 0.1122 - val_mse: 0.1122<br>Epoch 11/1000<br>313/313 - 1s - loss: 0.0973 - mse: 0.0973 - val_loss: 0.1310 - val_mse: 0.1310<br>Epoch 12/1000<br>313/313 - 1s - loss: 0.0941 - mse: 0.0941 - val_loss: 0.1135 - val_mse: 0.1135<br>Epoch 13/1000<br>313/313 - 1s - loss: 0.0920 - mse: 0.0920 - val_loss: 0.1055 - val_mse: 0.1055<br>Epoch 14/1000<br>313/313 - 1s - loss: 0.0882 - mse: 0.0882 - val_loss: 0.1052 - val_mse: 0.1052<br>Epoch 15/1000<br>313/313 - 1s - loss: 0.0871 - mse: 0.0871 - val_loss: 0.1034 - val_mse: 0.1034<br>Epoch 16/1000<br>313/313 - 1s - loss: 0.0854 - mse: 0.0854 - val_loss: 0.1308 - val_mse: 0.1308<br>Epoch 17/1000<br>313/313 - 1s - loss: 0.0839 - mse: 0.0839 - val_loss: 0.1317 - val_mse: 0.1317<br>Epoch 18/1000<br>313/313 - 1s - loss: 0.0817 - mse: 0.0817 - val_loss: 0.1060 - val_mse: 0.1060<br>Epoch 19/1000<br>313/313 - 1s - loss: 0.0806 - mse: 0.0806 - val_loss: 0.1342 - val_mse: 0.1342<br>Epoch 20/1000<br>313/313 - 1s - loss: 0.0795 - mse: 0.0795 - val_loss: 0.1135 - val_mse: 0.1135<br>Epoch 21/1000<br>313/313 - 1s - loss: 0.0779 - mse: 0.0779 - val_loss: 0.1006 - val_mse: 0.1006<br>Epoch 22/1000<br>313/313 - 1s - loss: 0.0762 - mse: 0.0762 - val_loss: 0.0964 - val_mse: 0.0964<br>Epoch 23/1000<br>313/313 - 1s - loss: 0.0754 - mse: 0.0754 - val_loss: 0.1016 - val_mse: 0.1016<br>Epoch 24/1000<br>313/313 - 1s - loss: 0.0758 - mse: 0.0758 - val_loss: 0.1030 - val_mse: 0.1030<br>Epoch 25/1000<br>313/313 - 1s - loss: 0.0736 - mse: 0.0736 - val_loss: 0.0980 - val_mse: 0.0980<br>Epoch 26/1000<br>313/313 - 1s - loss: 0.0736 - mse: 0.0736 - val_loss: 0.1028 - val_mse: 0.1028<br>Epoch 27/1000<br>313/313 - 1s - loss: 0.0730 - mse: 0.0730 - val_loss: 0.0954 - val_mse: 0.0954<br>Epoch 28/1000<br>313/313 - 1s - loss: 0.0721 - mse: 0.0721 - val_loss: 0.1013 - val_mse: 0.1013<br>Epoch 29/1000<br>313/313 - 1s - loss: 0.0703 - mse: 0.0703 - val_loss: 0.0937 - val_mse: 0.0937<br>Epoch 30/1000<br>313/313 - 1s - loss: 0.0700 - mse: 0.0700 - val_loss: 0.1079 - val_mse: 0.1079<br>Epoch 31/1000<br>313/313 - 1s - loss: 0.0701 - mse: 0.0701 - val_loss: 0.0954 - val_mse: 0.0954<br>Epoch 32/1000<br>313/313 - 1s - loss: 0.0687 - mse: 0.0687 - val_loss: 0.0934 - val_mse: 0.0934<br>Epoch 33/1000<br>313/313 - 1s - loss: 0.0686 - mse: 0.0686 - val_loss: 0.1254 - val_mse: 0.1254<br>Epoch 34/1000<br>313/313 - 1s - loss: 0.0679 - mse: 0.0679 - val_loss: 0.1038 - val_mse: 0.1038<br>Epoch 35/1000<br>313/313 - 1s - loss: 0.0683 - mse: 0.0683 - val_loss: 0.1040 - val_mse: 0.1040<br>Epoch 36/1000<br>313/313 - 1s - loss: 0.0671 - mse: 0.0671 - val_loss: 0.1144 - val_mse: 0.1144<br>Epoch 37/1000<br>313/313 - 1s - loss: 0.0663 - mse: 0.0663 - val_loss: 0.0916 - val_mse: 0.0916<br>Epoch 38/1000<br>313/313 - 1s - loss: 0.0666 - mse: 0.0666 - val_loss: 0.0932 - val_mse: 0.0932<br>Epoch 39/1000<br>313/313 - 1s - loss: 0.0656 - mse: 0.0656 - val_loss: 0.0971 - val_mse: 0.0971<br>Epoch 40/1000<br>313/313 - 1s - loss: 0.0662 - mse: 0.0662 - val_loss: 0.0902 - val_mse: 0.0902<br>Epoch 41/1000<br>313/313 - 1s - loss: 0.0656 - mse: 0.0656 - val_loss: 0.0919 - val_mse: 0.0919<br>Epoch 42/1000<br>313/313 - 1s - loss: 0.0643 - mse: 0.0643 - val_loss: 0.0907 - val_mse: 0.0907<br>Epoch 43/1000<br>313/313 - 1s - loss: 0.0653 - mse: 0.0653 - val_loss: 0.0898 - val_mse: 0.0898<br>Epoch 44/1000<br>313/313 - 1s - loss: 0.0636 - mse: 0.0636 - val_loss: 0.0921 - val_mse: 0.0921<br>Epoch 45/1000<br>313/313 - 1s - loss: 0.0628 - mse: 0.0628 - val_loss: 0.0928 - val_mse: 0.0928<br>Epoch 46/1000<br>313/313 - 1s - loss: 0.0630 - mse: 0.0630 - val_loss: 0.0904 - val_mse: 0.0904<br>Epoch 47/1000<br>313/313 - 1s - loss: 0.0625 - mse: 0.0625 - val_loss: 0.1144 - val_mse: 0.1144<br>Epoch 48/1000<br>313/313 - 2s - loss: 0.0628 - mse: 0.0628 - val_loss: 0.0917 - val_mse: 0.0917<br>Epoch 49/1000<br>313/313 - 1s - loss: 0.0626 - mse: 0.0626 - val_loss: 0.0903 - val_mse: 0.0903<br>Epoch 50/1000<br>313/313 - 1s - loss: 0.0621 - mse: 0.0621 - val_loss: 0.1019 - val_mse: 0.1019<br>Epoch 51/1000<br>313/313 - 1s - loss: 0.0606 - mse: 0.0606 - val_loss: 0.0899 - val_mse: 0.0899<br>Epoch 52/1000<br>313/313 - 1s - loss: 0.0602 - mse: 0.0602 - val_loss: 0.1066 - val_mse: 0.1066<br>Epoch 53/1000<br>313/313 - 1s - loss: 0.0616 - mse: 0.0616 - val_loss: 0.0912 - val_mse: 0.0912<br>Epoch 54/1000<br>313/313 - 1s - loss: 0.0612 - mse: 0.0612 - val_loss: 0.0897 - val_mse: 0.0897<br>Epoch 55/1000<br>313/313 - 1s - loss: 0.0606 - mse: 0.0606 - val_loss: 0.0976 - val_mse: 0.0976<br>Epoch 56/1000<br>313/313 - 1s - loss: 0.0601 - mse: 0.0601 - val_loss: 0.0946 - val_mse: 0.0946<br>Epoch 57/1000<br>313/313 - 1s - loss: 0.0601 - mse: 0.0601 - val_loss: 0.1296 - val_mse: 0.1296<br>Epoch 58/1000<br>313/313 - 1s - loss: 0.0591 - mse: 0.0591 - val_loss: 0.1090 - val_mse: 0.1090<br>Epoch 59/1000<br>313/313 - 1s - loss: 0.0592 - mse: 0.0592 - val_loss: 0.0896 - val_mse: 0.0896<br>Epoch 60/1000<br>313/313 - 1s - loss: 0.0595 - mse: 0.0595 - val_loss: 0.1226 - val_mse: 0.1226<br>Epoch 61/1000<br>313/313 - 1s - loss: 0.0596 - mse: 0.0596 - val_loss: 0.0935 - val_mse: 0.0935<br>Epoch 62/1000<br>313/313 - 1s - loss: 0.0583 - mse: 0.0583 - val_loss: 0.1120 - val_mse: 0.1120<br>Epoch 63/1000<br>313/313 - 1s - loss: 0.0593 - mse: 0.0593 - val_loss: 0.1026 - val_mse: 0.1026<br>Epoch 64/1000<br>313/313 - 1s - loss: 0.0590 - mse: 0.0590 - val_loss: 0.0889 - val_mse: 0.0889<br>Epoch 65/1000<br>313/313 - 1s - loss: 0.0587 - mse: 0.0587 - val_loss: 0.0978 - val_mse: 0.0978<br>Epoch 66/1000<br>313/313 - 1s - loss: 0.0573 - mse: 0.0573 - val_loss: 0.0891 - val_mse: 0.0891<br>Epoch 67/1000<br>313/313 - 1s - loss: 0.0569 - mse: 0.0569 - val_loss: 0.0892 - val_mse: 0.0892<br>Epoch 68/1000<br>313/313 - 1s - loss: 0.0568 - mse: 0.0568 - val_loss: 0.0893 - val_mse: 0.0893<br>Epoch 69/1000<br>313/313 - 1s - loss: 0.0567 - mse: 0.0567 - val_loss: 0.0901 - val_mse: 0.0901<br>Epoch 70/1000<br>313/313 - 1s - loss: 0.0574 - mse: 0.0574 - val_loss: 0.0983 - val_mse: 0.0983<br>Epoch 71/1000<br>313/313 - 1s - loss: 0.0564 - mse: 0.0564 - val_loss: 0.0906 - val_mse: 0.0906<br>Epoch 72/1000<br>313/313 - 1s - loss: 0.0565 - mse: 0.0565 - val_loss: 0.0892 - val_mse: 0.0892<br>Epoch 73/1000<br>313/313 - 1s - loss: 0.0568 - mse: 0.0568 - val_loss: 0.0890 - val_mse: 0.0890<br>Epoch 74/1000<br>313/313 - 1s - loss: 0.0558 - mse: 0.0558 - val_loss: 0.0889 - val_mse: 0.0889<br>Epoch 75/1000<br>313/313 - 1s - loss: 0.0550 - mse: 0.0550 - val_loss: 0.0908 - val_mse: 0.0908<br>Epoch 76/1000<br>313/313 - 1s - loss: 0.0556 - mse: 0.0556 - val_loss: 0.0992 - val_mse: 0.0992<br>Epoch 77/1000<br>313/313 - 1s - loss: 0.0549 - mse: 0.0549 - val_loss: 0.0912 - val_mse: 0.0912<br>Epoch 78/1000<br>313/313 - 1s - loss: 0.0541 - mse: 0.0541 - val_loss: 0.0962 - val_mse: 0.0962<br>Epoch 79/1000<br>313/313 - 1s - loss: 0.0545 - mse: 0.0545 - val_loss: 0.0990 - val_mse: 0.0990<br>Epoch 80/1000<br>313/313 - 1s - loss: 0.0553 - mse: 0.0553 - val_loss: 0.0900 - val_mse: 0.0900<br>Epoch 81/1000<br>313/313 - 1s - loss: 0.0550 - mse: 0.0550 - val_loss: 0.0902 - val_mse: 0.0902<br>Epoch 82/1000<br>313/313 - 1s - loss: 0.0550 - mse: 0.0550 - val_loss: 0.0892 - val_mse: 0.0892<br>Epoch 83/1000<br>313/313 - 1s - loss: 0.0547 - mse: 0.0547 - val_loss: 0.0903 - val_mse: 0.0903<br>Epoch 84/1000<br>313/313 - 1s - loss: 0.0548 - mse: 0.0548 - val_loss: 0.0888 - val_mse: 0.0888<br>Epoch 85/1000<br>313/313 - 1s - loss: 0.0527 - mse: 0.0527 - val_loss: 0.0958 - val_mse: 0.0958<br>Epoch 86/1000<br>313/313 - 1s - loss: 0.0531 - mse: 0.0531 - val_loss: 0.1097 - val_mse: 0.1097<br>Epoch 87/1000<br>313/313 - 1s - loss: 0.0540 - mse: 0.0540 - val_loss: 0.0931 - val_mse: 0.0931<br>Epoch 88/1000<br>313/313 - 1s - loss: 0.0533 - mse: 0.0533 - val_loss: 0.0903 - val_mse: 0.0903<br>Epoch 89/1000<br>313/313 - 1s - loss: 0.0525 - mse: 0.0525 - val_loss: 0.1093 - val_mse: 0.1093<br>Epoch 90/1000<br>313/313 - 1s - loss: 0.0528 - mse: 0.0528 - val_loss: 0.0926 - val_mse: 0.0926<br>Epoch 91/1000<br>313/313 - 1s - loss: 0.0528 - mse: 0.0528 - val_loss: 0.0951 - val_mse: 0.0951<br>Epoch 92/1000<br>313/313 - 1s - loss: 0.0514 - mse: 0.0514 - val_loss: 0.1022 - val_mse: 0.1022<br>Epoch 93/1000<br>313/313 - 1s - loss: 0.0516 - mse: 0.0516 - val_loss: 0.0894 - val_mse: 0.0894<br>Epoch 94/1000<br>313/313 - 1s - loss: 0.0521 - mse: 0.0521 - val_loss: 0.0949 - val_mse: 0.0949<br>Epoch 95/1000<br>313/313 - 1s - loss: 0.0511 - mse: 0.0511 - val_loss: 0.0897 - val_mse: 0.0897<br>Epoch 96/1000<br>313/313 - 1s - loss: 0.0511 - mse: 0.0511 - val_loss: 0.0938 - val_mse: 0.0938<br>Epoch 97/1000<br>313/313 - 1s - loss: 0.0522 - mse: 0.0522 - val_loss: 0.0937 - val_mse: 0.0937<br>Epoch 98/1000<br>313/313 - 1s - loss: 0.0506 - mse: 0.0506 - val_loss: 0.0910 - val_mse: 0.0910<br>Epoch 99/1000<br>313/313 - 1s - loss: 0.0505 - mse: 0.0505 - val_loss: 0.0932 - val_mse: 0.0932<br>Epoch 100/1000<br>313/313 - 1s - loss: 0.0512 - mse: 0.0512 - val_loss: 0.0909 - val_mse: 0.0909<br>Epoch 101/1000<br>313/313 - 1s - loss: 0.0512 - mse: 0.0512 - val_loss: 0.0927 - val_mse: 0.0927<br>Epoch 102/1000<br>313/313 - 1s - loss: 0.0504 - mse: 0.0504 - val_loss: 0.0917 - val_mse: 0.0917<br>Epoch 103/1000<br>313/313 - 1s - loss: 0.0497 - mse: 0.0497 - val_loss: 0.0951 - val_mse: 0.0951<br>Epoch 104/1000<br>313/313 - 1s - loss: 0.0502 - mse: 0.0502 - val_loss: 0.0911 - val_mse: 0.0911<br>Epoch 105/1000<br>313/313 - 1s - loss: 0.0493 - mse: 0.0493 - val_loss: 0.0971 - val_mse: 0.0971<br>Epoch 106/1000<br>313/313 - 1s - loss: 0.0500 - mse: 0.0500 - val_loss: 0.0909 - val_mse: 0.0909<br>Epoch 107/1000<br>313/313 - 1s - loss: 0.0487 - mse: 0.0487 - val_loss: 0.0937 - val_mse: 0.0937<br>Epoch 108/1000<br>313/313 - 1s - loss: 0.0503 - mse: 0.0503 - val_loss: 0.0907 - val_mse: 0.0907<br>Epoch 109/1000<br>313/313 - 1s - loss: 0.0495 - mse: 0.0495 - val_loss: 0.0926 - val_mse: 0.0926<br>Epoch 110/1000<br>313/313 - 1s - loss: 0.0497 - mse: 0.0497 - val_loss: 0.1064 - val_mse: 0.1064<br>Epoch 111/1000<br>313/313 - 1s - loss: 0.0483 - mse: 0.0483 - val_loss: 0.0914 - val_mse: 0.0914<br>Epoch 112/1000<br>313/313 - 1s - loss: 0.0485 - mse: 0.0485 - val_loss: 0.0926 - val_mse: 0.0926<br>Epoch 113/1000<br>313/313 - 1s - loss: 0.0490 - mse: 0.0490 - val_loss: 0.0981 - val_mse: 0.0981<br>Epoch 114/1000<br>313/313 - 1s - loss: 0.0485 - mse: 0.0485 - val_loss: 0.0910 - val_mse: 0.0910        </sup></sub>    </details>"
     },
     "metadata": {},
     "output_type": "display_data"
    }
   ],
   "source": [
    "# metrics\n",
    "start_time = time()\n",
    "\n",
    "# replace standard out for intercepting model training logs\n",
    "sys.stdout = captured_stdout = StringIO()\n",
    "\n",
    "try:\n",
    "    # make temporary directory for saved model\n",
    "    if not os.path.exists(\"temp\"):\n",
    "        os.mkdir(\"temp\")\n",
    "\n",
    "    # perform model training\n",
    "    model.fit(\n",
    "        # training data\n",
    "        tf_input['train'], tf_output['train'],\n",
    "        # use test data to validate losses, but not for training\n",
    "        validation_data=(tf_input['validate'], tf_output['validate']),\n",
    "        callbacks=[\n",
    "            # patience: number of epochs with no improvement after which training will be stopped\n",
    "            EarlyStopping(monitor='val_loss', min_delta=1e-3, patience=50, mode='auto', verbose=0),\n",
    "            # save best model from all epochs\n",
    "            ModelCheckpoint(filepath=\"temp/model_best_weights.hdf5\", save_best_only=True, verbose=0)\n",
    "        ],\n",
    "        verbose=2,\n",
    "        epochs=1000,\n",
    "    )\n",
    "finally:\n",
    "    # restore standard out\n",
    "    sys.stdout = original_stdout\n",
    "\n",
    "# metrics\n",
    "print(f\"Model trained in {time() - start_time:.6f} seconds\")\n",
    "# noinspection PyTypeChecker\n",
    "display(HTML(f'\\\n",
    "    <details>\\\n",
    "        <summary><b>Training Details</b></summary>\\\n",
    "        <sub><sup>\\\n",
    "            {\"<br>\".join(captured_stdout.getvalue().splitlines())}\\\n",
    "        </sup></sub>\\\n",
    "    </details>\\\n",
    "'))"
   ],
   "metadata": {
    "collapsed": false,
    "pycharm": {
     "name": "#%%\n"
    }
   }
  },
  {
   "cell_type": "markdown",
   "source": [
    "<hr style=\"border-top: 1px solid #444\">"
   ],
   "metadata": {
    "collapsed": false,
    "pycharm": {
     "name": "#%% md\n"
    }
   }
  },
  {
   "cell_type": "markdown",
   "source": [
    "# V. Model Testing"
   ],
   "metadata": {
    "collapsed": false,
    "pycharm": {
     "name": "#%% md\n"
    }
   }
  },
  {
   "cell_type": "markdown",
   "source": [
    "## Model Predictions"
   ],
   "metadata": {
    "collapsed": false
   }
  },
  {
   "cell_type": "code",
   "execution_count": 30,
   "outputs": [
    {
     "name": "stdout",
     "output_type": "stream",
     "text": [
      "Predicted 10,000 business ratings in 0.812684 seconds\n"
     ]
    }
   ],
   "source": [
    "# metrics\n",
    "start_time = time()\n",
    "\n",
    "# load best model for prediction\n",
    "model.load_weights(\"temp/model_best_weights.hdf5\")\n",
    "\n",
    "# compute predicted ratings for test dataset\n",
    "predicted = model.predict(tf_input['test'])\n",
    "# map predictions to the nearest half-star\n",
    "predicted_rounded = numpy.array([min(round(prediction * 2) / 2, 5) for prediction in predicted.flatten()])\n",
    "\n",
    "# metrics\n",
    "print(f\"Predicted {len(tf_input['test']):,} business ratings in {time() - start_time:.6f} seconds\")"
   ],
   "metadata": {
    "collapsed": false,
    "pycharm": {
     "name": "#%%\n"
    }
   }
  },
  {
   "cell_type": "markdown",
   "source": [
    "## Error Scoring (MSE/RSME)"
   ],
   "metadata": {
    "collapsed": false,
    "pycharm": {
     "name": "#%% md\n"
    }
   }
  },
  {
   "cell_type": "code",
   "execution_count": 31,
   "outputs": [
    {
     "data": {
      "text/plain": "      Continuous  Discrete\nMSE     0.087443  0.105975\nRSME    0.295707  0.325538",
      "text/html": "<div>\n<style scoped>\n    .dataframe tbody tr th:only-of-type {\n        vertical-align: middle;\n    }\n\n    .dataframe tbody tr th {\n        vertical-align: top;\n    }\n\n    .dataframe thead th {\n        text-align: right;\n    }\n</style>\n<table border=\"1\" class=\"dataframe\">\n  <thead>\n    <tr style=\"text-align: right;\">\n      <th></th>\n      <th>Continuous</th>\n      <th>Discrete</th>\n    </tr>\n  </thead>\n  <tbody>\n    <tr>\n      <th>MSE</th>\n      <td>0.087443</td>\n      <td>0.105975</td>\n    </tr>\n    <tr>\n      <th>RSME</th>\n      <td>0.295707</td>\n      <td>0.325538</td>\n    </tr>\n  </tbody>\n</table>\n</div>"
     },
     "execution_count": 31,
     "metadata": {},
     "output_type": "execute_result"
    }
   ],
   "source": [
    "mse_score = sklearn.metrics.mean_squared_error(predicted, tf_output['test'])\n",
    "mse_rounded_score = sklearn.metrics.mean_squared_error(predicted_rounded, tf_output['test'])\n",
    "\n",
    "pandas.DataFrame(\n",
    "    [\n",
    "        [mse_score, mse_rounded_score],\n",
    "        numpy.sqrt([mse_score, mse_rounded_score])\n",
    "    ],\n",
    "    columns=[\"Continuous\", \"Discrete\"],\n",
    "    index=[\"MSE\", \"RSME\"]\n",
    ")"
   ],
   "metadata": {
    "collapsed": false,
    "pycharm": {
     "name": "#%%\n"
    }
   }
  },
  {
   "cell_type": "markdown",
   "source": [
    "## Lift Chart Visualization"
   ],
   "metadata": {
    "collapsed": false,
    "pycharm": {
     "name": "#%% md\n"
    }
   }
  },
  {
   "cell_type": "code",
   "execution_count": 32,
   "outputs": [
    {
     "data": {
      "text/plain": "<Figure size 864x288 with 2 Axes>",
      "image/png": "[encoded data removed]"
     },
     "metadata": {
      "needs_background": "light"
     },
     "output_type": "display_data"
    }
   ],
   "source": [
    "figure = pyplot.figure(figsize=(12, 4))\n",
    "\n",
    "axes = figure.add_subplot(1, 2, 1)\n",
    "axes.set_title(\"Continuous Predictions\")\n",
    "axes.set_xlabel(\"businesses, ordered by ascending star rating\")\n",
    "axes.set_ylabel(\"star rating \")\n",
    "table = pandas.DataFrame({'predicted': predicted.flatten(), 'y': tf_output['test'].flatten()})\n",
    "table.sort_values(by=['y'], inplace=True)\n",
    "axes.plot(table['predicted'].tolist(), label=\"prediction\")\n",
    "axes.plot(table['y'].tolist(), label=\"expected\")\n",
    "axes.legend()\n",
    "\n",
    "axes = figure.add_subplot(1, 2, 2)\n",
    "axes.set_title(\"Discrete Predictions\")\n",
    "axes.set_xlabel(\"businesses, ordered by ascending star rating\")\n",
    "axes.set_ylabel(\"star rating\")\n",
    "table = pandas.DataFrame({'predicted': predicted_rounded.flatten(), 'y': tf_output['test'].flatten()})\n",
    "table.sort_values(by=['y'], inplace=True)\n",
    "axes.plot(table['predicted'].tolist(), label=\"prediction\")\n",
    "axes.plot(table['y'].tolist(), label=\"expected\")\n",
    "axes.legend()\n",
    "\n",
    "pyplot.show()"
   ],
   "metadata": {
    "collapsed": false,
    "pycharm": {
     "name": "#%%\n"
    }
   }
  }
 ],
 "metadata": {
  "kernelspec": {
   "display_name": "Python 3",
   "language": "python",
   "name": "python3"
  },
  "language_info": {
   "codemirror_mode": {
    "name": "ipython",
    "version": 3
   },
   "file_extension": ".py",
   "mimetype": "text/x-python",
   "name": "python",
   "nbconvert_exporter": "python",
   "pygments_lexer": "ipython3",
   "version": "3.7.3"
  }
 },
 "nbformat": 4,
 "nbformat_minor": 2
}