{
 "cells": [
  {
   "cell_type": "markdown",
   "metadata": {
    "pycharm": {
     "name": "#%% md\n"
    }
   },
   "source": [
    "<h1 style=\"text-align: center\">Yelp Rating Prediction</h1>\n",
    "<hr style=\"border-top: 1px solid #444\">"
   ]
  },
  {
   "cell_type": "markdown",
   "source": [
    "## Development Environment"
   ],
   "metadata": {
    "collapsed": false,
    "pycharm": {
     "name": "#%% md\n"
    }
   }
  },
  {
   "cell_type": "code",
   "source": [
    "# python typings\n",
    "from typing import TypedDict, Dict, List\n",
    "import sys, os, json, time\n",
    "# libraries\n",
    "import numpy, pandas, sklearn, tensorflow\n",
    "import matplotlib.pyplot as pyplot\n",
    "print(f\"Python: {sys.version}\")\n",
    "print(f\"Numpy {numpy.__version__}\")\n",
    "print(f\"Pandas {pandas.__version__}\")\n",
    "print(f\"Scikit-Learn {sklearn.__version__}\")\n",
    "print(f\"Tensor Flow Version: {tensorflow.__version__} (Keras Version: {tensorflow.keras.__version__})\")\n",
    "# store standard output\n",
    "original_stdout = sys.stdout"
   ],
   "metadata": {
    "collapsed": false,
    "pycharm": {
     "name": "#%%\n"
    }
   },
   "execution_count": 1,
   "outputs": [
    {
     "name": "stdout",
     "output_type": "stream",
     "text": [
      "Python: 3.8.5 (tags/v3.8.5:580fbb0, Jul 20 2020, 15:57:54) [MSC v.1924 64 bit (AMD64)]\n",
      "Numpy 1.18.5\n",
      "Pandas 1.1.1\n",
      "Scikit-Learn 0.23.2\n",
      "Tensor Flow Version: 2.3.0 (Keras Version: 2.4.0)\n"
     ]
    }
   ]
  },
  {
   "cell_type": "markdown",
   "source": [
    "<hr style=\"border-top: 1px solid #444\">"
   ],
   "metadata": {
    "collapsed": false,
    "pycharm": {
     "name": "#%% md\n"
    }
   }
  },
  {
   "cell_type": "markdown",
   "source": [
    "# I. Data Importation"
   ],
   "metadata": {
    "collapsed": false,
    "pycharm": {
     "name": "#%% md\n"
    }
   }
  },
  {
   "cell_type": "markdown",
   "source": [
    "## Dataset Location"
   ],
   "metadata": {
    "collapsed": false,
    "pycharm": {
     "name": "#%% md\n"
    }
   }
  },
  {
   "cell_type": "code",
   "execution_count": 2,
   "outputs": [],
   "source": [
    "file_businesses = r\"data/yelp_academic_dataset_business.json\"\n",
    "file_user_reviews = r\"data/yelp_academic_dataset_review.json\""
   ],
   "metadata": {
    "collapsed": false,
    "pycharm": {
     "name": "#%%\n"
    }
   }
  },
  {
   "cell_type": "markdown",
   "source": [
    "## Import Yelp Businesses"
   ],
   "metadata": {
    "collapsed": false,
    "pycharm": {
     "name": "#%% md\n"
    }
   }
  },
  {
   "cell_type": "code",
   "execution_count": 3,
   "outputs": [
    {
     "name": "stdout",
     "output_type": "stream",
     "text": [
      "Imported 209,393 distinct businesses in 3.681544 seconds\n"
     ]
    }
   ],
   "source": [
    "start_time = time.time()\n",
    "\n",
    "# business structure\n",
    "class Business(TypedDict):\n",
    "    business_id: str\n",
    "    name: str\n",
    "    address: str\n",
    "    city: str\n",
    "    state: str\n",
    "    postal_code: str\n",
    "    latitude: float\n",
    "    longitude: float\n",
    "    stars: float\n",
    "    review_count: int\n",
    "    is_open: int\n",
    "    attributes: Dict\n",
    "    categories: List[str]\n",
    "    hours: Dict\n",
    "\n",
    "# businesses indexed by business_id (i.e. {business['business_id']: Business}\n",
    "businesses_by_id: Dict[str, Business] = {}\n",
    "\n",
    "# parse all businesses\n",
    "with open(file_businesses, 'r', encoding='utf-8') as file:\n",
    "    # iterate over newline-deliminted JSON records\n",
    "    record: str\n",
    "    for record in file:\n",
    "        # parse JSON record\n",
    "        business: Business = json.loads(record)\n",
    "        # map Business by business_id\n",
    "        businesses_by_id[business['business_id']] = business\n",
    "\n",
    "print(f\"Imported {len(businesses_by_id):,} distinct businesses in {time.time() - start_time:.6f} seconds\")"
   ],
   "metadata": {
    "collapsed": false,
    "pycharm": {
     "name": "#%%\n"
    }
   }
  },
  {
   "cell_type": "markdown",
   "source": [
    "## Import User Review Texts"
   ],
   "metadata": {
    "collapsed": false,
    "pycharm": {
     "name": "#%% md\n"
    }
   }
  },
  {
   "cell_type": "code",
   "execution_count": 4,
   "outputs": [
    {
     "name": "stdout",
     "output_type": "stream",
     "text": [
      "Imported 8,021,122 user reviews in 74.264318 seconds\n"
     ]
    }
   ],
   "source": [
    "start_time = time.time()\n",
    "\n",
    "# user review structure\n",
    "class UserReview(TypedDict):\n",
    "    review_id: str\n",
    "    user_id: str\n",
    "    business_id: str\n",
    "    date: str\n",
    "    stars: int # [0, 1, 2, 3, 4, 5]\n",
    "    text: str\n",
    "    # review ratings\n",
    "    useful: int\n",
    "    funny: int\n",
    "    cool: int\n",
    "\n",
    "# user reviews indexed by business_id (i.e. {business_id: UserReview[]})\n",
    "business_review_texts: Dict[str, List[str]] = {\n",
    "    business_id: [] for business_id in businesses_by_id.keys()\n",
    "}\n",
    "\n",
    "# parse user reviews\n",
    "with open(file_user_reviews, 'r', encoding='utf-8') as file:\n",
    "    # iterate over newline-deliminted JSON records\n",
    "    record: str\n",
    "    for record in file:\n",
    "        # parse JSON record\n",
    "        review: UserReview = json.loads(record)\n",
    "        # map user review by business_id\n",
    "        business_review_texts[review['business_id']].append(review[\"text\"])\n",
    "\n",
    "print(f\"Imported {sum([len(reviews) for reviews in business_review_texts.values()]):,} user reviews in {time.time() - start_time:.6f} seconds\")"
   ],
   "metadata": {
    "collapsed": false,
    "pycharm": {
     "name": "#%%\n"
    }
   }
  },
  {
   "cell_type": "markdown",
   "source": [
    "<hr style=\"border-top: 1px solid #444\">"
   ],
   "metadata": {
    "collapsed": false,
    "pycharm": {
     "name": "#%% md\n"
    }
   }
  },
  {
   "cell_type": "markdown",
   "source": [
    "## II. Training Data Selection"
   ],
   "metadata": {
    "collapsed": false,
    "pycharm": {
     "name": "#%% md\n"
    }
   }
  },
  {
   "cell_type": "markdown",
   "source": [
    "## Select businesses with more than X reviews"
   ],
   "metadata": {
    "collapsed": false,
    "pycharm": {
     "name": "#%% md\n"
    }
   }
  },
  {
   "cell_type": "code",
   "execution_count": 5,
   "outputs": [
    {
     "name": "stdout",
     "output_type": "stream",
     "text": [
      "103,803 selected businesses (filtered 105590) in 0.104783 seconds\n"
     ]
    }
   ],
   "source": [
    "# minimum business[\"review_count\"] required for a business to not be filtered\n",
    "MINIMUM_REVIEW_COUNT = 10\n",
    "\n",
    "start_time = time.time()\n",
    "\n",
    "# filter out businesses with less than MINIMUM_REVIEW_COUNT reviews\n",
    "filtered_businesses = [business for business in businesses_by_id.values() if MINIMUM_REVIEW_COUNT <= business[\"review_count\"]]\n",
    "\n",
    "print(f\"{len(filtered_businesses):,} selected businesses (filtered {len(businesses_by_id) - len(filtered_businesses)}) in {time.time() - start_time:.6f} seconds\")"
   ],
   "metadata": {
    "collapsed": false,
    "pycharm": {
     "name": "#%%\n"
    }
   }
  },
  {
   "cell_type": "markdown",
   "source": [
    "## Partition businesses for model training and testing"
   ],
   "metadata": {
    "collapsed": false
   }
  },
  {
   "cell_type": "code",
   "execution_count": 6,
   "outputs": [
    {
     "name": "stdout",
     "output_type": "stream",
     "text": [
      "Partitioned 20,000 businesses into {training: 10000, testing: 10000} in 0.114417 seconds\n"
     ]
    }
   ],
   "source": [
    "# https://scikit-learn.org/stable/modules/generated/sklearn.model_selection.train_test_split.html\n",
    "# \"represents the absolute number of test samples\"\n",
    "TRAINING_SIZE = 10_000\n",
    "# \"represents the absolute number of train samples\"\n",
    "TESTING_SIZE = 10_000\n",
    "\n",
    "start_time = time.time()\n",
    "\n",
    "# split businesses into two disjoint subsets: training and testing\n",
    "from sklearn.model_selection import train_test_split\n",
    "train_businesses: List[Business]\n",
    "test_businesses: List[Business]\n",
    "train_businesses, test_businesses = train_test_split(\n",
    "    # set to partition\n",
    "    filtered_businesses,\n",
    "    # partition proportions\n",
    "    train_size = TRAINING_SIZE,\n",
    "    test_size = TESTING_SIZE,\n",
    "    # shuffle the data\n",
    "    shuffle = True,\n",
    "    # PRNG seed for deterministic behaviour\n",
    "    random_state = 42\n",
    ")\n",
    "\n",
    "print(f\"Partitioned {len(train_businesses) + len(test_businesses):,} businesses into {{training: {len(train_businesses)}, testing: {len(test_businesses)}}} in {time.time() - start_time:.6f} seconds\")"
   ],
   "metadata": {
    "collapsed": false,
    "pycharm": {
     "name": "#%%\n"
    }
   }
  },
  {
   "cell_type": "markdown",
   "source": [
    "<hr style=\"border-top: 1px solid #444\">"
   ],
   "metadata": {
    "collapsed": false,
    "pycharm": {
     "name": "#%% md\n"
    }
   }
  },
  {
   "cell_type": "markdown",
   "source": [
    "# III. Model Training"
   ],
   "metadata": {
    "collapsed": false
   }
  },
  {
   "cell_type": "markdown",
   "source": [
    "## Data Preprocessing"
   ],
   "metadata": {
    "collapsed": false,
    "pycharm": {
     "name": "#%% md\n"
    }
   }
  },
  {
   "cell_type": "markdown",
   "source": [
    "### Input Features"
   ],
   "metadata": {
    "collapsed": false,
    "pycharm": {
     "name": "#%% md\n"
    }
   }
  },
  {
   "cell_type": "markdown",
   "source": [
    "#### Concatenate User Reviews"
   ],
   "metadata": {
    "collapsed": false,
    "pycharm": {
     "name": "#%% md\n"
    }
   }
  },
  {
   "cell_type": "code",
   "execution_count": 7,
   "outputs": [
    {
     "name": "stdout",
     "output_type": "stream",
     "text": [
      "Processed 20,000 businesses in 1.127714 seconds\n"
     ]
    }
   ],
   "source": [
    "start_time = time.time()\n",
    "\n",
    "# concatenated user review texts indexed by business_id (i.e. {business_id: review_text}})\n",
    "business_concatenated_reviews: Dict[str, str] = {}\n",
    "\n",
    "# process each business in the training and testing datasets\n",
    "business: Business\n",
    "for business in train_businesses + test_businesses:\n",
    "    business_id: str = business['business_id']\n",
    "    business_concatenated_reviews[business_id] = \"\\n\".join(business_review_texts[business_id])\n",
    "\n",
    "# metrics\n",
    "print(f\"Processed {len(train_businesses) + len(test_businesses):,} businesses in {time.time() - start_time:.6f} seconds\")"
   ],
   "metadata": {
    "collapsed": false,
    "pycharm": {
     "name": "#%%\n"
    }
   }
  },
  {
   "cell_type": "markdown",
   "source": [
    "#### Vectorize review texts using TFIDF vectorization NLP"
   ],
   "metadata": {
    "collapsed": false
   }
  },
  {
   "cell_type": "code",
   "execution_count": 8,
   "outputs": [
    {
     "name": "stdout",
     "output_type": "stream",
     "text": [
      "Training matrix shape: (10000, 500)\n",
      "Word features cardinality: 500\n",
      "Word features: ['00', '10', '12', '15', '20', '30', '50', 'able', 'absolutely', 'actually', 'add', 'ago', 'amazing', 'appetizer', 'appointment', 'area', 'arrived', 'ask', 'asked', 'ate', 'atmosphere', 'attentive', 'authentic', 'available', 'average', 'away', 'awesome', 'bacon', 'bad', 'bar', 'bbq', 'beautiful', 'beef', 'beer', 'believe', 'best', 'better', 'big', 'birthday', 'bit', 'bite', 'bowl', 'bread', 'breakfast', 'bring', 'brought', 'brunch', 'buffet', 'burger', 'burgers', 'business', 'busy', 'buy', 'cake', 'called', 'came', 'car', 'card', 'care', 'change', 'charge', 'cheap', 'check', 'cheese', 'chef', 'chicken', 'chips', 'chocolate', 'choice', 'choose', 'clean', 'close', 'coffee', 'cold', 'come', 'comes', 'comfortable', 'coming', 'company', 'completely', 'cooked', 'cool', 'cost', 'couldn', 'counter', 'couple', 'course', 'crab', 'cream', 'crispy', 'curry', 'customer', 'customers', 'cut', 'day', 'days', 'deal', 'decent', 'decided', 'decor', 'definitely', 'delicious', 'dessert', 'did', 'didn', 'different', 'dining', 'dinner', 'disappointed', 'dish', 'dishes', 'does', 'doesn', 'dog', 'doing', 'don', 'door', 'dr', 'drink', 'drinks', 'drive', 'dry', 'early', 'easy', 'eat', 'eating', 'egg', 'eggs', 'employees', 'end', 'ended', 'enjoy', 'enjoyed', 'entire', 'especially', 'evening', 'excellent', 'expect', 'expected', 'expensive', 'experience', 'extra', 'extremely', 'fact', 'family', 'fan', 'fantastic', 'far', 'fast', 'favorite', 'feel', 'felt', 'finally', 'fine', 'fish', 'flavor', 'flavors', 'floor', 'food', 'free', 'french', 'fresh', 'friday', 'fried', 'friend', 'friendly', 'friends', 'fries', 'fun', 'garlic', 'gave', 'gets', 'getting', 'girl', 'given', 'glad', 'glass', 'going', 'gone', 'good', 'got', 'great', 'green', 'grilled', 'group', 'guess', 'guy', 'guys', 'hair', 'half', 'happy', 'hard', 'haven', 'having', 'heard', 'help', 'helpful', 'high', 'highly', 'home', 'horrible', 'hot', 'hotel', 'hour', 'hours', 'house', 'huge', 'husband', 'ice', 'immediately', 'impressed', 'inside', 'instead', 'isn', 'issue', 'italian', 'items', 'job', 'just', 'kept', 'kids', 'kind', 'kitchen', 'knew', 'know', 'lady', 'large', 'las', 'late', 'later', 'leave', 'left', 'let', 'life', 'light', 'like', 'liked', 'line', 'list', 'literally', 'little', 'live', 'll', 'lobster', 'local', 'location', 'long', 'look', 'looked', 'looking', 'looks', 'lot', 'lots', 'love', 'loved', 'lunch', 'main', 'make', 'makes', 'making', 'man', 'manager', 'massage', 'maybe', 'meal', 'meat', 'menu', 'mexican', 'milk', 'mind', 'minutes', 'money', 'month', 'months', 'morning', 'moved', 'music', 'nails', 'near', 'need', 'needed', 'needs', 'new', 'nice', 'night', 'noodles', 'offer', 'offered', 'office', 'oh', 'ok', 'okay', 'old', 'open', 'options', 'order', 'ordered', 'ordering', 'orders', 'outside', 'overall', 'owner', 'paid', 'parking', 'party', 'past', 'pasta', 'patio', 'pay', 'people', 'perfect', 'perfectly', 'person', 'phone', 'pick', 'pizza', 'place', 'places', 'plate', 'plenty', 'plus', 'point', 'pool', 'pork', 'portion', 'portions', 'potato', 'potatoes', 'pretty', 'price', 'priced', 'prices', 'probably', 'problem', 'professional', 'quality', 'quick', 'quickly', 'quite', 'ready', 'real', 'really', 'reason', 'reasonable', 'received', 'recommend', 'recommended', 'red', 'regular', 'remember', 'restaurant', 'restaurants', 'return', 'review', 'reviews', 'rice', 'right', 'roll', 'rolls', 'room', 'rooms', 'rude', 'run', 'said', 'salad', 'salmon', 'salsa', 'sandwich', 'sandwiches', 'sat', 'saturday', 'sauce', 'saw', 'say', 'saying', 'seated', 'seating', 'second', 'seen', 'selection', 'serve', 'served', 'server', 'servers', 'service', 'set', 'shop', 'short', 'shrimp', 'simple', 'sit', 'sitting', 'size', 'slow', 'small', 'soft', 'soon', 'soup', 'space', 'special', 'spicy', 'spot', 'staff', 'star', 'stars', 'start', 'started', 'stay', 'steak', 'stop', 'stopped', 'store', 'street', 'strip', 'stuff', 'style', 'sunday', 'super', 'sure', 'sushi', 'sweet', 'table', 'tables', 'taco', 'tacos', 'taken', 'taking', 'taste', 'tasted', 'tasty', 'tea', 'tell', 'terrible', 'thai', 'thank', 'thanks', 'thing', 'things', 'think', 'thought', 'time', 'times', 'tip', 'today', 'told', 'took', 'totally', 'town', 'tried', 'trip', 'try', 'trying', 'twice', 'type', 'understand', 'unfortunately', 'use', 'used', 'usually', 'variety', 've', 'vegas', 'visit', 'wait', 'waited', 'waiter', 'waiting', 'waitress', 'walk', 'walked', 'walking', 'want', 'wanted', 'warm', 'wasn', 'water', 'way', 'week', 'weekend', 'weeks', 'went', 'white', 'wife', 'wine', 'wings', 'wish', 'won', 'wonderful', 'work', 'working', 'worst', 'worth', 'wouldn', 'wow', 'wrong', 'year', 'years', 'yelp', 'yes', 'yummy']\n",
      "IDF Vectorized 20,000 businesses review texts in 102.191245 seconds\n"
     ]
    }
   ],
   "source": [
    "start_time = time.time()\n",
    "\n",
    "from sklearn.feature_extraction.text import TfidfVectorizer\n",
    "# construct vectorizer\n",
    "vectorizer: TfidfVectorizer = TfidfVectorizer(\n",
    "    # maximum word features\n",
    "    max_features = 500,\n",
    "    # prune english stop words\n",
    "    stop_words = 'english',\n",
    "    # min_df: ignore terms that have a document frequency < min_df.\n",
    "    # min_df = 10, (redundant for large data sets)\n",
    ")\n",
    "\n",
    "# construct corpus from training data\n",
    "train_reviews_tfidf = vectorizer.fit_transform(\n",
    "    [business_concatenated_reviews[business['business_id']] for business in train_businesses]\n",
    ").toarray()\n",
    "\n",
    "# transform corpus of testing data\n",
    "test_reviews_tfidf = vectorizer.transform(\n",
    "    [business_concatenated_reviews[business['business_id']] for business in test_businesses]\n",
    ").toarray()\n",
    "\n",
    "# metrics\n",
    "print(f\"Training matrix shape: {train_reviews_tfidf.shape}\")\n",
    "print(f\"Word features cardinality: {len(vectorizer.get_feature_names()):,}\")\n",
    "print(f\"Word features: {vectorizer.get_feature_names()}\")\n",
    "print(f\"IDF Vectorized {len(train_businesses) + len(test_businesses):,} businesses review texts in {time.time() - start_time:.6f} seconds\")"
   ],
   "metadata": {
    "collapsed": false,
    "pycharm": {
     "name": "#%%\n"
    }
   }
  },
  {
   "cell_type": "markdown",
   "source": [
    "#### Input Matrix"
   ],
   "metadata": {
    "collapsed": false,
    "pycharm": {
     "name": "#%% md\n"
    }
   }
  },
  {
   "cell_type": "code",
   "execution_count": 9,
   "outputs": [
    {
     "name": "stdout",
     "output_type": "stream",
     "text": [
      "Training:\n",
      "\tFeatures shape: (10000, 500)\n",
      "Testing:\n",
      "\tFeatures shape: (10000, 500)\n"
     ]
    }
   ],
   "source": [
    "# training\n",
    "train_tf_input = train_reviews_tfidf\n",
    "print(\"Training:\")\n",
    "print(f\"\\tFeatures shape: {train_tf_input.shape}\")\n",
    "\n",
    "# testing\n",
    "test_tf_input = test_reviews_tfidf\n",
    "print(\"Testing:\")\n",
    "print(f\"\\tFeatures shape: {test_tf_input.shape}\")"
   ],
   "metadata": {
    "collapsed": false,
    "pycharm": {
     "name": "#%%\n"
    }
   }
  },
  {
   "cell_type": "markdown",
   "source": [
    "### Output Features"
   ],
   "metadata": {
    "collapsed": false
   }
  },
  {
   "cell_type": "markdown",
   "source": [
    "#### Star Rating"
   ],
   "metadata": {
    "collapsed": false
   }
  },
  {
   "cell_type": "code",
   "execution_count": 10,
   "outputs": [],
   "source": [
    "train_stars = numpy.array([[business['stars']] for business in train_businesses])\n",
    "test_stars = numpy.array([[business[\"stars\"]] for business in test_businesses])"
   ],
   "metadata": {
    "collapsed": false,
    "pycharm": {
     "name": "#%%\n"
    }
   }
  },
  {
   "cell_type": "markdown",
   "source": [
    "#### Output Matrix"
   ],
   "metadata": {
    "collapsed": false
   }
  },
  {
   "cell_type": "code",
   "execution_count": 11,
   "outputs": [
    {
     "name": "stdout",
     "output_type": "stream",
     "text": [
      "Training:\n",
      "\tFeatures shape: (10000, 1)\n",
      "Testing:\n",
      "\tFeatures shape: (10000, 1)\n"
     ]
    }
   ],
   "source": [
    "# training\n",
    "train_tf_output = train_stars\n",
    "print(\"Training:\")\n",
    "print(f\"\\tFeatures shape: {train_tf_output.shape}\")\n",
    "\n",
    "# testing\n",
    "test_tf_output = test_stars\n",
    "print(\"Testing:\")\n",
    "print(f\"\\tFeatures shape: {test_tf_output.shape}\")"
   ],
   "metadata": {
    "collapsed": false,
    "pycharm": {
     "name": "#%%\n"
    }
   }
  },
  {
   "cell_type": "markdown",
   "source": [
    "## Neural Network Training"
   ],
   "metadata": {
    "collapsed": false
   }
  },
  {
   "cell_type": "markdown",
   "source": [
    "## Training"
   ],
   "metadata": {
    "collapsed": false
   }
  },
  {
   "cell_type": "code",
   "execution_count": 12,
   "outputs": [
    {
     "name": "stdout",
     "output_type": "stream",
     "text": [
      "Model trained in 51.864498 seconds\n"
     ]
    },
    {
     "data": {
      "text/plain": "<IPython.core.display.HTML object>",
      "text/html": "    <details>        <summary><b>Training Details</b></summary>        <sub><sup>            Epoch 1/250<br>313/313 - 1s - loss: 0.7533 - mse: 0.7533 - val_loss: 0.3864 - val_mse: 0.3864<br>Epoch 2/250<br>313/313 - 1s - loss: 0.2753 - mse: 0.2753 - val_loss: 0.2248 - val_mse: 0.2248<br>Epoch 3/250<br>313/313 - 1s - loss: 0.2123 - mse: 0.2123 - val_loss: 0.2042 - val_mse: 0.2042<br>Epoch 4/250<br>313/313 - 1s - loss: 0.1926 - mse: 0.1926 - val_loss: 0.1849 - val_mse: 0.1849<br>Epoch 5/250<br>313/313 - 1s - loss: 0.1816 - mse: 0.1816 - val_loss: 0.1758 - val_mse: 0.1758<br>Epoch 6/250<br>313/313 - 1s - loss: 0.1731 - mse: 0.1731 - val_loss: 0.1702 - val_mse: 0.1702<br>Epoch 7/250<br>313/313 - 1s - loss: 0.1668 - mse: 0.1668 - val_loss: 0.1664 - val_mse: 0.1664<br>Epoch 8/250<br>313/313 - 1s - loss: 0.1618 - mse: 0.1618 - val_loss: 0.1731 - val_mse: 0.1731<br>Epoch 9/250<br>313/313 - 1s - loss: 0.1582 - mse: 0.1582 - val_loss: 0.1819 - val_mse: 0.1819<br>Epoch 10/250<br>313/313 - 1s - loss: 0.1545 - mse: 0.1545 - val_loss: 0.1729 - val_mse: 0.1729<br>Epoch 11/250<br>313/313 - 1s - loss: 0.1522 - mse: 0.1522 - val_loss: 0.1574 - val_mse: 0.1574<br>Epoch 12/250<br>313/313 - 1s - loss: 0.1496 - mse: 0.1496 - val_loss: 0.1517 - val_mse: 0.1517<br>Epoch 13/250<br>313/313 - 1s - loss: 0.1475 - mse: 0.1475 - val_loss: 0.1509 - val_mse: 0.1509<br>Epoch 14/250<br>313/313 - 1s - loss: 0.1456 - mse: 0.1456 - val_loss: 0.1537 - val_mse: 0.1537<br>Epoch 15/250<br>313/313 - 1s - loss: 0.1439 - mse: 0.1439 - val_loss: 0.1521 - val_mse: 0.1521<br>Epoch 16/250<br>313/313 - 1s - loss: 0.1423 - mse: 0.1423 - val_loss: 0.1540 - val_mse: 0.1540<br>Epoch 17/250<br>313/313 - 1s - loss: 0.1410 - mse: 0.1410 - val_loss: 0.1466 - val_mse: 0.1466<br>Epoch 18/250<br>313/313 - 1s - loss: 0.1400 - mse: 0.1400 - val_loss: 0.1472 - val_mse: 0.1472<br>Epoch 19/250<br>313/313 - 1s - loss: 0.1385 - mse: 0.1385 - val_loss: 0.1472 - val_mse: 0.1472<br>Epoch 20/250<br>313/313 - 1s - loss: 0.1364 - mse: 0.1364 - val_loss: 0.1543 - val_mse: 0.1543<br>Epoch 21/250<br>313/313 - 1s - loss: 0.1358 - mse: 0.1358 - val_loss: 0.1499 - val_mse: 0.1499<br>Epoch 22/250<br>313/313 - 1s - loss: 0.1345 - mse: 0.1345 - val_loss: 0.1399 - val_mse: 0.1399<br>Epoch 23/250<br>313/313 - 1s - loss: 0.1329 - mse: 0.1329 - val_loss: 0.1386 - val_mse: 0.1386<br>Epoch 24/250<br>313/313 - 1s - loss: 0.1318 - mse: 0.1318 - val_loss: 0.1377 - val_mse: 0.1377<br>Epoch 25/250<br>313/313 - 1s - loss: 0.1307 - mse: 0.1307 - val_loss: 0.1371 - val_mse: 0.1371<br>Epoch 26/250<br>313/313 - 1s - loss: 0.1294 - mse: 0.1294 - val_loss: 0.1365 - val_mse: 0.1365<br>Epoch 27/250<br>313/313 - 1s - loss: 0.1288 - mse: 0.1288 - val_loss: 0.1448 - val_mse: 0.1448<br>Epoch 28/250<br>313/313 - 1s - loss: 0.1277 - mse: 0.1277 - val_loss: 0.1343 - val_mse: 0.1343<br>Epoch 29/250<br>313/313 - 1s - loss: 0.1268 - mse: 0.1268 - val_loss: 0.1334 - val_mse: 0.1334<br>Epoch 30/250<br>313/313 - 1s - loss: 0.1254 - mse: 0.1254 - val_loss: 0.1333 - val_mse: 0.1333<br>Epoch 31/250<br>313/313 - 1s - loss: 0.1250 - mse: 0.1250 - val_loss: 0.1496 - val_mse: 0.1496<br>Epoch 32/250<br>313/313 - 1s - loss: 0.1245 - mse: 0.1245 - val_loss: 0.1345 - val_mse: 0.1345<br>Epoch 33/250<br>313/313 - 1s - loss: 0.1233 - mse: 0.1233 - val_loss: 0.1323 - val_mse: 0.1323<br>Epoch 34/250<br>313/313 - 1s - loss: 0.1228 - mse: 0.1228 - val_loss: 0.1532 - val_mse: 0.1532<br>Epoch 35/250<br>313/313 - 1s - loss: 0.1220 - mse: 0.1220 - val_loss: 0.1303 - val_mse: 0.1303<br>Epoch 36/250<br>313/313 - 1s - loss: 0.1207 - mse: 0.1207 - val_loss: 0.1301 - val_mse: 0.1301<br>Epoch 37/250<br>313/313 - 1s - loss: 0.1194 - mse: 0.1194 - val_loss: 0.1338 - val_mse: 0.1338<br>Epoch 38/250<br>313/313 - 1s - loss: 0.1199 - mse: 0.1199 - val_loss: 0.1281 - val_mse: 0.1281<br>Epoch 39/250<br>313/313 - 0s - loss: 0.1185 - mse: 0.1185 - val_loss: 0.1393 - val_mse: 0.1393<br>Epoch 40/250<br>313/313 - 1s - loss: 0.1179 - mse: 0.1179 - val_loss: 0.1267 - val_mse: 0.1267<br>Epoch 41/250<br>313/313 - 1s - loss: 0.1171 - mse: 0.1171 - val_loss: 0.1262 - val_mse: 0.1262<br>Epoch 42/250<br>313/313 - 1s - loss: 0.1163 - mse: 0.1163 - val_loss: 0.1281 - val_mse: 0.1281<br>Epoch 43/250<br>313/313 - 1s - loss: 0.1156 - mse: 0.1156 - val_loss: 0.1265 - val_mse: 0.1265<br>Epoch 44/250<br>313/313 - 1s - loss: 0.1157 - mse: 0.1157 - val_loss: 0.1271 - val_mse: 0.1271<br>Epoch 45/250<br>313/313 - 1s - loss: 0.1151 - mse: 0.1151 - val_loss: 0.1254 - val_mse: 0.1254<br>Epoch 46/250<br>313/313 - 1s - loss: 0.1142 - mse: 0.1142 - val_loss: 0.1243 - val_mse: 0.1243<br>Epoch 47/250<br>313/313 - 1s - loss: 0.1144 - mse: 0.1144 - val_loss: 0.1257 - val_mse: 0.1257<br>Epoch 48/250<br>313/313 - 1s - loss: 0.1143 - mse: 0.1143 - val_loss: 0.1267 - val_mse: 0.1267<br>Epoch 49/250<br>313/313 - 1s - loss: 0.1131 - mse: 0.1131 - val_loss: 0.1244 - val_mse: 0.1244<br>Epoch 50/250<br>313/313 - 1s - loss: 0.1128 - mse: 0.1128 - val_loss: 0.1236 - val_mse: 0.1236<br>Epoch 51/250<br>313/313 - 1s - loss: 0.1130 - mse: 0.1130 - val_loss: 0.1280 - val_mse: 0.1280<br>Epoch 52/250<br>313/313 - 1s - loss: 0.1121 - mse: 0.1121 - val_loss: 0.1251 - val_mse: 0.1251<br>Epoch 53/250<br>313/313 - 1s - loss: 0.1119 - mse: 0.1119 - val_loss: 0.1238 - val_mse: 0.1238<br>Epoch 54/250<br>313/313 - 1s - loss: 0.1112 - mse: 0.1112 - val_loss: 0.1230 - val_mse: 0.1230<br>Epoch 55/250<br>313/313 - 1s - loss: 0.1111 - mse: 0.1111 - val_loss: 0.1251 - val_mse: 0.1251<br>Epoch 56/250<br>313/313 - 1s - loss: 0.1109 - mse: 0.1109 - val_loss: 0.1228 - val_mse: 0.1228<br>Epoch 57/250<br>313/313 - 1s - loss: 0.1105 - mse: 0.1105 - val_loss: 0.1310 - val_mse: 0.1310<br>Epoch 58/250<br>313/313 - 1s - loss: 0.1103 - mse: 0.1103 - val_loss: 0.1230 - val_mse: 0.1230<br>Epoch 59/250<br>313/313 - 1s - loss: 0.1100 - mse: 0.1100 - val_loss: 0.1291 - val_mse: 0.1291<br>Epoch 60/250<br>313/313 - 1s - loss: 0.1095 - mse: 0.1095 - val_loss: 0.1217 - val_mse: 0.1217<br>Epoch 61/250<br>313/313 - 1s - loss: 0.1090 - mse: 0.1090 - val_loss: 0.1225 - val_mse: 0.1225<br>Epoch 62/250<br>313/313 - 0s - loss: 0.1087 - mse: 0.1087 - val_loss: 0.1252 - val_mse: 0.1252<br>Epoch 63/250<br>313/313 - 1s - loss: 0.1090 - mse: 0.1090 - val_loss: 0.1213 - val_mse: 0.1213<br>Epoch 64/250<br>313/313 - 1s - loss: 0.1080 - mse: 0.1080 - val_loss: 0.1215 - val_mse: 0.1215<br>Epoch 65/250<br>313/313 - 1s - loss: 0.1083 - mse: 0.1083 - val_loss: 0.1214 - val_mse: 0.1214<br>Epoch 66/250<br>313/313 - 1s - loss: 0.1078 - mse: 0.1078 - val_loss: 0.1213 - val_mse: 0.1213<br>Epoch 67/250<br>313/313 - 0s - loss: 0.1074 - mse: 0.1074 - val_loss: 0.1317 - val_mse: 0.1317<br>Epoch 68/250<br>313/313 - 0s - loss: 0.1070 - mse: 0.1070 - val_loss: 0.1211 - val_mse: 0.1211<br>Epoch 69/250<br>313/313 - 0s - loss: 0.1067 - mse: 0.1067 - val_loss: 0.1231 - val_mse: 0.1231<br>Epoch 70/250<br>313/313 - 1s - loss: 0.1067 - mse: 0.1067 - val_loss: 0.1222 - val_mse: 0.1222<br>Epoch 71/250<br>313/313 - 0s - loss: 0.1069 - mse: 0.1069 - val_loss: 0.1262 - val_mse: 0.1262<br>Epoch 72/250<br>313/313 - 0s - loss: 0.1060 - mse: 0.1060 - val_loss: 0.1218 - val_mse: 0.1218<br>Epoch 73/250<br>313/313 - 0s - loss: 0.1063 - mse: 0.1063 - val_loss: 0.1211 - val_mse: 0.1211<br>Epoch 74/250<br>313/313 - 1s - loss: 0.1056 - mse: 0.1056 - val_loss: 0.1202 - val_mse: 0.1202<br>Epoch 75/250<br>313/313 - 1s - loss: 0.1054 - mse: 0.1054 - val_loss: 0.1200 - val_mse: 0.1200<br>Epoch 76/250<br>313/313 - 1s - loss: 0.1052 - mse: 0.1052 - val_loss: 0.1211 - val_mse: 0.1211<br>Epoch 77/250<br>313/313 - 0s - loss: 0.1054 - mse: 0.1054 - val_loss: 0.1271 - val_mse: 0.1271<br>Epoch 78/250<br>313/313 - 1s - loss: 0.1049 - mse: 0.1049 - val_loss: 0.1201 - val_mse: 0.1201<br>Epoch 79/250<br>313/313 - 1s - loss: 0.1046 - mse: 0.1046 - val_loss: 0.1202 - val_mse: 0.1202<br>Epoch 80/250<br>313/313 - 1s - loss: 0.1045 - mse: 0.1045 - val_loss: 0.1221 - val_mse: 0.1221<br>Epoch 81/250<br>313/313 - 1s - loss: 0.1042 - mse: 0.1042 - val_loss: 0.1249 - val_mse: 0.1249<br>Epoch 82/250<br>313/313 - 1s - loss: 0.1040 - mse: 0.1040 - val_loss: 0.1363 - val_mse: 0.1363<br>Epoch 83/250<br>313/313 - 1s - loss: 0.1040 - mse: 0.1040 - val_loss: 0.1237 - val_mse: 0.1237<br>Epoch 84/250<br>313/313 - 1s - loss: 0.1039 - mse: 0.1039 - val_loss: 0.1201 - val_mse: 0.1201<br>Epoch 85/250<br>313/313 - 1s - loss: 0.1037 - mse: 0.1037 - val_loss: 0.1206 - val_mse: 0.1206<br>Epoch 86/250<br>313/313 - 1s - loss: 0.1032 - mse: 0.1032 - val_loss: 0.1208 - val_mse: 0.1208<br>Epoch 87/250<br>313/313 - 1s - loss: 0.1034 - mse: 0.1034 - val_loss: 0.1215 - val_mse: 0.1215<br>Epoch 88/250<br>313/313 - 1s - loss: 0.1027 - mse: 0.1027 - val_loss: 0.1194 - val_mse: 0.1194<br>Epoch 89/250<br>313/313 - 1s - loss: 0.1031 - mse: 0.1031 - val_loss: 0.1193 - val_mse: 0.1193<br>Epoch 90/250<br>313/313 - 1s - loss: 0.1026 - mse: 0.1026 - val_loss: 0.1203 - val_mse: 0.1203<br>Epoch 91/250<br>313/313 - 1s - loss: 0.1028 - mse: 0.1028 - val_loss: 0.1243 - val_mse: 0.1243<br>Epoch 92/250<br>313/313 - 1s - loss: 0.1018 - mse: 0.1018 - val_loss: 0.1429 - val_mse: 0.1429<br>Epoch 93/250<br>313/313 - 1s - loss: 0.1022 - mse: 0.1022 - val_loss: 0.1216 - val_mse: 0.1216<br>Epoch 94/250<br>313/313 - 1s - loss: 0.1022 - mse: 0.1022 - val_loss: 0.1193 - val_mse: 0.1193<br>Epoch 95/250<br>313/313 - 1s - loss: 0.1014 - mse: 0.1014 - val_loss: 0.1226 - val_mse: 0.1226<br>Epoch 96/250<br>313/313 - 1s - loss: 0.1009 - mse: 0.1009 - val_loss: 0.1215 - val_mse: 0.1215<br>Epoch 97/250<br>313/313 - 0s - loss: 0.1016 - mse: 0.1016 - val_loss: 0.1207 - val_mse: 0.1207<br>Epoch 98/250<br>313/313 - 1s - loss: 0.1009 - mse: 0.1009 - val_loss: 0.1192 - val_mse: 0.1192<br>Epoch 99/250<br>313/313 - 1s - loss: 0.1009 - mse: 0.1009 - val_loss: 0.1248 - val_mse: 0.1248        </sup></sub>    </details>"
     },
     "metadata": {},
     "output_type": "display_data"
    }
   ],
   "source": [
    "start_time = time.time()\n",
    "\n",
    "# imports\n",
    "from io import StringIO\n",
    "from IPython.core.display import display, HTML\n",
    "from tensorflow.keras.models import Sequential\n",
    "from tensorflow.keras.layers import Dense\n",
    "from tensorflow.keras.callbacks import EarlyStopping, ModelCheckpoint\n",
    "\n",
    "## Capture standard output\n",
    "# replace standard out for intercepting logging\n",
    "sys.stdout = captured_stdout = StringIO()\n",
    "\n",
    "## Train Model\n",
    "# build model\n",
    "model = Sequential()\n",
    "# add new neurons\n",
    "model.add(Dense(50, input_dim = train_tf_input.shape[1]))\n",
    "model.add(Dense(25, activation = 'relu'))\n",
    "model.add(Dense(1))\n",
    "# set optimizer for gradient descent\n",
    "model.compile(loss = 'mean_squared_error', optimizer = 'sgd', metrics = ['mse'])\n",
    "\n",
    "# make temporary directory for saved model\n",
    "if not os.path.exists(\"temp\"):\n",
    "    os.mkdir(\"temp\")\n",
    "# run model training\n",
    "model.fit(\n",
    "    # training data\n",
    "    train_tf_input, train_tf_output,\n",
    "    # use test data to validate losses, but not for training\n",
    "    validation_data = (test_tf_input, test_tf_output),\n",
    "    callbacks = [\n",
    "        # patience: number of epochs with no improvement after which training will be stopped\n",
    "        EarlyStopping(monitor = 'val_loss', min_delta = 1e-3, patience = 25, mode = 'auto', verbose = 0),\n",
    "        # save best model from all trials\n",
    "        ModelCheckpoint(filepath = \"temp/model_best_weights.hdf5\", save_best_only = True, verbose = 0)\n",
    "    ],\n",
    "    verbose = 2,\n",
    "    epochs = 250\n",
    ")\n",
    "\n",
    "## Logging\n",
    "# restore standard out\n",
    "sys.stdout = original_stdout\n",
    "\n",
    "print(f\"Model trained in {time.time() - start_time:.6f} seconds\")\n",
    "# noinspection PyTypeChecker\n",
    "display(HTML(f'\\\n",
    "    <details>\\\n",
    "        <summary><b>Training Details</b></summary>\\\n",
    "        <sub><sup>\\\n",
    "            {\"<br>\".join(captured_stdout.getvalue().splitlines())}\\\n",
    "        </sup></sub>\\\n",
    "    </details>\\\n",
    "'))"
   ],
   "metadata": {
    "collapsed": false,
    "pycharm": {
     "name": "#%%\n"
    }
   }
  },
  {
   "cell_type": "markdown",
   "source": [
    "# IV. Testing & Analysis\n",
    "## Compute Predictions"
   ],
   "metadata": {
    "collapsed": false,
    "pycharm": {
     "name": "#%% md\n"
    }
   }
  },
  {
   "cell_type": "code",
   "execution_count": 13,
   "outputs": [
    {
     "name": "stdout",
     "output_type": "stream",
     "text": [
      "Predicted 10000 business ratings in 0.362797 seconds\n"
     ]
    }
   ],
   "source": [
    "start_time = time.time()\n",
    "\n",
    "# load best model for prediction\n",
    "model.load_weights(\"temp/model_best_weights.hdf5\")\n",
    "\n",
    "# compute predicted ratings for test dataset\n",
    "predicted = model.predict(test_tf_input)\n",
    "# map predictions to the nearest half-star\n",
    "predicted_rounded = numpy.array([min(round(prediction * 2) / 2, 5) for prediction in predicted.flatten()])\n",
    "\n",
    "print(f\"Predicted {len(test_businesses)} business ratings in {time.time() - start_time:.6f} seconds\")"
   ],
   "metadata": {
    "collapsed": false,
    "pycharm": {
     "name": "#%%\n"
    }
   }
  },
  {
   "cell_type": "markdown",
   "source": [
    "## Error Scoring (MSE/RSME) & Lift Chart Visualizations"
   ],
   "metadata": {
    "collapsed": false,
    "pycharm": {
     "name": "#%% md\n"
    }
   }
  },
  {
   "cell_type": "markdown",
   "source": [
    "### Continuous Predictions"
   ],
   "metadata": {
    "collapsed": false,
    "pycharm": {
     "name": "#%% md\n"
    }
   }
  },
  {
   "cell_type": "code",
   "execution_count": 14,
   "outputs": [
    {
     "name": "stdout",
     "output_type": "stream",
     "text": [
      "MSE Score: 0.11923556592195307\n",
      "RMSE Score: 0.3453050331546777\n"
     ]
    },
    {
     "data": {
      "text/plain": "<Figure size 432x288 with 1 Axes>",
      "image/png": "[encoded data removed]"
     },
     "metadata": {
      "needs_background": "light"
     },
     "output_type": "display_data"
    }
   ],
   "source": [
    "# measure MSE error\n",
    "mse_score = sklearn.metrics.mean_squared_error(predicted, test_tf_output)\n",
    "\n",
    "# measure MSE error\n",
    "print(f\"MSE Score: {mse_score}\")\n",
    "# measure RMSE error\n",
    "print(f\"RMSE Score: {numpy.sqrt(mse_score)}\")\n",
    "\n",
    "%matplotlib inline\n",
    "table = pandas.DataFrame({'predicted' : predicted.flatten(), 'y' : test_tf_output.flatten()})\n",
    "table.sort_values(by = ['y'], inplace = True)\n",
    "pyplot.plot(table['predicted'].tolist(), label = \"prediction\")\n",
    "pyplot.plot(table['y'].tolist(), label = \"expected\")\n",
    "pyplot.xlabel(\"business by ascending star rating\")\n",
    "pyplot.ylabel(\"stars\")\n",
    "pyplot.legend()\n",
    "pyplot.show()"
   ],
   "metadata": {
    "collapsed": false,
    "pycharm": {
     "name": "#%%\n"
    }
   }
  },
  {
   "cell_type": "markdown",
   "source": [
    "### Discrete Predictions"
   ],
   "metadata": {
    "collapsed": false,
    "pycharm": {
     "name": "#%% md\n"
    }
   }
  },
  {
   "cell_type": "code",
   "execution_count": 15,
   "outputs": [
    {
     "name": "stdout",
     "output_type": "stream",
     "text": [
      "MSE Score: 0.1374\n",
      "RMSE Score: 0.37067505985701277\n"
     ]
    },
    {
     "data": {
      "text/plain": "<Figure size 432x288 with 1 Axes>",
      "image/png": "[encoded data removed]"
     },
     "metadata": {
      "needs_background": "light"
     },
     "output_type": "display_data"
    }
   ],
   "source": [
    "# measure MSE error\n",
    "mse_score = sklearn.metrics.mean_squared_error(predicted_rounded, test_tf_output)\n",
    "\n",
    "# measure MSE error\n",
    "print(f\"MSE Score: {mse_score}\")\n",
    "# measure RMSE error\n",
    "print(f\"RMSE Score: {numpy.sqrt(mse_score)}\")\n",
    "\n",
    "%matplotlib inline\n",
    "table = pandas.DataFrame({'predicted' : predicted_rounded.flatten(), 'y' : test_tf_output.flatten()})\n",
    "table.sort_values(by = ['y'], inplace = True)\n",
    "pyplot.plot(table['predicted'].tolist(), label = \"prediction\")\n",
    "pyplot.plot(table['y'].tolist(), label = \"expected\")\n",
    "pyplot.xlabel(\"business by ascending star rating\")\n",
    "pyplot.ylabel(\"stars\")\n",
    "pyplot.legend()\n",
    "pyplot.show()"
   ],
   "metadata": {
    "collapsed": false,
    "pycharm": {
     "name": "#%%\n"
    }
   }
  }
 ],
 "metadata": {
  "kernelspec": {
   "display_name": "Python 3",
   "language": "python",
   "name": "python3"
  },
  "language_info": {
   "codemirror_mode": {
    "name": "ipython",
    "version": 3
   },
   "file_extension": ".py",
   "mimetype": "text/x-python",
   "name": "python",
   "nbconvert_exporter": "python",
   "pygments_lexer": "ipython3",
   "version": "3.7.3"
  }
 },
 "nbformat": 4,
 "nbformat_minor": 2
}