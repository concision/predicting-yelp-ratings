{
 "cells": [
  {
   "cell_type": "markdown",
   "metadata": {
    "pycharm": {
     "name": "#%% md\n"
    }
   },
   "source": [
    "<h1 style=\"text-align: center\">Yelp Rating Prediction</h1>\n",
    "<hr style=\"border-top: 1px solid #444\">"
   ]
  },
  {
   "cell_type": "markdown",
   "source": [
    "## Development Environment"
   ],
   "metadata": {
    "collapsed": false,
    "pycharm": {
     "name": "#%% md\n"
    }
   }
  },
  {
   "cell_type": "code",
   "source": [
    "# imports\n",
    "from typing import TypedDict, Dict, List\n",
    "from statistics import mean, stdev\n",
    "import sys\n",
    "import os\n",
    "import json\n",
    "import time\n",
    "import spectra\n",
    "import numpy\n",
    "import pandas\n",
    "import sklearn\n",
    "import tensorflow\n",
    "import matplotlib.pyplot as pyplot\n",
    "import matplotlib.ticker as ticker\n",
    "from sklearn.feature_extraction.text import TfidfVectorizer\n",
    "from sklearn.model_selection import train_test_split\n",
    "from io import StringIO\n",
    "from IPython.core.display import display, HTML\n",
    "from tensorflow.keras.models import Sequential\n",
    "from tensorflow.keras.layers import Dense\n",
    "from tensorflow.keras.callbacks import EarlyStopping, ModelCheckpoint\n",
    "\n",
    "# store standard out stream\n",
    "original_stdout = sys.stdout\n",
    "\n",
    "print(f\"Python: {sys.version}\")\n",
    "print(f\"Numpy {numpy.__version__}\")\n",
    "print(f\"Pandas {pandas.__version__}\")\n",
    "print(f\"Scikit-Learn {sklearn.__version__}\")\n",
    "print(f\"Tensor Flow Version: {tensorflow.__version__} (Keras Version: {tensorflow.keras.__version__})\")"
   ],
   "metadata": {
    "collapsed": false,
    "pycharm": {
     "name": "#%%\n"
    }
   },
   "execution_count": 1,
   "outputs": [
    {
     "name": "stdout",
     "output_type": "stream",
     "text": [
      "Python: 3.8.5 (tags/v3.8.5:580fbb0, Jul 20 2020, 15:57:54) [MSC v.1924 64 bit (AMD64)]\n",
      "Numpy 1.18.5\n",
      "Pandas 1.1.2\n",
      "Scikit-Learn 0.23.2\n",
      "Tensor Flow Version: 2.3.0 (Keras Version: 2.4.0)\n"
     ]
    }
   ]
  },
  {
   "cell_type": "markdown",
   "source": [
    "<hr style=\"border-top: 1px solid #444\">"
   ],
   "metadata": {
    "collapsed": false,
    "pycharm": {
     "name": "#%% md\n"
    }
   }
  },
  {
   "cell_type": "markdown",
   "source": [
    "# I. Data Importation"
   ],
   "metadata": {
    "collapsed": false,
    "pycharm": {
     "name": "#%% md\n"
    }
   }
  },
  {
   "cell_type": "markdown",
   "source": [
    "## Dataset Location"
   ],
   "metadata": {
    "collapsed": false,
    "pycharm": {
     "name": "#%% md\n"
    }
   }
  },
  {
   "cell_type": "code",
   "execution_count": 2,
   "outputs": [],
   "source": [
    "file_businesses = r\"data/yelp_academic_dataset_business.json\"\n",
    "file_user_reviews = r\"data/yelp_academic_dataset_review.json\""
   ],
   "metadata": {
    "collapsed": false,
    "pycharm": {
     "name": "#%%\n"
    }
   }
  },
  {
   "cell_type": "markdown",
   "source": [
    "## Import Yelp Businesses"
   ],
   "metadata": {
    "collapsed": false,
    "pycharm": {
     "name": "#%% md\n"
    }
   }
  },
  {
   "cell_type": "code",
   "execution_count": 3,
   "outputs": [
    {
     "name": "stdout",
     "output_type": "stream",
     "text": [
      "Imported 209,393 distinct businesses in 4.138680 seconds\n"
     ]
    }
   ],
   "source": [
    "start_time = time.time()\n",
    "\n",
    "# business structure\n",
    "class Business(TypedDict):\n",
    "    business_id: str\n",
    "    name: str\n",
    "    address: str\n",
    "    city: str\n",
    "    state: str\n",
    "    postal_code: str\n",
    "    latitude: float\n",
    "    longitude: float\n",
    "    stars: float\n",
    "    review_count: int\n",
    "    is_open: int\n",
    "    attributes: Dict\n",
    "    categories: List[str]\n",
    "    hours: Dict\n",
    "\n",
    "# businesses indexed by business_id (i.e. {business['business_id']: Business}\n",
    "businesses_by_id: Dict[str, Business] = {}\n",
    "\n",
    "# parse all businesses\n",
    "with open(file_businesses, 'r', encoding='utf-8') as file:\n",
    "    # iterate over newline-deliminted JSON records\n",
    "    record: str\n",
    "    for record in file:\n",
    "        # parse JSON record\n",
    "        business: Business = json.loads(record)\n",
    "        # map Business by business_id\n",
    "        businesses_by_id[business['business_id']] = business\n",
    "\n",
    "print(f\"Imported {len(businesses_by_id):,} distinct businesses in {time.time() - start_time:.6f} seconds\")"
   ],
   "metadata": {
    "collapsed": false,
    "pycharm": {
     "name": "#%%\n"
    }
   }
  },
  {
   "cell_type": "markdown",
   "source": [
    "## Import User Review Texts"
   ],
   "metadata": {
    "collapsed": false,
    "pycharm": {
     "name": "#%% md\n"
    }
   }
  },
  {
   "cell_type": "code",
   "execution_count": 4,
   "outputs": [
    {
     "name": "stdout",
     "output_type": "stream",
     "text": [
      "Imported 8,021,122 user reviews in 88.980706 seconds\n"
     ]
    }
   ],
   "source": [
    "start_time = time.time()\n",
    "\n",
    "# user review structure\n",
    "class UserReview(TypedDict):\n",
    "    review_id: str\n",
    "    user_id: str\n",
    "    business_id: str\n",
    "    date: str\n",
    "    stars: int # [0, 1, 2, 3, 4, 5]\n",
    "    text: str\n",
    "    # review ratings\n",
    "    useful: int\n",
    "    funny: int\n",
    "    cool: int\n",
    "\n",
    "# user reviews indexed by business_id (i.e. {business_id: UserReview[]})\n",
    "business_review_texts: Dict[str, List[str]] = {\n",
    "    business_id: [] for business_id in businesses_by_id.keys()\n",
    "}\n",
    "\n",
    "# parse user reviews\n",
    "with open(file_user_reviews, 'r', encoding='utf-8') as file:\n",
    "    # iterate over newline-deliminted JSON records\n",
    "    record: str\n",
    "    for record in file:\n",
    "        # parse JSON record\n",
    "        review: UserReview = json.loads(record)\n",
    "        # map user review by business_id\n",
    "        business_review_texts[review['business_id']].append(review[\"text\"])\n",
    "\n",
    "print(f\"Imported {sum([len(reviews) for reviews in business_review_texts.values()]):,} user reviews in {time.time() - start_time:.6f} seconds\")"
   ],
   "metadata": {
    "collapsed": false,
    "pycharm": {
     "name": "#%%\n"
    }
   }
  },
  {
   "cell_type": "markdown",
   "source": [
    "<hr style=\"border-top: 1px solid #444\">"
   ],
   "metadata": {
    "collapsed": false,
    "pycharm": {
     "name": "#%% md\n"
    }
   }
  },
  {
   "cell_type": "markdown",
   "source": [
    "## II. Dataset Visualizations"
   ],
   "metadata": {
    "collapsed": false
   }
  },
  {
   "cell_type": "markdown",
   "source": [
    "### Star Rating Distribution"
   ],
   "metadata": {
    "collapsed": false,
    "pycharm": {
     "name": "#%% md\n"
    }
   }
  },
  {
   "cell_type": "code",
   "execution_count": 5,
   "outputs": [
    {
     "data": {
      "text/plain": "<Figure size 864x288 with 1 Axes>",
      "image/png": "[encoded data removed]"
     },
     "metadata": {
      "needs_background": "light"
     },
     "output_type": "display_data"
    },
    {
     "name": "stdout",
     "output_type": "stream",
     "text": [
      "Rendered graphic in 0.563788 seconds\n"
     ]
    }
   ],
   "source": [
    "start_time = time.time()\n",
    "\n",
    "pyplot.figure(figsize=(12, 4))\n",
    "pyplot.title(\"Star Rating Histogram\")\n",
    "pyplot.xlabel(\"Star Rating\")\n",
    "pyplot.ylabel(\"Frequency\")\n",
    "\n",
    "star_color = spectra.scale(['red', 'yellow', 'green'])\n",
    "for star_rating, frequency in pandas.DataFrame(businesses_by_id.values(), columns=['stars'])['stars'].value_counts().sort_index().items():\n",
    "    pyplot.bar(str(star_rating), frequency, color = star_color((star_rating - 1)/ 4).hexcode)\n",
    "    pyplot.text((star_rating-1) * 2-.2, frequency + 400, frequency)\n",
    "\n",
    "pyplot.show()\n",
    "\n",
    "print(f\"Rendered graphic in {time.time() - start_time:.6f} seconds\")"
   ],
   "metadata": {
    "collapsed": false,
    "pycharm": {
     "name": "#%%\n"
    }
   }
  },
  {
   "cell_type": "markdown",
   "source": [
    "### Review Count Distribution"
   ],
   "metadata": {
    "collapsed": false
   }
  },
  {
   "cell_type": "code",
   "execution_count": 6,
   "outputs": [
    {
     "data": {
      "text/plain": "<Figure size 864x288 with 2 Axes>",
      "image/png": "[encoded data removed]"
     },
     "metadata": {
      "needs_background": "light"
     },
     "output_type": "display_data"
    },
    {
     "name": "stdout",
     "output_type": "stream",
     "text": [
      "Rendered graphic in 36.329850 seconds\n"
     ]
    }
   ],
   "source": [
    "start_time = time.time()\n",
    "\n",
    "stars = [business['review_count'] for business in businesses_by_id.values()]\n",
    "\n",
    "figure = pyplot.figure(figsize=(12, 4))\n",
    "axes = figure.add_subplot(1, 2, 1)\n",
    "axes.set_title(\"Frequency of Review Counts\")\n",
    "axes.set_xlabel(\"Business Review Count\")\n",
    "axes.axis(xmin=0, xmax=mean(stars) + stdev(stars))\n",
    "axes.set_ylabel(\"Frequency\")\n",
    "axes.grid(True)\n",
    "axes.hist(stars, bins = list(range(0, max(stars))))\n",
    "\n",
    "## Cumulative\n",
    "axes = figure.add_subplot(1, 2, 2)\n",
    "axes.set_title(\"Cumulative Distribution of Review Counts\")\n",
    "axes.set_xlabel(\"Business Review Count\")\n",
    "axes.axis(xmin=0, xmax=mean(stars) + stdev(stars))\n",
    "axes.set_ylabel(\"Cumulative Proportion\")\n",
    "axes.yaxis.set_major_formatter(ticker.FuncFormatter('{0:.0%}'.format))\n",
    "axes.grid(True)\n",
    "pyplot.hist(stars, bins=list(range(0, max(stars))), cumulative=True,  density=True)\n",
    "\n",
    "pyplot.show()\n",
    "\n",
    "print(f\"Rendered graphic in {time.time() - start_time:.6f} seconds\")"
   ],
   "metadata": {
    "collapsed": false,
    "pycharm": {
     "name": "#%%\n"
    }
   }
  },
  {
   "cell_type": "markdown",
   "source": [
    "<hr style=\"border-top: 1px solid #444\">"
   ],
   "metadata": {
    "collapsed": false
   }
  },
  {
   "cell_type": "markdown",
   "source": [
    "## III. Data Preprocessing"
   ],
   "metadata": {
    "collapsed": false,
    "pycharm": {
     "name": "#%% md\n"
    }
   }
  },
  {
   "cell_type": "markdown",
   "source": [
    "### Filter businesses with less than X reviews"
   ],
   "metadata": {
    "collapsed": false,
    "pycharm": {
     "name": "#%% md\n"
    }
   }
  },
  {
   "cell_type": "code",
   "execution_count": 7,
   "outputs": [],
   "source": [
    "MINIMUM_REVIEW_COUNT = 15\n",
    "\n",
    "filtered_businesses = [business for business in businesses_by_id.values() if MINIMUM_REVIEW_COUNT <= business['review_count']]"
   ],
   "metadata": {
    "collapsed": false,
    "pycharm": {
     "name": "#%%\n"
    }
   }
  },
  {
   "cell_type": "markdown",
   "source": [
    "### Data Partitioning: Train, Validate, Test"
   ],
   "metadata": {
    "collapsed": false,
    "pycharm": {
     "name": "#%% md\n"
    }
   }
  },
  {
   "cell_type": "code",
   "execution_count": 8,
   "outputs": [
    {
     "name": "stdout",
     "output_type": "stream",
     "text": [
      "Partitioned 209,393 businesses into {'train': 10000, 'validate': 1000, 'test': 10000} in 0.126893 seconds\n",
      "Remaining unused businesses: 188,393\n"
     ]
    }
   ],
   "source": [
    "TRAINING_SIZE = 10_000\n",
    "VALIDATE_SIZE = 1_000\n",
    "TESTING_SIZE = 10_000\n",
    "\n",
    "\n",
    "start_time = time.time()\n",
    "\n",
    "partitions={}\n",
    "partitions['train'], _ = train_test_split(\n",
    "    # select all businesses that are greater than or equal to MINIMUM_REVIEW_COUNT\n",
    "    filtered_businesses,\n",
    "    # partition proportions\n",
    "    train_size = TRAINING_SIZE,\n",
    "    shuffle = True,\n",
    "    # PRNG seed for deterministic behaviour\n",
    "    random_state = 42\n",
    ")\n",
    "partitions['validate'], partitions['test'] = train_test_split(\n",
    "    # select all businesses not in partitions['train']\n",
    "    [\n",
    "        businesses_by_id[business_id]\n",
    "        for business_id in set([business['business_id'] for business in filtered_businesses]).difference(set([business['business_id'] for business in partitions['train']]))\n",
    "    ],\n",
    "    # partition proportions\n",
    "    train_size = VALIDATE_SIZE,\n",
    "    test_size = TESTING_SIZE,\n",
    "    shuffle = True,\n",
    "    # PRNG seed for deterministic behaviour\n",
    "    random_state = 42\n",
    ")\n",
    "\n",
    "print(f\"Partitioned {len(businesses_by_id):,} businesses into { {category: len(partition) for category, partition in partitions.items()}} in {time.time() - start_time:.6f} seconds\")\n",
    "print(f\"Remaining unused businesses: {len(businesses_by_id) - sum([len(partition) for partition in partitions.values()]):,}\")"
   ],
   "metadata": {
    "collapsed": false,
    "pycharm": {
     "name": "#%%\n"
    }
   }
  },
  {
   "cell_type": "markdown",
   "source": [
    "### Input Features"
   ],
   "metadata": {
    "collapsed": false,
    "pycharm": {
     "name": "#%% md\n"
    }
   }
  },
  {
   "cell_type": "markdown",
   "source": [
    "#### Vectorize review texts using TFIDF vectorization NLP"
   ],
   "metadata": {
    "collapsed": false
   }
  },
  {
   "cell_type": "code",
   "execution_count": 9,
   "outputs": [
    {
     "name": "stdout",
     "output_type": "stream",
     "text": [
      "Word features cardinality: 500\n",
      "Word features: ['00', '10', '12', '15', '20', '30', '50', 'able', 'absolutely', 'actually', 'add', 'ago', 'amazing', 'appetizer', 'appointment', 'area', 'arrived', 'ask', 'asked', 'ate', 'atmosphere', 'attentive', 'authentic', 'available', 'average', 'away', 'awesome', 'bacon', 'bad', 'bar', 'bbq', 'beautiful', 'beef', 'beer', 'believe', 'best', 'better', 'big', 'birthday', 'bit', 'bite', 'black', 'bowl', 'bread', 'breakfast', 'bring', 'brought', 'brunch', 'buffet', 'burger', 'burgers', 'business', 'busy', 'buy', 'cake', 'called', 'came', 'car', 'card', 'care', 'casino', 'change', 'charge', 'cheap', 'check', 'checked', 'cheese', 'chef', 'chicken', 'chinese', 'chips', 'chocolate', 'choice', 'choose', 'city', 'clean', 'close', 'coffee', 'cold', 'come', 'comes', 'comfortable', 'coming', 'company', 'completely', 'cooked', 'cool', 'cost', 'couldn', 'counter', 'couple', 'course', 'crab', 'cream', 'crispy', 'customer', 'customers', 'cut', 'day', 'days', 'deal', 'decent', 'decided', 'decor', 'definitely', 'delicious', 'desk', 'dessert', 'did', 'didn', 'different', 'dining', 'dinner', 'disappointed', 'dish', 'dishes', 'does', 'doesn', 'dog', 'doing', 'don', 'door', 'dr', 'drink', 'drinks', 'drive', 'dry', 'early', 'easy', 'eat', 'eating', 'egg', 'eggs', 'employees', 'end', 'ended', 'enjoy', 'enjoyed', 'entire', 'especially', 'evening', 'excellent', 'expect', 'expected', 'expensive', 'experience', 'extra', 'extremely', 'fact', 'family', 'fan', 'fantastic', 'far', 'fast', 'favorite', 'feel', 'felt', 'finally', 'fine', 'fish', 'flavor', 'flavors', 'floor', 'food', 'free', 'french', 'fresh', 'friday', 'fried', 'friend', 'friendly', 'friends', 'fries', 'fun', 'garlic', 'gave', 'gets', 'getting', 'girl', 'given', 'glad', 'going', 'gone', 'good', 'got', 'great', 'green', 'grilled', 'group', 'guess', 'guy', 'guys', 'hair', 'half', 'happy', 'hard', 'haven', 'having', 'heard', 'help', 'helpful', 'high', 'highly', 'home', 'horrible', 'hot', 'hotel', 'hour', 'hours', 'house', 'huge', 'husband', 'ice', 'immediately', 'impressed', 'inside', 'instead', 'isn', 'issue', 'italian', 'items', 'job', 'just', 'kept', 'kids', 'kind', 'kitchen', 'knew', 'know', 'lady', 'large', 'las', 'late', 'later', 'leave', 'left', 'let', 'life', 'light', 'like', 'liked', 'line', 'list', 'literally', 'little', 'live', 'll', 'local', 'location', 'long', 'look', 'looked', 'looking', 'looks', 'lot', 'lots', 'love', 'loved', 'lunch', 'main', 'make', 'makes', 'making', 'man', 'manager', 'maybe', 'meal', 'meat', 'menu', 'mexican', 'mind', 'minutes', 'money', 'months', 'morning', 'music', 'nails', 'near', 'need', 'needed', 'needs', 'new', 'nice', 'night', 'noodles', 'offer', 'offered', 'office', 'oh', 'ok', 'okay', 'old', 'open', 'options', 'order', 'ordered', 'ordering', 'orders', 'outside', 'overall', 'owner', 'paid', 'parking', 'party', 'past', 'pasta', 'patio', 'pay', 'people', 'perfect', 'perfectly', 'person', 'phone', 'pick', 'pizza', 'place', 'places', 'plate', 'plenty', 'plus', 'point', 'pool', 'pork', 'portion', 'portions', 'potatoes', 'pretty', 'price', 'priced', 'prices', 'probably', 'problem', 'professional', 'quality', 'quick', 'quickly', 'quite', 'ready', 'real', 'really', 'reason', 'reasonable', 'received', 'recommend', 'recommended', 'red', 'regular', 'remember', 'rest', 'restaurant', 'restaurants', 'return', 'review', 'reviews', 'rice', 'right', 'roll', 'rolls', 'room', 'rooms', 'rude', 'run', 'said', 'salad', 'salmon', 'sandwich', 'sat', 'saturday', 'sauce', 'saw', 'say', 'seafood', 'seated', 'seating', 'second', 'seen', 'selection', 'serve', 'served', 'server', 'servers', 'service', 'set', 'shop', 'short', 'shrimp', 'simple', 'sit', 'sitting', 'size', 'slow', 'small', 'soft', 'soon', 'soup', 'space', 'special', 'spicy', 'spot', 'staff', 'star', 'stars', 'start', 'started', 'stay', 'stayed', 'steak', 'stop', 'stopped', 'store', 'street', 'strip', 'stuff', 'style', 'sunday', 'super', 'sure', 'sushi', 'sweet', 'table', 'tables', 'taco', 'tacos', 'taken', 'taking', 'taste', 'tasted', 'tasty', 'tea', 'tell', 'terrible', 'thai', 'thank', 'thanks', 'thing', 'things', 'think', 'thought', 'time', 'times', 'tip', 'today', 'told', 'took', 'totally', 'town', 'tried', 'trip', 'try', 'trying', 'twice', 'type', 'understand', 'unfortunately', 'use', 'used', 'usually', 'variety', 've', 'vegas', 'view', 'visit', 'wait', 'waited', 'waiter', 'waiting', 'waitress', 'walk', 'walked', 'walking', 'want', 'wanted', 'warm', 'wasn', 'water', 'way', 'week', 'weekend', 'weeks', 'went', 'weren', 'white', 'wife', 'wine', 'wings', 'wish', 'won', 'wonderful', 'work', 'working', 'worst', 'worth', 'wouldn', 'wow', 'wrong', 'year', 'years', 'yelp', 'yes', 'yummy']\n",
      "IDF Vectorized 21,000 businesses review texts in 162.480063 seconds\n"
     ]
    }
   ],
   "source": [
    "start_time = time.time()\n",
    "\n",
    "# construct vectorizer\n",
    "vectorizer: TfidfVectorizer = TfidfVectorizer(\n",
    "    # maximum word features\n",
    "    max_features = 500,\n",
    "    # prune english stop words\n",
    "    stop_words = 'english',\n",
    "    # min_df: ignore terms that have a document frequency < min_df.\n",
    "    # min_df = 10, (redundant for large data sets)\n",
    ")\n",
    "\n",
    "# construct corpus partitions\n",
    "tfidf = {\n",
    "    category: getattr(vectorizer, 'fit_transform' if category == 'train' else 'transform')\n",
    "              ([\"\\n\".join(business_review_texts[business['business_id']]) for business in partition])\n",
    "              .toarray()\n",
    "    for category, partition in partitions.items()\n",
    "}\n",
    "\n",
    "print(f\"Word features cardinality: {len(vectorizer.get_feature_names()):,}\")\n",
    "print(f\"Word features: {vectorizer.get_feature_names()}\")\n",
    "print(f\"IDF Vectorized {sum([len(matrix) for matrix in tfidf.values()]):,} businesses review texts in {time.time() - start_time:.6f} seconds\")"
   ],
   "metadata": {
    "collapsed": false,
    "pycharm": {
     "name": "#%%\n"
    }
   }
  },
  {
   "cell_type": "markdown",
   "source": [
    "#### Input Matrix"
   ],
   "metadata": {
    "collapsed": false,
    "pycharm": {
     "name": "#%% md\n"
    }
   }
  },
  {
   "cell_type": "code",
   "execution_count": 10,
   "outputs": [
    {
     "name": "stdout",
     "output_type": "stream",
     "text": [
      "Training:\n",
      "\tFeatures shape: (10000, 500)\n",
      "Validate:\n",
      "\tFeatures shape: (1000, 500)\n",
      "Testing:\n",
      "\tFeatures shape: (10000, 500)\n"
     ]
    }
   ],
   "source": [
    "tf_input = tfidf\n",
    "\n",
    "print(\"Training:\")\n",
    "print(f\"\\tFeatures shape: {tf_input['train'].shape}\")\n",
    "print(\"Validate:\")\n",
    "print(f\"\\tFeatures shape: {tf_input['validate'].shape}\")\n",
    "print(\"Testing:\")\n",
    "print(f\"\\tFeatures shape: {tf_input['test'].shape}\")"
   ],
   "metadata": {
    "collapsed": false,
    "pycharm": {
     "name": "#%%\n"
    }
   }
  },
  {
   "cell_type": "markdown",
   "source": [
    "### Output Features"
   ],
   "metadata": {
    "collapsed": false
   }
  },
  {
   "cell_type": "markdown",
   "source": [
    "#### Star Rating"
   ],
   "metadata": {
    "collapsed": false
   }
  },
  {
   "cell_type": "code",
   "execution_count": 11,
   "outputs": [],
   "source": [
    "stars = {\n",
    "    category: numpy.array([[business['stars']] for business in partition])\n",
    "    for category, partition in partitions.items()\n",
    "}"
   ],
   "metadata": {
    "collapsed": false,
    "pycharm": {
     "name": "#%%\n"
    }
   }
  },
  {
   "cell_type": "markdown",
   "source": [
    "#### Output Matrix"
   ],
   "metadata": {
    "collapsed": false
   }
  },
  {
   "cell_type": "code",
   "execution_count": 12,
   "outputs": [
    {
     "name": "stdout",
     "output_type": "stream",
     "text": [
      "Training:\n",
      "\tFeatures shape: (10000, 1)\n",
      "Validate:\n",
      "\tFeatures shape: (1000, 1)\n",
      "Testing:\n",
      "\tFeatures shape: (10000, 1)\n"
     ]
    }
   ],
   "source": [
    "tf_output = stars\n",
    "\n",
    "print(\"Training:\")\n",
    "print(f\"\\tFeatures shape: {tf_output['train'].shape}\")\n",
    "print(\"Validate:\")\n",
    "print(f\"\\tFeatures shape: {tf_output['validate'].shape}\")\n",
    "print(\"Testing:\")\n",
    "print(f\"\\tFeatures shape: {tf_output['test'].shape}\")"
   ],
   "metadata": {
    "collapsed": false,
    "pycharm": {
     "name": "#%%\n"
    }
   }
  },
  {
   "cell_type": "markdown",
   "source": [
    "<hr style=\"border-top: 1px solid #444\">"
   ],
   "metadata": {
    "collapsed": false
   }
  },
  {
   "cell_type": "markdown",
   "source": [
    "# IV. Model Training"
   ],
   "metadata": {
    "collapsed": false
   }
  },
  {
   "cell_type": "code",
   "execution_count": 13,
   "outputs": [
    {
     "name": "stdout",
     "output_type": "stream",
     "text": [
      "Model trained in 56.453961 seconds\n"
     ]
    },
    {
     "data": {
      "text/plain": "<IPython.core.display.HTML object>",
      "text/html": "    <details>        <summary><b>Training Details</b></summary>        <sub><sup>            Epoch 1/250<br>313/313 - 1s - loss: 0.8559 - mse: 0.8559 - val_loss: 0.4042 - val_mse: 0.4042<br>Epoch 2/250<br>313/313 - 1s - loss: 0.2763 - mse: 0.2763 - val_loss: 0.2241 - val_mse: 0.2241<br>Epoch 3/250<br>313/313 - 1s - loss: 0.1853 - mse: 0.1853 - val_loss: 0.1875 - val_mse: 0.1875<br>Epoch 4/250<br>313/313 - 1s - loss: 0.1641 - mse: 0.1641 - val_loss: 0.1722 - val_mse: 0.1722<br>Epoch 5/250<br>313/313 - 1s - loss: 0.1537 - mse: 0.1537 - val_loss: 0.1633 - val_mse: 0.1633<br>Epoch 6/250<br>313/313 - 1s - loss: 0.1466 - mse: 0.1466 - val_loss: 0.1565 - val_mse: 0.1565<br>Epoch 7/250<br>313/313 - 1s - loss: 0.1413 - mse: 0.1413 - val_loss: 0.1533 - val_mse: 0.1533<br>Epoch 8/250<br>313/313 - 0s - loss: 0.1373 - mse: 0.1373 - val_loss: 0.1474 - val_mse: 0.1474<br>Epoch 9/250<br>313/313 - 1s - loss: 0.1338 - mse: 0.1338 - val_loss: 0.1459 - val_mse: 0.1459<br>Epoch 10/250<br>313/313 - 0s - loss: 0.1310 - mse: 0.1310 - val_loss: 0.1522 - val_mse: 0.1522<br>Epoch 11/250<br>313/313 - 0s - loss: 0.1279 - mse: 0.1279 - val_loss: 0.1427 - val_mse: 0.1427<br>Epoch 12/250<br>313/313 - 0s - loss: 0.1263 - mse: 0.1263 - val_loss: 0.1359 - val_mse: 0.1359<br>Epoch 13/250<br>313/313 - 0s - loss: 0.1241 - mse: 0.1241 - val_loss: 0.1341 - val_mse: 0.1341<br>Epoch 14/250<br>313/313 - 0s - loss: 0.1226 - mse: 0.1226 - val_loss: 0.1372 - val_mse: 0.1372<br>Epoch 15/250<br>313/313 - 0s - loss: 0.1205 - mse: 0.1205 - val_loss: 0.1315 - val_mse: 0.1315<br>Epoch 16/250<br>313/313 - 0s - loss: 0.1194 - mse: 0.1194 - val_loss: 0.1292 - val_mse: 0.1292<br>Epoch 17/250<br>313/313 - 0s - loss: 0.1178 - mse: 0.1178 - val_loss: 0.1278 - val_mse: 0.1278<br>Epoch 18/250<br>313/313 - 0s - loss: 0.1163 - mse: 0.1163 - val_loss: 0.1271 - val_mse: 0.1271<br>Epoch 19/250<br>313/313 - 0s - loss: 0.1148 - mse: 0.1148 - val_loss: 0.1276 - val_mse: 0.1276<br>Epoch 20/250<br>313/313 - 0s - loss: 0.1134 - mse: 0.1134 - val_loss: 0.1245 - val_mse: 0.1245<br>Epoch 21/250<br>313/313 - 0s - loss: 0.1120 - mse: 0.1120 - val_loss: 0.1238 - val_mse: 0.1238<br>Epoch 22/250<br>313/313 - 0s - loss: 0.1106 - mse: 0.1106 - val_loss: 0.1223 - val_mse: 0.1223<br>Epoch 23/250<br>313/313 - 0s - loss: 0.1097 - mse: 0.1097 - val_loss: 0.1267 - val_mse: 0.1267<br>Epoch 24/250<br>313/313 - 0s - loss: 0.1083 - mse: 0.1083 - val_loss: 0.1236 - val_mse: 0.1236<br>Epoch 25/250<br>313/313 - 0s - loss: 0.1070 - mse: 0.1070 - val_loss: 0.1307 - val_mse: 0.1307<br>Epoch 26/250<br>313/313 - 0s - loss: 0.1063 - mse: 0.1063 - val_loss: 0.1205 - val_mse: 0.1205<br>Epoch 27/250<br>313/313 - 0s - loss: 0.1054 - mse: 0.1054 - val_loss: 0.1171 - val_mse: 0.1171<br>Epoch 28/250<br>313/313 - 0s - loss: 0.1042 - mse: 0.1042 - val_loss: 0.1170 - val_mse: 0.1170<br>Epoch 29/250<br>313/313 - 0s - loss: 0.1032 - mse: 0.1032 - val_loss: 0.1200 - val_mse: 0.1200<br>Epoch 30/250<br>313/313 - 0s - loss: 0.1025 - mse: 0.1025 - val_loss: 0.1195 - val_mse: 0.1195<br>Epoch 31/250<br>313/313 - 0s - loss: 0.1015 - mse: 0.1015 - val_loss: 0.1136 - val_mse: 0.1136<br>Epoch 32/250<br>313/313 - 0s - loss: 0.1007 - mse: 0.1007 - val_loss: 0.1146 - val_mse: 0.1146<br>Epoch 33/250<br>313/313 - 0s - loss: 0.0996 - mse: 0.0996 - val_loss: 0.1117 - val_mse: 0.1117<br>Epoch 34/250<br>313/313 - 0s - loss: 0.0989 - mse: 0.0989 - val_loss: 0.1203 - val_mse: 0.1203<br>Epoch 35/250<br>313/313 - 0s - loss: 0.0980 - mse: 0.0980 - val_loss: 0.1107 - val_mse: 0.1107<br>Epoch 36/250<br>313/313 - 0s - loss: 0.0978 - mse: 0.0978 - val_loss: 0.1097 - val_mse: 0.1097<br>Epoch 37/250<br>313/313 - 0s - loss: 0.0967 - mse: 0.0967 - val_loss: 0.1167 - val_mse: 0.1167<br>Epoch 38/250<br>313/313 - 0s - loss: 0.0960 - mse: 0.0960 - val_loss: 0.1187 - val_mse: 0.1187<br>Epoch 39/250<br>313/313 - 0s - loss: 0.0955 - mse: 0.0955 - val_loss: 0.1093 - val_mse: 0.1093<br>Epoch 40/250<br>313/313 - 0s - loss: 0.0951 - mse: 0.0951 - val_loss: 0.1093 - val_mse: 0.1093<br>Epoch 41/250<br>313/313 - 0s - loss: 0.0943 - mse: 0.0943 - val_loss: 0.1067 - val_mse: 0.1067<br>Epoch 42/250<br>313/313 - 0s - loss: 0.0940 - mse: 0.0940 - val_loss: 0.1067 - val_mse: 0.1067<br>Epoch 43/250<br>313/313 - 0s - loss: 0.0932 - mse: 0.0932 - val_loss: 0.1158 - val_mse: 0.1158<br>Epoch 44/250<br>313/313 - 0s - loss: 0.0929 - mse: 0.0929 - val_loss: 0.1061 - val_mse: 0.1061<br>Epoch 45/250<br>313/313 - 0s - loss: 0.0921 - mse: 0.0921 - val_loss: 0.1053 - val_mse: 0.1053<br>Epoch 46/250<br>313/313 - 1s - loss: 0.0921 - mse: 0.0921 - val_loss: 0.1059 - val_mse: 0.1059<br>Epoch 47/250<br>313/313 - 0s - loss: 0.0913 - mse: 0.0913 - val_loss: 0.1180 - val_mse: 0.1180<br>Epoch 48/250<br>313/313 - 0s - loss: 0.0906 - mse: 0.0906 - val_loss: 0.1123 - val_mse: 0.1123<br>Epoch 49/250<br>313/313 - 0s - loss: 0.0901 - mse: 0.0901 - val_loss: 0.1043 - val_mse: 0.1043<br>Epoch 50/250<br>313/313 - 0s - loss: 0.0897 - mse: 0.0897 - val_loss: 0.1078 - val_mse: 0.1078<br>Epoch 51/250<br>313/313 - 0s - loss: 0.0897 - mse: 0.0897 - val_loss: 0.1041 - val_mse: 0.1041<br>Epoch 52/250<br>313/313 - 0s - loss: 0.0896 - mse: 0.0896 - val_loss: 0.1038 - val_mse: 0.1038<br>Epoch 53/250<br>313/313 - 0s - loss: 0.0892 - mse: 0.0892 - val_loss: 0.1066 - val_mse: 0.1066<br>Epoch 54/250<br>313/313 - 0s - loss: 0.0886 - mse: 0.0886 - val_loss: 0.1059 - val_mse: 0.1059<br>Epoch 55/250<br>313/313 - 0s - loss: 0.0886 - mse: 0.0886 - val_loss: 0.1031 - val_mse: 0.1031<br>Epoch 56/250<br>313/313 - 0s - loss: 0.0878 - mse: 0.0878 - val_loss: 0.1021 - val_mse: 0.1021<br>Epoch 57/250<br>313/313 - 0s - loss: 0.0874 - mse: 0.0874 - val_loss: 0.1021 - val_mse: 0.1021<br>Epoch 58/250<br>313/313 - 0s - loss: 0.0870 - mse: 0.0870 - val_loss: 0.1016 - val_mse: 0.1016<br>Epoch 59/250<br>313/313 - 0s - loss: 0.0873 - mse: 0.0873 - val_loss: 0.1077 - val_mse: 0.1077<br>Epoch 60/250<br>313/313 - 0s - loss: 0.0867 - mse: 0.0867 - val_loss: 0.1021 - val_mse: 0.1021<br>Epoch 61/250<br>313/313 - 0s - loss: 0.0862 - mse: 0.0862 - val_loss: 0.1053 - val_mse: 0.1053<br>Epoch 62/250<br>313/313 - 0s - loss: 0.0861 - mse: 0.0861 - val_loss: 0.1008 - val_mse: 0.1008<br>Epoch 63/250<br>313/313 - 0s - loss: 0.0856 - mse: 0.0856 - val_loss: 0.1012 - val_mse: 0.1012<br>Epoch 64/250<br>313/313 - 0s - loss: 0.0856 - mse: 0.0856 - val_loss: 0.1116 - val_mse: 0.1116<br>Epoch 65/250<br>313/313 - 0s - loss: 0.0852 - mse: 0.0852 - val_loss: 0.1028 - val_mse: 0.1028<br>Epoch 66/250<br>313/313 - 0s - loss: 0.0851 - mse: 0.0851 - val_loss: 0.1071 - val_mse: 0.1071<br>Epoch 67/250<br>313/313 - 0s - loss: 0.0849 - mse: 0.0849 - val_loss: 0.1051 - val_mse: 0.1051<br>Epoch 68/250<br>313/313 - 0s - loss: 0.0844 - mse: 0.0844 - val_loss: 0.1061 - val_mse: 0.1061<br>Epoch 69/250<br>313/313 - 0s - loss: 0.0843 - mse: 0.0843 - val_loss: 0.1002 - val_mse: 0.1002<br>Epoch 70/250<br>313/313 - 0s - loss: 0.0842 - mse: 0.0842 - val_loss: 0.1005 - val_mse: 0.1005<br>Epoch 71/250<br>313/313 - 0s - loss: 0.0838 - mse: 0.0838 - val_loss: 0.1024 - val_mse: 0.1024<br>Epoch 72/250<br>313/313 - 0s - loss: 0.0834 - mse: 0.0834 - val_loss: 0.1047 - val_mse: 0.1047<br>Epoch 73/250<br>313/313 - 0s - loss: 0.0832 - mse: 0.0832 - val_loss: 0.1001 - val_mse: 0.1001<br>Epoch 74/250<br>313/313 - 0s - loss: 0.0832 - mse: 0.0832 - val_loss: 0.1057 - val_mse: 0.1057<br>Epoch 75/250<br>313/313 - 0s - loss: 0.0828 - mse: 0.0828 - val_loss: 0.0999 - val_mse: 0.0999<br>Epoch 76/250<br>313/313 - 0s - loss: 0.0828 - mse: 0.0828 - val_loss: 0.1008 - val_mse: 0.1008<br>Epoch 77/250<br>313/313 - 0s - loss: 0.0825 - mse: 0.0825 - val_loss: 0.1003 - val_mse: 0.1003<br>Epoch 78/250<br>313/313 - 0s - loss: 0.0822 - mse: 0.0822 - val_loss: 0.0995 - val_mse: 0.0995<br>Epoch 79/250<br>313/313 - 0s - loss: 0.0822 - mse: 0.0822 - val_loss: 0.1023 - val_mse: 0.1023<br>Epoch 80/250<br>313/313 - 0s - loss: 0.0817 - mse: 0.0817 - val_loss: 0.1003 - val_mse: 0.1003<br>Epoch 81/250<br>313/313 - 0s - loss: 0.0819 - mse: 0.0819 - val_loss: 0.0993 - val_mse: 0.0993<br>Epoch 82/250<br>313/313 - 0s - loss: 0.0815 - mse: 0.0815 - val_loss: 0.0999 - val_mse: 0.0999<br>Epoch 83/250<br>313/313 - 0s - loss: 0.0816 - mse: 0.0816 - val_loss: 0.1016 - val_mse: 0.1016<br>Epoch 84/250<br>313/313 - 0s - loss: 0.0810 - mse: 0.0810 - val_loss: 0.1001 - val_mse: 0.1001<br>Epoch 85/250<br>313/313 - 0s - loss: 0.0809 - mse: 0.0809 - val_loss: 0.0991 - val_mse: 0.0991<br>Epoch 86/250<br>313/313 - 0s - loss: 0.0814 - mse: 0.0814 - val_loss: 0.0993 - val_mse: 0.0993<br>Epoch 87/250<br>313/313 - 0s - loss: 0.0808 - mse: 0.0808 - val_loss: 0.1011 - val_mse: 0.1011<br>Epoch 88/250<br>313/313 - 0s - loss: 0.0807 - mse: 0.0807 - val_loss: 0.0991 - val_mse: 0.0991<br>Epoch 89/250<br>313/313 - 0s - loss: 0.0808 - mse: 0.0808 - val_loss: 0.0993 - val_mse: 0.0993<br>Epoch 90/250<br>313/313 - 0s - loss: 0.0802 - mse: 0.0802 - val_loss: 0.0994 - val_mse: 0.0994<br>Epoch 91/250<br>313/313 - 0s - loss: 0.0803 - mse: 0.0803 - val_loss: 0.1016 - val_mse: 0.1016<br>Epoch 92/250<br>313/313 - 0s - loss: 0.0799 - mse: 0.0799 - val_loss: 0.0998 - val_mse: 0.0998<br>Epoch 93/250<br>313/313 - 0s - loss: 0.0802 - mse: 0.0802 - val_loss: 0.1011 - val_mse: 0.1011<br>Epoch 94/250<br>313/313 - 0s - loss: 0.0797 - mse: 0.0797 - val_loss: 0.0994 - val_mse: 0.0994<br>Epoch 95/250<br>313/313 - 0s - loss: 0.0798 - mse: 0.0798 - val_loss: 0.0985 - val_mse: 0.0985<br>Epoch 96/250<br>313/313 - 0s - loss: 0.0796 - mse: 0.0796 - val_loss: 0.1101 - val_mse: 0.1101<br>Epoch 97/250<br>313/313 - 0s - loss: 0.0795 - mse: 0.0795 - val_loss: 0.0985 - val_mse: 0.0985<br>Epoch 98/250<br>313/313 - 0s - loss: 0.0793 - mse: 0.0793 - val_loss: 0.0987 - val_mse: 0.0987<br>Epoch 99/250<br>313/313 - 0s - loss: 0.0791 - mse: 0.0791 - val_loss: 0.1000 - val_mse: 0.1000<br>Epoch 100/250<br>313/313 - 0s - loss: 0.0792 - mse: 0.0792 - val_loss: 0.1059 - val_mse: 0.1059<br>Epoch 101/250<br>313/313 - 0s - loss: 0.0786 - mse: 0.0786 - val_loss: 0.0988 - val_mse: 0.0988<br>Epoch 102/250<br>313/313 - 0s - loss: 0.0787 - mse: 0.0787 - val_loss: 0.1000 - val_mse: 0.1000<br>Epoch 103/250<br>313/313 - 0s - loss: 0.0785 - mse: 0.0785 - val_loss: 0.1011 - val_mse: 0.1011<br>Epoch 104/250<br>313/313 - 0s - loss: 0.0785 - mse: 0.0785 - val_loss: 0.1009 - val_mse: 0.1009<br>Epoch 105/250<br>313/313 - 0s - loss: 0.0782 - mse: 0.0782 - val_loss: 0.0984 - val_mse: 0.0984<br>Epoch 106/250<br>313/313 - 0s - loss: 0.0780 - mse: 0.0780 - val_loss: 0.1099 - val_mse: 0.1099<br>Epoch 107/250<br>313/313 - 0s - loss: 0.0781 - mse: 0.0781 - val_loss: 0.1057 - val_mse: 0.1057<br>Epoch 108/250<br>313/313 - 0s - loss: 0.0778 - mse: 0.0778 - val_loss: 0.0985 - val_mse: 0.0985<br>Epoch 109/250<br>313/313 - 0s - loss: 0.0779 - mse: 0.0779 - val_loss: 0.1009 - val_mse: 0.1009<br>Epoch 110/250<br>313/313 - 0s - loss: 0.0779 - mse: 0.0779 - val_loss: 0.0978 - val_mse: 0.0978<br>Epoch 111/250<br>313/313 - 0s - loss: 0.0774 - mse: 0.0774 - val_loss: 0.1018 - val_mse: 0.1018<br>Epoch 112/250<br>313/313 - 0s - loss: 0.0776 - mse: 0.0776 - val_loss: 0.1004 - val_mse: 0.1004<br>Epoch 113/250<br>313/313 - 0s - loss: 0.0770 - mse: 0.0770 - val_loss: 0.0988 - val_mse: 0.0988<br>Epoch 114/250<br>313/313 - 0s - loss: 0.0774 - mse: 0.0774 - val_loss: 0.0999 - val_mse: 0.0999<br>Epoch 115/250<br>313/313 - 0s - loss: 0.0768 - mse: 0.0768 - val_loss: 0.0980 - val_mse: 0.0980<br>Epoch 116/250<br>313/313 - 0s - loss: 0.0770 - mse: 0.0770 - val_loss: 0.0991 - val_mse: 0.0991<br>Epoch 117/250<br>313/313 - 0s - loss: 0.0768 - mse: 0.0768 - val_loss: 0.0991 - val_mse: 0.0991<br>Epoch 118/250<br>313/313 - 0s - loss: 0.0766 - mse: 0.0766 - val_loss: 0.1013 - val_mse: 0.1013<br>Epoch 119/250<br>313/313 - 0s - loss: 0.0765 - mse: 0.0765 - val_loss: 0.0992 - val_mse: 0.0992<br>Epoch 120/250<br>313/313 - 0s - loss: 0.0761 - mse: 0.0761 - val_loss: 0.0989 - val_mse: 0.0989<br>Epoch 121/250<br>313/313 - 0s - loss: 0.0761 - mse: 0.0761 - val_loss: 0.1056 - val_mse: 0.1056<br>Epoch 122/250<br>313/313 - 0s - loss: 0.0763 - mse: 0.0763 - val_loss: 0.0981 - val_mse: 0.0981<br>Epoch 123/250<br>313/313 - 0s - loss: 0.0763 - mse: 0.0763 - val_loss: 0.0989 - val_mse: 0.0989<br>Epoch 124/250<br>313/313 - 0s - loss: 0.0761 - mse: 0.0761 - val_loss: 0.0978 - val_mse: 0.0978<br>Epoch 125/250<br>313/313 - 0s - loss: 0.0760 - mse: 0.0760 - val_loss: 0.0979 - val_mse: 0.0979<br>Epoch 126/250<br>313/313 - 0s - loss: 0.0756 - mse: 0.0756 - val_loss: 0.1026 - val_mse: 0.1026<br>Epoch 127/250<br>313/313 - 0s - loss: 0.0756 - mse: 0.0756 - val_loss: 0.0985 - val_mse: 0.0985<br>Epoch 128/250<br>313/313 - 0s - loss: 0.0758 - mse: 0.0758 - val_loss: 0.0993 - val_mse: 0.0993<br>Epoch 129/250<br>313/313 - 0s - loss: 0.0755 - mse: 0.0755 - val_loss: 0.0980 - val_mse: 0.0980<br>Epoch 130/250<br>313/313 - 0s - loss: 0.0755 - mse: 0.0755 - val_loss: 0.1016 - val_mse: 0.1016<br>Epoch 131/250<br>313/313 - 0s - loss: 0.0752 - mse: 0.0752 - val_loss: 0.0988 - val_mse: 0.0988<br>Epoch 132/250<br>313/313 - 0s - loss: 0.0752 - mse: 0.0752 - val_loss: 0.0982 - val_mse: 0.0982<br>Epoch 133/250<br>313/313 - 0s - loss: 0.0753 - mse: 0.0753 - val_loss: 0.0978 - val_mse: 0.0978<br>Epoch 134/250<br>313/313 - 0s - loss: 0.0753 - mse: 0.0753 - val_loss: 0.0981 - val_mse: 0.0981<br>Epoch 135/250<br>313/313 - 0s - loss: 0.0749 - mse: 0.0749 - val_loss: 0.1021 - val_mse: 0.1021        </sup></sub>    </details>"
     },
     "metadata": {},
     "output_type": "display_data"
    }
   ],
   "source": [
    "start_time = time.time()\n",
    "\n",
    "## Capture standard output\n",
    "# replace standard out for intercepting logging\n",
    "sys.stdout = captured_stdout = StringIO()\n",
    "\n",
    "## Train Model\n",
    "# build model\n",
    "model = Sequential()\n",
    "# add new neurons\n",
    "model.add(Dense(50, input_dim = tf_input['train'].shape[1]))\n",
    "model.add(Dense(25, activation = 'relu'))\n",
    "model.add(Dense(1))\n",
    "# set optimizer for gradient descent\n",
    "model.compile(loss = 'mean_squared_error', optimizer = 'sgd', metrics = ['mse'])\n",
    "\n",
    "# make temporary directory for saved model\n",
    "if not os.path.exists(\"temp\"):\n",
    "    os.mkdir(\"temp\")\n",
    "# run model training\n",
    "model.fit(\n",
    "    # training data\n",
    "    tf_input['train'], tf_output['train'],\n",
    "    # use test data to validate losses, but not for training\n",
    "    validation_data = (tf_input['validate'], tf_output['validate']),\n",
    "    callbacks = [\n",
    "        # patience: number of epochs with no improvement after which training will be stopped\n",
    "        EarlyStopping(monitor = 'val_loss', min_delta = 1e-3, patience = 25, mode = 'auto', verbose = 0),\n",
    "        # save best model from all trials\n",
    "        ModelCheckpoint(filepath = \"temp/model_best_weights.hdf5\", save_best_only = True, verbose = 0)\n",
    "    ],\n",
    "    verbose = 2,\n",
    "    epochs = 250\n",
    ")\n",
    "\n",
    "## Logging\n",
    "# restore standard out\n",
    "sys.stdout = original_stdout\n",
    "\n",
    "print(f\"Model trained in {time.time() - start_time:.6f} seconds\")\n",
    "# noinspection PyTypeChecker\n",
    "display(HTML(f'\\\n",
    "    <details>\\\n",
    "        <summary><b>Training Details</b></summary>\\\n",
    "        <sub><sup>\\\n",
    "            {\"<br>\".join(captured_stdout.getvalue().splitlines())}\\\n",
    "        </sup></sub>\\\n",
    "    </details>\\\n",
    "'))"
   ],
   "metadata": {
    "collapsed": false,
    "pycharm": {
     "name": "#%%\n"
    }
   }
  },
  {
   "cell_type": "markdown",
   "source": [
    "<hr style=\"border-top: 1px solid #444\">"
   ],
   "metadata": {
    "collapsed": false,
    "pycharm": {
     "name": "#%% md\n"
    }
   }
  },
  {
   "cell_type": "markdown",
   "source": [
    "# V. Testing & Analysis"
   ],
   "metadata": {
    "collapsed": false,
    "pycharm": {
     "name": "#%% md\n"
    }
   }
  },
  {
   "cell_type": "markdown",
   "source": [
    "## Compute Predictions"
   ],
   "metadata": {
    "collapsed": false
   }
  },
  {
   "cell_type": "code",
   "execution_count": 14,
   "outputs": [
    {
     "name": "stdout",
     "output_type": "stream",
     "text": [
      "Predicted 10000 business ratings in 0.674507 seconds\n"
     ]
    }
   ],
   "source": [
    "start_time = time.time()\n",
    "\n",
    "# load best model for prediction\n",
    "model.load_weights(\"temp/model_best_weights.hdf5\")\n",
    "\n",
    "# compute predicted ratings for test dataset\n",
    "predicted = model.predict(tf_input['test'])\n",
    "# map predictions to the nearest half-star\n",
    "predicted_rounded = numpy.array([min(round(prediction * 2) / 2, 5) for prediction in predicted.flatten()])\n",
    "\n",
    "print(f\"Predicted {len(tf_input['test'])} business ratings in {time.time() - start_time:.6f} seconds\")"
   ],
   "metadata": {
    "collapsed": false,
    "pycharm": {
     "name": "#%%\n"
    }
   }
  },
  {
   "cell_type": "markdown",
   "source": [
    "## Error Scoring (MSE/RSME) & Lift Chart Visualizations"
   ],
   "metadata": {
    "collapsed": false,
    "pycharm": {
     "name": "#%% md\n"
    }
   }
  },
  {
   "cell_type": "markdown",
   "source": [
    "### Continuous Predictions"
   ],
   "metadata": {
    "collapsed": false,
    "pycharm": {
     "name": "#%% md\n"
    }
   }
  },
  {
   "cell_type": "code",
   "execution_count": 15,
   "outputs": [
    {
     "name": "stdout",
     "output_type": "stream",
     "text": [
      "MSE Score: 0.09176953386658972\n",
      "RMSE Score: 0.3029348673668809\n"
     ]
    },
    {
     "data": {
      "text/plain": "<Figure size 432x288 with 1 Axes>",
      "image/png": "[encoded data removed]"
     },
     "metadata": {
      "needs_background": "light"
     },
     "output_type": "display_data"
    }
   ],
   "source": [
    "# measure MSE error\n",
    "mse_score = sklearn.metrics.mean_squared_error(predicted, tf_output['test'])\n",
    "\n",
    "# measure MSE error\n",
    "print(f\"MSE Score: {mse_score}\")\n",
    "# measure RMSE error\n",
    "print(f\"RMSE Score: {numpy.sqrt(mse_score)}\")\n",
    "\n",
    "%matplotlib inline\n",
    "table = pandas.DataFrame({'predicted' : predicted.flatten(), 'y' : tf_output['test'].flatten()})\n",
    "table.sort_values(by = ['y'], inplace = True)\n",
    "pyplot.plot(table['predicted'].tolist(), label = \"prediction\")\n",
    "pyplot.plot(table['y'].tolist(), label = \"expected\")\n",
    "pyplot.xlabel(\"business by ascending star rating\")\n",
    "pyplot.ylabel(\"stars\")\n",
    "pyplot.legend()\n",
    "pyplot.show()"
   ],
   "metadata": {
    "collapsed": false,
    "pycharm": {
     "name": "#%%\n"
    }
   }
  },
  {
   "cell_type": "markdown",
   "source": [
    "### Discrete Predictions"
   ],
   "metadata": {
    "collapsed": false,
    "pycharm": {
     "name": "#%% md\n"
    }
   }
  },
  {
   "cell_type": "code",
   "execution_count": 16,
   "outputs": [
    {
     "name": "stdout",
     "output_type": "stream",
     "text": [
      "MSE Score: 0.112225\n",
      "RMSE Score: 0.335\n"
     ]
    },
    {
     "data": {
      "text/plain": "<Figure size 432x288 with 1 Axes>",
      "image/png": "[encoded data removed]"
     },
     "metadata": {
      "needs_background": "light"
     },
     "output_type": "display_data"
    }
   ],
   "source": [
    "# measure MSE error\n",
    "mse_score = sklearn.metrics.mean_squared_error(predicted_rounded, tf_output['test'])\n",
    "\n",
    "# measure MSE error\n",
    "print(f\"MSE Score: {mse_score}\")\n",
    "# measure RMSE error\n",
    "print(f\"RMSE Score: {numpy.sqrt(mse_score)}\")\n",
    "\n",
    "%matplotlib inline\n",
    "table = pandas.DataFrame({'predicted' : predicted_rounded.flatten(), 'y' : tf_output['test'].flatten()})\n",
    "table.sort_values(by = ['y'], inplace = True)\n",
    "pyplot.plot(table['predicted'].tolist(), label = \"prediction\")\n",
    "pyplot.plot(table['y'].tolist(), label = \"expected\")\n",
    "pyplot.xlabel(\"business by ascending star rating\")\n",
    "pyplot.ylabel(\"stars\")\n",
    "pyplot.legend()\n",
    "pyplot.show()"
   ],
   "metadata": {
    "collapsed": false,
    "pycharm": {
     "name": "#%%\n"
    }
   }
  }
 ],
 "metadata": {
  "kernelspec": {
   "display_name": "Python 3",
   "language": "python",
   "name": "python3"
  },
  "language_info": {
   "codemirror_mode": {
    "name": "ipython",
    "version": 3
   },
   "file_extension": ".py",
   "mimetype": "text/x-python",
   "name": "python",
   "nbconvert_exporter": "python",
   "pygments_lexer": "ipython3",
   "version": "3.7.3"
  }
 },
 "nbformat": 4,
 "nbformat_minor": 2
}