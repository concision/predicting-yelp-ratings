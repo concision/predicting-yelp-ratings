{
 "cells": [
  {
   "cell_type": "markdown",
   "metadata": {
    "pycharm": {
     "name": "#%% md\n"
    }
   },
   "source": [
    "<h1 align=\"center\">Yelp Rating Prediction</h1>\n",
    "\n",
    "In this Jupyter Notebook project, a suspected correlation is explored between the text content of a business' user reviews and the business' respective star rating. By applying natural language processing (NLP) to the text content of user reviews, a supervised machine learning model in [TensorFlow](https://www.tensorflow.org/) can be constructed to predict star ratings (i.e. $f(reviews)=star\\ rating$). Despite discrete star rating values (e.g. $[1.0, 1.5, ..., 4.5, 5.0]$), a regression model is used here instead of classification since the star ratings are within a numerical range.\n",
    "\n",
    "The dataset used for this project is sourced from the [Yelp Open Dataset](https://www.yelp.com/dataset), a public and non-commercial dataset for educational purposes."
   ]
  },
  {
   "cell_type": "markdown",
   "source": [
    "<hr style=\"border-top: 2px solid #444\">"
   ],
   "metadata": {
    "collapsed": false,
    "pycharm": {
     "name": "#%% md\n"
    }
   }
  },
  {
   "cell_type": "markdown",
   "source": [
    "## Development Environment\n",
    "In this section, the development environment for this Jupyter notebook project is configured by collecting Python dependencies, importing libraries, and configuring the runtime environment."
   ],
   "metadata": {
    "collapsed": false,
    "pycharm": {
     "name": "#%% md\n"
    }
   }
  },
  {
   "cell_type": "markdown",
   "source": [
    "### Python Dependencies\n",
    "External Python dependencies are collected through the [Pipenv](https://pypi.org/project/pipenv/) package manager since it supports dependency lock-files. In the following script, `pipenv` and its transitive dependencies are installed from `pipenv-requirements.txt` and then the notebook's dependencies are installed from `Pipfile` and `Pipfile.lock`."
   ],
   "metadata": {
    "collapsed": false,
    "pycharm": {
     "name": "#%% md\n"
    }
   }
  },
  {
   "cell_type": "code",
   "execution_count": 1,
   "outputs": [],
   "source": [
    "!pip install -r pipenv-requirements.txt\n",
    "!pipenv install"
   ],
   "metadata": {
    "collapsed": false,
    "pycharm": {
     "name": "#%%\n"
    }
   }
  },
  {
   "cell_type": "markdown",
   "source": [
    "### Python Imports\n",
    "All relevant project libraries and utilities for the notebook are imported here."
   ],
   "metadata": {
    "collapsed": false,
    "pycharm": {
     "name": "#%% md\n"
    }
   }
  },
  {
   "cell_type": "code",
   "source": [
    "from typing import TypedDict, Dict, List\n",
    "from statistics import mean, stdev\n",
    "from io import StringIO\n",
    "from time import time\n",
    "import sys\n",
    "import os\n",
    "import json\n",
    "import spectra\n",
    "import math\n",
    "import pandas\n",
    "import numpy\n",
    "import sklearn\n",
    "import tensorflow\n",
    "import matplotlib.pyplot as pyplot\n",
    "from matplotlib.ticker import FuncFormatter\n",
    "from IPython.core.display import display, HTML\n",
    "from sklearn.feature_extraction.text import TfidfVectorizer\n",
    "from sklearn.model_selection import train_test_split\n",
    "from tensorflow.keras.models import Sequential\n",
    "from tensorflow.keras.layers import Dense\n",
    "from tensorflow.keras.callbacks import EarlyStopping, ModelCheckpoint\n",
    "\n",
    "# store standard out stream\n",
    "original_stdout = sys.stdout\n",
    "\n",
    "print(f\"Python: {sys.version}\")\n",
    "print(f\"Pandas {pandas.__version__}\")\n",
    "print(f\"Scikit-Learn {sklearn.__version__}\")\n",
    "print(f\"Tensor Flow Version: {tensorflow.__version__} (Keras Version: {tensorflow.keras.__version__})\")"
   ],
   "metadata": {
    "collapsed": false,
    "pycharm": {
     "name": "#%%\n"
    }
   },
   "execution_count": 2,
   "outputs": [
    {
     "name": "stdout",
     "output_type": "stream",
     "text": [
      "Python: 3.8.5 (tags/v3.8.5:580fbb0, Jul 20 2020, 15:57:54) [MSC v.1924 64 bit (AMD64)]\n",
      "Pandas 1.1.2\n",
      "Scikit-Learn 0.23.2\n",
      "Tensor Flow Version: 2.3.0 (Keras Version: 2.4.0)\n"
     ]
    }
   ]
  },
  {
   "cell_type": "markdown",
   "source": [
    "### Configure PRNG Seed\n",
    "Numpy, Tensorflow, and SciKit rely on [pseudorandom number generators](https://en.wikipedia.org/wiki/Pseudorandom_number_generator) for internal operations. To guarantee deterministic behaviour and reproducible results when executing this notebook, an arbitrary seed is configured and used."
   ],
   "metadata": {
    "collapsed": false,
    "pycharm": {
     "name": "#%% md\n"
    }
   }
  },
  {
   "cell_type": "code",
   "execution_count": 3,
   "outputs": [],
   "source": [
    "# arbitrary changeable seed constant\n",
    "PRNG_SEED = 42\n",
    "\n",
    "numpy.random.seed(PRNG_SEED)\n",
    "tensorflow.random.set_seed(PRNG_SEED)"
   ],
   "metadata": {
    "collapsed": false,
    "pycharm": {
     "name": "#%%\n"
    }
   }
  },
  {
   "cell_type": "markdown",
   "source": [
    "<hr style=\"border-top: 2px solid #444\">"
   ],
   "metadata": {
    "collapsed": false,
    "pycharm": {
     "name": "#%% md\n"
    }
   }
  },
  {
   "cell_type": "markdown",
   "source": [
    "# I. Data Importation\n",
    "The Yelp data needs to be imported from its JSON file format into usable in-memory data structures. Yelp provides documentation on their dataset file formats and structures [here](https://www.yelp.com/dataset/documentation/main)."
   ],
   "metadata": {
    "collapsed": false,
    "pycharm": {
     "name": "#%% md\n"
    }
   }
  },
  {
   "cell_type": "markdown",
   "source": [
    "## Dataset Location\n",
    "For this project, all data is stored in the `data` folder in the repository root directory. Historically, Yelp has changed the file names a few times; thus, they are enumerated below at the time of implementing this project. A few path constants are set here and used later when importing the dataset."
   ],
   "metadata": {
    "collapsed": false,
    "pycharm": {
     "name": "#%% md\n"
    }
   }
  },
  {
   "cell_type": "code",
   "execution_count": 4,
   "outputs": [
    {
     "name": "stdout",
     "output_type": "stream",
     "text": [
      "Dataset_User_Agreement.pdf\n",
      "yelp_academic_dataset_business.json\n",
      "yelp_academic_dataset_checkin.json\n",
      "yelp_academic_dataset_review.json\n",
      "yelp_academic_dataset_tip.json\n",
      "yelp_academic_dataset_user.json\n"
     ]
    }
   ],
   "source": [
    "!dir /b \"./data/\"\n",
    "\n",
    "FILE_BUSINESSES = r\"data/yelp_academic_dataset_business.json\"\n",
    "FILE_USER_REVIEWS = r\"data/yelp_academic_dataset_review.json\""
   ],
   "metadata": {
    "collapsed": false,
    "pycharm": {
     "name": "#%%\n"
    }
   }
  },
  {
   "cell_type": "markdown",
   "source": [
    "## Import Yelp Businesses\n",
    "All public registered businesses are loaded from the new-line (e.g. `\\n`) delimited JSON file and are indexed into a dictionary by their corresponding `business_id`. Of only particular interest, are the business' `business_id`, `review_count`, and `stars` attributes."
   ],
   "metadata": {
    "collapsed": false,
    "pycharm": {
     "name": "#%% md\n"
    }
   }
  },
  {
   "cell_type": "code",
   "execution_count": 5,
   "outputs": [
    {
     "name": "stdout",
     "output_type": "stream",
     "text": [
      "Imported 209,393 distinct businesses in 4.126696 seconds\n"
     ]
    }
   ],
   "source": [
    "# metrics\n",
    "start_time = time()\n",
    "\n",
    "# business data structure\n",
    "class Business(TypedDict):\n",
    "    business_id: str\n",
    "    review_count: int\n",
    "    stars: float\n",
    "\n",
    "# businesses indexed by business_id (i.e. {business['business_id']: Business}\n",
    "businesses_by_id: Dict[str, Business] = {}\n",
    "\n",
    "# parse all businesses\n",
    "with open(FILE_BUSINESSES, 'r', encoding='utf-8') as file:\n",
    "    # iterate over newline-delimited JSON records\n",
    "    record: str\n",
    "    for record in file:\n",
    "        # parse JSON record\n",
    "        business: Business = json.loads(record)\n",
    "        # map Business by business_id\n",
    "        businesses_by_id[business['business_id']] = business\n",
    "\n",
    "# metrics\n",
    "print(f\"Imported {len(businesses_by_id):,} distinct businesses in {time() - start_time:.6f} seconds\")"
   ],
   "metadata": {
    "collapsed": false,
    "pycharm": {
     "name": "#%%\n"
    }
   }
  },
  {
   "cell_type": "markdown",
   "source": [
    "## Import User Reviews\n",
    "All public user reviews of businesses are loaded from the new-line (e.g. `\\n`) delimited JSON file and are indexed into a dictionary array by matching `business_id`s. Of only particular interest, are the business' `business_id` and `text` attributes - no other data from user reviews is used."
   ],
   "metadata": {
    "collapsed": false,
    "pycharm": {
     "name": "#%% md\n"
    }
   }
  },
  {
   "cell_type": "code",
   "execution_count": 6,
   "outputs": [
    {
     "name": "stdout",
     "output_type": "stream",
     "text": [
      "Imported 8,021,122 user reviews in 96.604981 seconds\n"
     ]
    }
   ],
   "source": [
    "# metrics\n",
    "start_time = time()\n",
    "\n",
    "# user review data structure\n",
    "class UserReview(TypedDict):\n",
    "    business_id: str\n",
    "    text: str\n",
    "\n",
    "# user reviews indexed by business_id (i.e. {business_id: UserReview['text'][]})\n",
    "business_review_texts: Dict[str, List[str]] = {\n",
    "    business_id: []\n",
    "    for business_id in businesses_by_id.keys()\n",
    "}\n",
    "\n",
    "# parse user reviews\n",
    "with open(FILE_USER_REVIEWS, 'r', encoding='utf-8') as file:\n",
    "    # iterate over newline-delimited JSON records\n",
    "    record: str\n",
    "    for record in file:\n",
    "        # parse JSON record\n",
    "        review: UserReview = json.loads(record)\n",
    "        # map user review by business_id\n",
    "        business_review_texts[review['business_id']].append(review[\"text\"])\n",
    "\n",
    "# metrics\n",
    "print(f\"Imported {sum([len(reviews) for reviews in business_review_texts.values()]):,} user reviews in {time() - start_time:.6f} seconds\")"
   ],
   "metadata": {
    "collapsed": false,
    "pycharm": {
     "name": "#%%\n"
    }
   }
  },
  {
   "cell_type": "markdown",
   "source": [
    "<hr style=\"border-top: 2px solid #444\">"
   ],
   "metadata": {
    "collapsed": false,
    "pycharm": {
     "name": "#%% md\n"
    }
   }
  },
  {
   "cell_type": "markdown",
   "source": [
    "## II. Dataset Visualization\n",
    "\n",
    "Before training the machine learning model, some of the business attributes should be explored better investigate the dataset and understand its distributions."
   ],
   "metadata": {
    "collapsed": false
   }
  },
  {
   "cell_type": "markdown",
   "source": [
    "### Star Rating Distribution\n",
    "The following graphic displays how discrete star ratings (i.e. $[1.0, 1.5, 2.0, 2.5, 3.0, 3.5, 4.0, 4.5, 5.0]$) for businesses on Yelp are distributed."
   ],
   "metadata": {
    "collapsed": false,
    "pycharm": {
     "name": "#%% md\n"
    }
   }
  },
  {
   "cell_type": "code",
   "execution_count": 7,
   "outputs": [
    {
     "data": {
      "text/plain": "<Figure size 864x288 with 1 Axes>",
      "image/png": "[encoded data removed]"
     },
     "metadata": {
      "needs_background": "light"
     },
     "output_type": "display_data"
    },
    {
     "name": "stdout",
     "output_type": "stream",
     "text": [
      "Rendered graphic in 0.559138 seconds\n"
     ]
    }
   ],
   "source": [
    "# metrics\n",
    "start_time = time()\n",
    "\n",
    "pyplot.figure(figsize=(12, 4))\n",
    "pyplot.title(\"Star Rating Histogram\")\n",
    "pyplot.xlabel(\"Star Rating\")\n",
    "pyplot.ylabel(\"Frequency\")\n",
    "star_color = spectra.scale(['red', 'yellow', 'green'])\n",
    "for star_rating, frequency in pandas.DataFrame(businesses_by_id.values(), columns=['stars'])['stars'].value_counts().sort_index().items():\n",
    "    pyplot.bar(str(star_rating), frequency, color=star_color((star_rating - 1)/ 4).hexcode)\n",
    "    pyplot.text(star_rating * 2 - 2.25, frequency + 400, frequency)\n",
    "pyplot.show()\n",
    "\n",
    "# metrics\n",
    "print(f\"Rendered graphic in {time() - start_time:.6f} seconds\")"
   ],
   "metadata": {
    "collapsed": false,
    "pycharm": {
     "name": "#%%\n"
    }
   }
  },
  {
   "cell_type": "markdown",
   "source": [
    "### Review Count Distribution\n",
    "The following graphic displays a frequency count and cumulative distribution of review counts for businesses on Yelp.\n",
    "\n",
    "It becomes quite obvious our dataset is skewed and that there might be dataset noise and significant biases at play when trying to find a correlation between user reviews and a business' star rating."
   ],
   "metadata": {
    "collapsed": false
   }
  },
  {
   "cell_type": "code",
   "execution_count": 8,
   "outputs": [
    {
     "data": {
      "text/plain": "<Figure size 864x288 with 2 Axes>",
      "image/png": "[encoded data removed]"
     },
     "metadata": {
      "needs_background": "light"
     },
     "output_type": "display_data"
    },
    {
     "name": "stdout",
     "output_type": "stream",
     "text": [
      "Rendered graphic in 39.499829 seconds\n"
     ]
    }
   ],
   "source": [
    "# metrics\n",
    "start_time = time()\n",
    "\n",
    "review_counts = [business['review_count'] for business in businesses_by_id.values()]\n",
    "figure = pyplot.figure(figsize=(12, 4))\n",
    "\n",
    "axes = figure.add_subplot(1, 2, 1)\n",
    "axes.set_title(\"Frequency of Review Counts\")\n",
    "axes.set_xlabel(\"Business Review Count\")\n",
    "axes.axis(xmin=0, xmax=mean(review_counts) + stdev(review_counts))\n",
    "axes.set_ylabel(\"Frequency\")\n",
    "axes.grid(True)\n",
    "axes.hist(review_counts, bins = list(range(0, max(review_counts))))\n",
    "\n",
    "axes = figure.add_subplot(1, 2, 2)\n",
    "axes.set_title(\"Cumulative Distribution of Review Counts\")\n",
    "axes.set_xlabel(\"Business Review Count\")\n",
    "axes.axis(xmin=0, xmax=mean(review_counts) + stdev(review_counts))\n",
    "axes.set_ylabel(\"Cumulative Proportion\")\n",
    "axes.yaxis.set_major_formatter(FuncFormatter('{0:.0%}'.format))\n",
    "axes.grid(True)\n",
    "pyplot.hist(review_counts, bins=list(range(0, max(review_counts))), cumulative=True, density=True)\n",
    "\n",
    "pyplot.show()\n",
    "\n",
    "# metrics\n",
    "print(f\"Rendered graphic in {time() - start_time:.6f} seconds\")"
   ],
   "metadata": {
    "collapsed": false,
    "pycharm": {
     "name": "#%%\n"
    }
   }
  },
  {
   "cell_type": "markdown",
   "source": [
    "<hr style=\"border-top: 2px solid #444\">"
   ],
   "metadata": {
    "collapsed": false
   }
  },
  {
   "cell_type": "markdown",
   "source": [
    "## III. Data Preprocessing\n",
    "Before training a machine learning model, the raw text content has to be preprocessed into numerical matrices for TensorFlow. In the following subsections, the dataset is prepared for the machine learning model."
   ],
   "metadata": {
    "collapsed": false,
    "pycharm": {
     "name": "#%% md\n"
    }
   }
  },
  {
   "cell_type": "markdown",
   "source": [
    "### Filter Businesses with Less than 15 Reviews\n",
    "As seen in the visualization of star ratings, a significant amount of businesses do not have many user reviews. This is problematic, creating strong biases and word associations in user reviews on less-reviewed businesses. To mitigate bias and variance, a business must have a minimum threshold of 15 or more user reviews to be considered for the remainder of the project. The results should still be statistically significant, as close to half of all businesses have 15 or more reviews."
   ],
   "metadata": {
    "collapsed": false,
    "pycharm": {
     "name": "#%% md\n"
    }
   }
  },
  {
   "cell_type": "code",
   "execution_count": 9,
   "outputs": [
    {
     "name": "stdout",
     "output_type": "stream",
     "text": [
      "Selected 80,355 businesses (filtered 129,038)\n"
     ]
    }
   ],
   "source": [
    "# minimum business['review_count'] required to be selected\n",
    "MINIMUM_REVIEW_COUNT = 15\n",
    "\n",
    "selected_businesses = [business for business in businesses_by_id.values() if MINIMUM_REVIEW_COUNT <= business['review_count']]\n",
    "\n",
    "print(f\"Selected {len(selected_businesses):,} businesses (filtered {len(businesses_by_id) - len(selected_businesses):,})\")"
   ],
   "metadata": {
    "collapsed": false,
    "pycharm": {
     "name": "#%%\n"
    }
   }
  },
  {
   "cell_type": "markdown",
   "source": [
    "### Data Partitioning: Training, Validation, and Testing\n",
    "It is rather computationally expensive to use the entire dataset; instead a subset of the selected businesses are split into 3 disjoint partitions:\n",
    "- **training**: used for training the model\n",
    "- **validation**: provides an evaluation of the model fit during training\n",
    "- **testing**: provides an evaluation of the final fitted model"
   ],
   "metadata": {
    "collapsed": false,
    "pycharm": {
     "name": "#%% md\n"
    }
   }
  },
  {
   "cell_type": "code",
   "execution_count": 10,
   "outputs": [
    {
     "name": "stdout",
     "output_type": "stream",
     "text": [
      "Partitioned 209,393 businesses into {'train': 25000, 'validate': 1000, 'test': 10000} in 0.336058 seconds\n",
      "Remaining unused businesses: 173,393\n"
     ]
    }
   ],
   "source": [
    "# partition size constants\n",
    "TRAINING_SIZE = 25_000\n",
    "VALIDATE_SIZE = 1_000\n",
    "TESTING_SIZE = 10_000\n",
    "\n",
    "# metrics\n",
    "start_time = time()\n",
    "\n",
    "# perform partitions; note: train_test_split does not support 3-way splitting\n",
    "partitions = {}\n",
    "partitions['train'], _ = train_test_split(\n",
    "    # select all businesses that are greater than or equal to MINIMUM_REVIEW_COUNT\n",
    "    selected_businesses,\n",
    "    # partition proportions\n",
    "    train_size=TRAINING_SIZE,\n",
    "    shuffle=True,\n",
    "    # PRNG seed for deterministic behaviour\n",
    "    random_state=PRNG_SEED,\n",
    ")\n",
    "partitions['validate'], partitions['test'] = train_test_split(\n",
    "    # select all businesses not in partitions['train']\n",
    "    [\n",
    "        businesses_by_id[business_id]\n",
    "        for business_id in set([business['business_id'] for business in selected_businesses]).difference(set([business['business_id'] for business in partitions['train']]))\n",
    "    ],\n",
    "    # partition proportions\n",
    "    train_size=VALIDATE_SIZE,\n",
    "    test_size=TESTING_SIZE,\n",
    "    shuffle=True,\n",
    "    # PRNG seed for deterministic behaviour\n",
    "    random_state=PRNG_SEED,\n",
    ")\n",
    "\n",
    "# metrics\n",
    "print(f\"Partitioned {len(businesses_by_id):,} businesses into { {category: len(partition) for category, partition in partitions.items()}} in {time() - start_time:.6f} seconds\")\n",
    "print(f\"Remaining unused businesses: {len(businesses_by_id) - sum([len(partition) for partition in partitions.values()]):,}\")"
   ],
   "metadata": {
    "collapsed": false,
    "pycharm": {
     "name": "#%%\n"
    }
   }
  },
  {
   "cell_type": "markdown",
   "source": [
    "### Input Features: Preprocess Review Texts using TF-IDF Vectorization\n",
    "Natural language processing must be applied onto the user reviews to prepare the natural language input data into numerical matrices. Concatenated user reviews are vectorized into a [TF-IDF](https://en.wikipedia.org/wiki/Tf%E2%80%93idf) weighted word matrix.\n",
    "\n",
    "An important note is that this operation mitigates bias by splitting the training, validation, and testing subsets prior to fitting the TF-IDF vectorization model. Training data is used to fit the model for vectorization features and is later transformed, while validation testing data is _only_ transformed by the model.\n",
    "\n",
    "> **Note**: Increasing the `max_features` vectorizer parameter decreases the resulting RMSE score, but with diminishing returns."
   ],
   "metadata": {
    "collapsed": false
   }
  },
  {
   "cell_type": "code",
   "execution_count": 11,
   "outputs": [
    {
     "name": "stdout",
     "output_type": "stream",
     "text": [
      "Word features cardinality: 1,000\n",
      "Word features: ['00', '10', '100', '11', '12', '15', '20', '24', '25', '30', '40', '45', '50', '99', 'able', 'absolutely', 'accommodating', 'actual', 'actually', 'add', 'added', 'addition', 'affordable', 'afternoon', 'ago', 'ahead', 'air', 'airport', 'amazing', 'ambiance', 'american', 'answer', 'apparently', 'appetizer', 'appetizers', 'appointment', 'appreciate', 'area', 'aren', 'arrived', 'asian', 'ask', 'asked', 'asking', 'ate', 'atmosphere', 'attention', 'attentive', 'attitude', 'authentic', 'available', 'average', 'avocado', 'avoid', 'away', 'awesome', 'awful', 'baby', 'bacon', 'bad', 'bag', 'baked', 'bar', 'barely', 'bartender', 'based', 'basic', 'basically', 'bathroom', 'bbq', 'beans', 'beautiful', 'bed', 'beef', 'beer', 'beers', 'believe', 'best', 'better', 'big', 'birthday', 'bit', 'bite', 'black', 'bland', 'blue', 'book', 'bottle', 'bought', 'bowl', 'box', 'boyfriend', 'bread', 'break', 'breakfast', 'bring', 'brisket', 'broth', 'brought', 'brunch', 'buffet', 'building', 'bun', 'bunch', 'burger', 'burgers', 'burrito', 'business', 'busy', 'butter', 'buy', 'cafe', 'cake', 'called', 'came', 'car', 'card', 'care', 'case', 'cash', 'cashier', 'casino', 'casual', 'cause', 'center', 'certainly', 'chain', 'chairs', 'chance', 'change', 'changed', 'charge', 'charged', 'charlotte', 'cheap', 'check', 'checked', 'checking', 'cheese', 'chef', 'chicken', 'chili', 'chinese', 'chips', 'chocolate', 'choice', 'choices', 'choose', 'chose', 'city', 'class', 'clean', 'cleaning', 'clear', 'clearly', 'close', 'closed', 'club', 'cocktail', 'cocktails', 'coffee', 'cold', 'color', 'combo', 'come', 'comes', 'comfortable', 'coming', 'company', 'compared', 'complaint', 'complete', 'completely', 'considering', 'convenient', 'conversation', 'cook', 'cooked', 'cool', 'corn', 'corner', 'cost', 'couldn', 'counter', 'couple', 'course', 'covered', 'crab', 'craving', 'crazy', 'cream', 'creamy', 'credit', 'crispy', 'crowd', 'crowded', 'crust', 'cup', 'curry', 'customer', 'customers', 'cut', 'cute', 'dark', 'date', 'daughter', 'day', 'days', 'deal', 'decent', 'decided', 'decor', 'deep', 'definitely', 'delicious', 'delivered', 'delivery', 'desk', 'despite', 'dessert', 'desserts', 'did', 'didn', 'die', 'different', 'difficult', 'dining', 'dinner', 'dip', 'dirty', 'disappointed', 'disappointing', 'discount', 'dish', 'dishes', 'doctor', 'does', 'doesn', 'dog', 'dogs', 'doing', 'dollars', 'don', 'dont', 'door', 'double', 'downtown', 'dr', 'dress', 'dressing', 'drink', 'drinks', 'drive', 'dry', 'duck', 'early', 'easily', 'easy', 'eat', 'eaten', 'eating', 'efficient', 'egg', 'eggs', 'employee', 'employees', 'end', 'ended', 'enjoy', 'enjoyed', 'entire', 'entree', 'entrees', 'environment', 'especially', 'establishment', 'evening', 'event', 'exactly', 'excellent', 'excited', 'expect', 'expectations', 'expected', 'expecting', 'expensive', 'experience', 'explained', 'extra', 'extremely', 'eye', 'fabulous', 'face', 'fact', 'fair', 'fairly', 'family', 'fan', 'fancy', 'fantastic', 'far', 'fast', 'favorite', 'fee', 'feel', 'feeling', 'felt', 'filled', 'filling', 'finally', 'fine', 'finish', 'finished', 'fish', 'fix', 'fixed', 'flavor', 'flavorful', 'flavors', 'flavour', 'floor', 'food', 'foods', 'forever', 'forget', 'forgot', 'forward', 'free', 'french', 'fresh', 'friday', 'fried', 'friend', 'friendly', 'friends', 'fries', 'frozen', 'fruit', 'fun', 'future', 'game', 'games', 'garlic', 'gave', 'gem', 'general', 'generous', 'gets', 'getting', 'girl', 'girls', 'given', 'giving', 'glad', 'glass', 'glasses', 'goes', 'going', 'gone', 'good', 'got', 'gotten', 'grab', 'greasy', 'great', 'green', 'greeted', 'grill', 'grilled', 'group', 'guess', 'guests', 'guy', 'guys', 'hair', 'half', 'hand', 'hands', 'happen', 'happened', 'happy', 'hard', 'hate', 'haven', 'having', 'head', 'healthy', 'hear', 'heard', 'heat', 'help', 'helped', 'helpful', 'high', 'higher', 'highly', 'hit', 'hold', 'home', 'homemade', 'honest', 'honestly', 'hope', 'horrible', 'hostess', 'hot', 'hotel', 'hour', 'hours', 'house', 'huge', 'hungry', 'husband', 'ice', 'idea', 'immediately', 'impressed', 'included', 'including', 'incredible', 'incredibly', 'indian', 'ingredients', 'inside', 'instead', 'interesting', 'interior', 'isn', 'issue', 'issues', 'italian', 'item', 'items', 'japanese', 'job', 'joint', 'juice', 'juicy', 'just', 'kept', 'kids', 'kind', 'kinda', 'kitchen', 'knew', 'know', 'knowledgeable', 'knows', 'korean', 'la', 'lack', 'lady', 'lamb', 'large', 'las', 'late', 'later', 'leave', 'leaving', 'left', 'lemon', 'let', 'lettuce', 'level', 'life', 'light', 'like', 'liked', 'limited', 'line', 'lines', 'list', 'literally', 'little', 'live', 'lived', 'll', 'lobster', 'local', 'located', 'location', 'locations', 'lol', 'long', 'longer', 'look', 'looked', 'looking', 'looks', 'lost', 'lot', 'lots', 'loud', 'love', 'loved', 'lovely', 'low', 'lunch', 'mac', 'main', 'make', 'makes', 'making', 'mall', 'man', 'management', 'manager', 'mango', 'market', 'massage', 'matter', 'maybe', 'meal', 'meals', 'mean', 'means', 'meat', 'meats', 'mediocre', 'medium', 'mention', 'mentioned', 'menu', 'met', 'mexican', 'middle', 'milk', 'min', 'mind', 'mins', 'minute', 'minutes', 'miss', 'missing', 'mistake', 'mix', 'mixed', 'modern', 'mom', 'monday', 'money', 'month', 'months', 'morning', 'mouth', 'moved', 'moving', 'multiple', 'music', 'nail', 'nails', 'near', 'need', 'needed', 'needs', 'negative', 'neighborhood', 'new', 'nice', 'nicely', 'night', 'nights', 'non', 'noodle', 'noodles', 'normal', 'normally', 'notch', 'note', 'noticed', 'number', 'obviously', 'offer', 'offered', 'office', 'oh', 'oil', 'ok', 'okay', 'old', 'ones', 'onion', 'onions', 'online', 'open', 'opened', 'opinion', 'option', 'options', 'orange', 'order', 'ordered', 'ordering', 'orders', 'original', 'outdoor', 'outside', 'outstanding', 'overall', 'overpriced', 'owner', 'owners', 'packed', 'pad', 'paid', 'pancakes', 'park', 'parking', 'party', 'pass', 'past', 'pasta', 'patient', 'patio', 'pay', 'paying', 'people', 'pepper', 'perfect', 'perfection', 'perfectly', 'person', 'personal', 'personally', 'pho', 'phoenix', 'phone', 'pick', 'picked', 'pictures', 'pie', 'piece', 'pieces', 'pizza', 'place', 'placed', 'places', 'plan', 'plate', 'plates', 'play', 'playing', 'pleasant', 'pleased', 'plenty', 'plus', 'pm', 'point', 'polite', 'pool', 'poor', 'pork', 'portion', 'portions', 'positive', 'possible', 'potato', 'potatoes', 'prefer', 'prepared', 'presentation', 'pretty', 'previous', 'price', 'priced', 'prices', 'pricey', 'pricing', 'prime', 'probably', 'problem', 'process', 'products', 'professional', 'provided', 'pulled', 'purchase', 'purchased', 'quality', 'questions', 'quick', 'quickly', 'quiet', 'quite', 'ramen', 'rare', 'rating', 'read', 'reading', 'ready', 'real', 'really', 'reason', 'reasonable', 'received', 'recently', 'recommend', 'recommended', 'red', 'regular', 'remember', 'request', 'reservation', 'reservations', 'resort', 'rest', 'restaurant', 'restaurants', 'return', 'returning', 'review', 'reviews', 'rib', 'ribs', 'rice', 'rich', 'ridiculous', 'right', 'rock', 'roll', 'rolls', 'room', 'rooms', 'rude', 'run', 'running', 'rush', 'sad', 'said', 'salad', 'salads', 'sales', 'salmon', 'salon', 'salsa', 'salt', 'salty', 'sandwich', 'sandwiches', 'sat', 'satisfied', 'saturday', 'sauce', 'sauces', 'sausage', 'save', 'saw', 'say', 'saying', 'says', 'school', 'scottsdale', 'seafood', 'seasoned', 'seat', 'seated', 'seating', 'seats', 'second', 'section', 'security', 'seeing', 'seen', 'selection', 'sell', 'sent', 'seriously', 'serve', 'served', 'server', 'servers', 'service', 'services', 'serving', 'set', 'share', 'shared', 'shop', 'shopping', 'shops', 'short', 'shot', 'showed', 'shows', 'shrimp', 'sides', 'sign', 'similar', 'simple', 'simply', 'single', 'sit', 'sitting', 'situation', 'size', 'slightly', 'slow', 'small', 'smaller', 'smell', 'smile', 'soft', 'solid', 'son', 'soon', 'sorry', 'sort', 'soup', 'sour', 'spa', 'space', 'speak', 'special', 'specials', 'spend', 'spent', 'spice', 'spicy', 'split', 'spot', 'spring', 'staff', 'stand', 'standard', 'star', 'stars', 'start', 'started', 'station', 'stay', 'stayed', 'staying', 'steak', 'stop', 'stopped', 'store', 'stores', 'street', 'strip', 'strong', 'stuff', 'stuffed', 'style', 'sugar', 'suggest', 'summer', 'sunday', 'super', 'supposed', 'sure', 'surprise', 'surprised', 'sushi', 'sweet', 'table', 'tables', 'taco', 'tacos', 'taken', 'takes', 'taking', 'talk', 'talking', 'taste', 'tasted', 'tastes', 'tasting', 'tasty', 'tea', 'team', 'tell', 'tender', 'terrible', 'texture', 'thai', 'thank', 'thanks', 'thing', 'things', 'think', 'thinking', 'thought', 'time', 'times', 'tiny', 'tip', 'toast', 'today', 'tofu', 'told', 'tomato', 'tonight', 'took', 'toppings', 'toronto', 'total', 'totally', 'touch', 'town', 'traditional', 'treat', 'treated', 'tried', 'trip', 'true', 'truly', 'try', 'trying', 'tuna', 'turn', 'turned', 'tv', 'twice', 'type', 'typical', 'understand', 'unfortunately', 'unique', 'unless', 'update', 'use', 'used', 'using', 'usual', 'usually', 'valley', 'value', 'variety', 've', 'vegan', 'vegas', 'vegetables', 'vegetarian', 'veggie', 'veggies', 'vehicle', 'vibe', 'view', 'visit', 'visited', 'visiting', 'waffles', 'wait', 'waited', 'waiter', 'waiting', 'waitress', 'walk', 'walked', 'walking', 'wall', 'want', 'wanted', 'warm', 'wash', 'wasn', 'waste', 'watch', 'watching', 'water', 'way', 'wedding', 'week', 'weekend', 'weeks', 'weird', 'welcoming', 'went', 'weren', 'white', 'wife', 'window', 'wine', 'wings', 'wish', 'woman', 'won', 'wonderful', 'word', 'work', 'worked', 'workers', 'working', 'works', 'world', 'worse', 'worst', 'worth', 'wouldn', 'wow', 'write', 'wrong', 'year', 'years', 'yelp', 'yes', 'yesterday', 'young', 'yum', 'yummy']\n",
      "IDF Vectorized 36,000 businesses review texts in 337.020741 seconds\n",
      "\n",
      "Training Shape: (25000, 1000)\n",
      "Validate Shape: (1000, 1000)\n",
      "Testing Shape: (10000, 1000)\n"
     ]
    }
   ],
   "source": [
    "# metrics\n",
    "start_time = time()\n",
    "\n",
    "# construct vectorizer\n",
    "vectorizer: TfidfVectorizer = TfidfVectorizer(\n",
    "    # maximum word features\n",
    "    max_features=1000,\n",
    "    # prune english stop words\n",
    "    stop_words='english',\n",
    ")\n",
    "\n",
    "# construct corpus partitions\n",
    "tf_input = {\n",
    "    category: getattr(vectorizer, 'fit_transform' if category == 'train' else 'transform')\n",
    "              (['\\n'.join(business_review_texts[business['business_id']]) for business in partition])\n",
    "              .toarray()\n",
    "    for category, partition in partitions.items()\n",
    "}\n",
    "\n",
    "# metrics\n",
    "print(f\"Word features cardinality: {len(vectorizer.get_feature_names()):,}\")\n",
    "print(f\"Word features: {vectorizer.get_feature_names()}\")\n",
    "print(f\"IDF Vectorized {sum([len(matrix) for matrix in tf_input.values()]):,} businesses review texts in {time() - start_time:.6f} seconds\")\n",
    "print()\n",
    "print(f\"Training Shape: {tf_input['train'].shape}\")\n",
    "print(f\"Validate Shape: {tf_input['validate'].shape}\")\n",
    "print(f\"Testing Shape: {tf_input['test'].shape}\")"
   ],
   "metadata": {
    "collapsed": false,
    "pycharm": {
     "name": "#%%\n"
    }
   }
  },
  {
   "cell_type": "markdown",
   "source": [
    "### Output Features: Select Star Rating\n",
    "The only output feature for our training model is a business' unnormalized star rating. Despite the discrete values for star ratings, regression is used here and the predicted result can be rounded to the nearest half star."
   ],
   "metadata": {
    "collapsed": false
   }
  },
  {
   "cell_type": "code",
   "execution_count": 12,
   "outputs": [
    {
     "name": "stdout",
     "output_type": "stream",
     "text": [
      "Training Shape: (25000, 1)\n",
      "Validate Shape: (1000, 1)\n",
      "Testing Shape: (10000, 1)\n"
     ]
    }
   ],
   "source": [
    "tf_output = {\n",
    "    category: numpy.array([[business['stars']] for business in partition])\n",
    "    for category, partition in partitions.items()\n",
    "}\n",
    "\n",
    "print(f\"Training Shape: {tf_output['train'].shape}\")\n",
    "print(f\"Validate Shape: {tf_output['validate'].shape}\")\n",
    "print(f\"Testing Shape: {tf_output['test'].shape}\")"
   ],
   "metadata": {
    "collapsed": false,
    "pycharm": {
     "name": "#%%\n"
    }
   }
  },
  {
   "cell_type": "markdown",
   "source": [
    "<hr style=\"border-top: 2px solid #444\">"
   ],
   "metadata": {
    "collapsed": false
   }
  },
  {
   "cell_type": "markdown",
   "source": [
    "# IV. Model Training\n",
    "Using the defined input and output feature matrices, a neural network can be trained with a supervised learning regression model. Potentially, a correlation may be discovered between text reviews and the star rating."
   ],
   "metadata": {
    "collapsed": false
   }
  },
  {
   "cell_type": "markdown",
   "source": [
    "## Build Model\n",
    "A supervised learning Sequential neural network is constructed for building a regression model. A simple model with fully-connected dense layers is employed here."
   ],
   "metadata": {
    "collapsed": false,
    "pycharm": {
     "name": "#%% md\n"
    }
   }
  },
  {
   "cell_type": "code",
   "execution_count": 13,
   "outputs": [
    {
     "name": "stdout",
     "output_type": "stream",
     "text": [
      "Model: \"yelp_regression\"\n",
      "_________________________________________________________________\n",
      "Layer (type)                 Output Shape              Param #   \n",
      "=================================================================\n",
      "dense (Dense)                (None, 64)                64064     \n",
      "_________________________________________________________________\n",
      "dense_1 (Dense)              (None, 32)                2080      \n",
      "_________________________________________________________________\n",
      "dense_2 (Dense)              (None, 16)                528       \n",
      "_________________________________________________________________\n",
      "dense_3 (Dense)              (None, 1)                 17        \n",
      "=================================================================\n",
      "Total params: 66,689\n",
      "Trainable params: 66,689\n",
      "Non-trainable params: 0\n",
      "_________________________________________________________________\n"
     ]
    }
   ],
   "source": [
    "# build model\n",
    "model = Sequential(\n",
    "    [\n",
    "        Dense(64, input_dim=tf_input['train'].shape[1]),\n",
    "        Dense(32, activation='relu'),\n",
    "        Dense(16, activation='relu'),\n",
    "        Dense(1)\n",
    "    ],\n",
    "    name=\"yelp_regression\"\n",
    ")\n",
    "# set optimizer for gradient descent\n",
    "model.compile(loss='mean_squared_error', optimizer='sgd', metrics=['mse'])\n",
    "\n",
    "# print model summary\n",
    "model.summary()"
   ],
   "metadata": {
    "collapsed": false,
    "pycharm": {
     "name": "#%%\n"
    }
   }
  },
  {
   "cell_type": "markdown",
   "source": [
    "## Train Model\n"
   ],
   "metadata": {
    "collapsed": false,
    "pycharm": {
     "name": "#%% md\n"
    }
   }
  },
  {
   "cell_type": "code",
   "execution_count": 14,
   "outputs": [
    {
     "name": "stdout",
     "output_type": "stream",
     "text": [
      "Model trained in 210.069468 seconds\n"
     ]
    },
    {
     "data": {
      "text/plain": "<IPython.core.display.HTML object>",
      "text/html": "    <details>        <summary><b>Training Details</b></summary>        <sub><sup>            Epoch 1/1000<br>782/782 - 2s - loss: 0.5006 - mse: 0.5006 - val_loss: 0.1839 - val_mse: 0.1839<br>Epoch 2/1000<br>782/782 - 1s - loss: 0.1471 - mse: 0.1471 - val_loss: 0.1705 - val_mse: 0.1705<br>Epoch 3/1000<br>782/782 - 1s - loss: 0.1271 - mse: 0.1271 - val_loss: 0.1341 - val_mse: 0.1341<br>Epoch 4/1000<br>782/782 - 1s - loss: 0.1162 - mse: 0.1162 - val_loss: 0.1535 - val_mse: 0.1535<br>Epoch 5/1000<br>782/782 - 1s - loss: 0.1098 - mse: 0.1098 - val_loss: 0.1288 - val_mse: 0.1288<br>Epoch 6/1000<br>782/782 - 1s - loss: 0.1033 - mse: 0.1033 - val_loss: 0.1098 - val_mse: 0.1098<br>Epoch 7/1000<br>782/782 - 1s - loss: 0.1002 - mse: 0.1002 - val_loss: 0.1065 - val_mse: 0.1065<br>Epoch 8/1000<br>782/782 - 1s - loss: 0.0957 - mse: 0.0957 - val_loss: 0.1057 - val_mse: 0.1057<br>Epoch 9/1000<br>782/782 - 1s - loss: 0.0918 - mse: 0.0918 - val_loss: 0.1039 - val_mse: 0.1039<br>Epoch 10/1000<br>782/782 - 1s - loss: 0.0896 - mse: 0.0896 - val_loss: 0.0993 - val_mse: 0.0993<br>Epoch 11/1000<br>782/782 - 1s - loss: 0.0883 - mse: 0.0883 - val_loss: 0.1340 - val_mse: 0.1340<br>Epoch 12/1000<br>782/782 - 1s - loss: 0.0857 - mse: 0.0857 - val_loss: 0.1129 - val_mse: 0.1129<br>Epoch 13/1000<br>782/782 - 1s - loss: 0.0844 - mse: 0.0844 - val_loss: 0.1236 - val_mse: 0.1236<br>Epoch 14/1000<br>782/782 - 1s - loss: 0.0835 - mse: 0.0835 - val_loss: 0.0932 - val_mse: 0.0932<br>Epoch 15/1000<br>782/782 - 1s - loss: 0.0823 - mse: 0.0823 - val_loss: 0.0950 - val_mse: 0.0950<br>Epoch 16/1000<br>782/782 - 1s - loss: 0.0813 - mse: 0.0813 - val_loss: 0.1009 - val_mse: 0.1009<br>Epoch 17/1000<br>782/782 - 2s - loss: 0.0811 - mse: 0.0811 - val_loss: 0.0985 - val_mse: 0.0985<br>Epoch 18/1000<br>782/782 - 1s - loss: 0.0802 - mse: 0.0802 - val_loss: 0.0983 - val_mse: 0.0983<br>Epoch 19/1000<br>782/782 - 1s - loss: 0.0797 - mse: 0.0797 - val_loss: 0.0901 - val_mse: 0.0901<br>Epoch 20/1000<br>782/782 - 2s - loss: 0.0794 - mse: 0.0794 - val_loss: 0.1285 - val_mse: 0.1285<br>Epoch 21/1000<br>782/782 - 1s - loss: 0.0786 - mse: 0.0786 - val_loss: 0.1076 - val_mse: 0.1076<br>Epoch 22/1000<br>782/782 - 1s - loss: 0.0778 - mse: 0.0778 - val_loss: 0.1248 - val_mse: 0.1248<br>Epoch 23/1000<br>782/782 - 2s - loss: 0.0775 - mse: 0.0775 - val_loss: 0.0904 - val_mse: 0.0904<br>Epoch 24/1000<br>782/782 - 1s - loss: 0.0769 - mse: 0.0769 - val_loss: 0.0910 - val_mse: 0.0910<br>Epoch 25/1000<br>782/782 - 1s - loss: 0.0766 - mse: 0.0766 - val_loss: 0.0901 - val_mse: 0.0901<br>Epoch 26/1000<br>782/782 - 1s - loss: 0.0760 - mse: 0.0760 - val_loss: 0.1295 - val_mse: 0.1295<br>Epoch 27/1000<br>782/782 - 1s - loss: 0.0756 - mse: 0.0756 - val_loss: 0.0894 - val_mse: 0.0894<br>Epoch 28/1000<br>782/782 - 1s - loss: 0.0754 - mse: 0.0754 - val_loss: 0.0915 - val_mse: 0.0915<br>Epoch 29/1000<br>782/782 - 1s - loss: 0.0745 - mse: 0.0745 - val_loss: 0.1030 - val_mse: 0.1030<br>Epoch 30/1000<br>782/782 - 1s - loss: 0.0743 - mse: 0.0743 - val_loss: 0.1083 - val_mse: 0.1083<br>Epoch 31/1000<br>782/782 - 1s - loss: 0.0741 - mse: 0.0741 - val_loss: 0.0870 - val_mse: 0.0870<br>Epoch 32/1000<br>782/782 - 1s - loss: 0.0738 - mse: 0.0738 - val_loss: 0.0919 - val_mse: 0.0919<br>Epoch 33/1000<br>782/782 - 1s - loss: 0.0735 - mse: 0.0735 - val_loss: 0.0869 - val_mse: 0.0869<br>Epoch 34/1000<br>782/782 - 1s - loss: 0.0729 - mse: 0.0729 - val_loss: 0.0872 - val_mse: 0.0872<br>Epoch 35/1000<br>782/782 - 1s - loss: 0.0732 - mse: 0.0732 - val_loss: 0.0879 - val_mse: 0.0879<br>Epoch 36/1000<br>782/782 - 1s - loss: 0.0728 - mse: 0.0728 - val_loss: 0.0863 - val_mse: 0.0863<br>Epoch 37/1000<br>782/782 - 1s - loss: 0.0722 - mse: 0.0722 - val_loss: 0.1625 - val_mse: 0.1625<br>Epoch 38/1000<br>782/782 - 1s - loss: 0.0723 - mse: 0.0723 - val_loss: 0.0877 - val_mse: 0.0877<br>Epoch 39/1000<br>782/782 - 1s - loss: 0.0719 - mse: 0.0719 - val_loss: 0.1170 - val_mse: 0.1170<br>Epoch 40/1000<br>782/782 - 1s - loss: 0.0717 - mse: 0.0717 - val_loss: 0.1047 - val_mse: 0.1047<br>Epoch 41/1000<br>782/782 - 1s - loss: 0.0711 - mse: 0.0711 - val_loss: 0.1365 - val_mse: 0.1365<br>Epoch 42/1000<br>782/782 - 1s - loss: 0.0712 - mse: 0.0712 - val_loss: 0.0858 - val_mse: 0.0858<br>Epoch 43/1000<br>782/782 - 1s - loss: 0.0708 - mse: 0.0708 - val_loss: 0.0876 - val_mse: 0.0876<br>Epoch 44/1000<br>782/782 - 1s - loss: 0.0708 - mse: 0.0708 - val_loss: 0.0904 - val_mse: 0.0904<br>Epoch 45/1000<br>782/782 - 1s - loss: 0.0701 - mse: 0.0701 - val_loss: 0.1162 - val_mse: 0.1162<br>Epoch 46/1000<br>782/782 - 1s - loss: 0.0703 - mse: 0.0703 - val_loss: 0.0926 - val_mse: 0.0926<br>Epoch 47/1000<br>782/782 - 1s - loss: 0.0702 - mse: 0.0702 - val_loss: 0.0861 - val_mse: 0.0861<br>Epoch 48/1000<br>782/782 - 1s - loss: 0.0700 - mse: 0.0700 - val_loss: 0.1158 - val_mse: 0.1158<br>Epoch 49/1000<br>782/782 - 1s - loss: 0.0698 - mse: 0.0698 - val_loss: 0.0847 - val_mse: 0.0847<br>Epoch 50/1000<br>782/782 - 1s - loss: 0.0693 - mse: 0.0693 - val_loss: 0.0943 - val_mse: 0.0943<br>Epoch 51/1000<br>782/782 - 1s - loss: 0.0693 - mse: 0.0693 - val_loss: 0.0870 - val_mse: 0.0870<br>Epoch 52/1000<br>782/782 - 1s - loss: 0.0690 - mse: 0.0690 - val_loss: 0.0911 - val_mse: 0.0911<br>Epoch 53/1000<br>782/782 - 1s - loss: 0.0687 - mse: 0.0687 - val_loss: 0.0852 - val_mse: 0.0852<br>Epoch 54/1000<br>782/782 - 1s - loss: 0.0690 - mse: 0.0690 - val_loss: 0.1068 - val_mse: 0.1068<br>Epoch 55/1000<br>782/782 - 1s - loss: 0.0686 - mse: 0.0686 - val_loss: 0.0840 - val_mse: 0.0840<br>Epoch 56/1000<br>782/782 - 1s - loss: 0.0685 - mse: 0.0685 - val_loss: 0.0956 - val_mse: 0.0956<br>Epoch 57/1000<br>782/782 - 1s - loss: 0.0684 - mse: 0.0684 - val_loss: 0.0840 - val_mse: 0.0840<br>Epoch 58/1000<br>782/782 - 1s - loss: 0.0682 - mse: 0.0682 - val_loss: 0.0926 - val_mse: 0.0926<br>Epoch 59/1000<br>782/782 - 1s - loss: 0.0682 - mse: 0.0682 - val_loss: 0.0873 - val_mse: 0.0873<br>Epoch 60/1000<br>782/782 - 1s - loss: 0.0678 - mse: 0.0678 - val_loss: 0.0846 - val_mse: 0.0846<br>Epoch 61/1000<br>782/782 - 1s - loss: 0.0679 - mse: 0.0679 - val_loss: 0.0980 - val_mse: 0.0980<br>Epoch 62/1000<br>782/782 - 1s - loss: 0.0675 - mse: 0.0675 - val_loss: 0.0859 - val_mse: 0.0859<br>Epoch 63/1000<br>782/782 - 1s - loss: 0.0674 - mse: 0.0674 - val_loss: 0.0846 - val_mse: 0.0846<br>Epoch 64/1000<br>782/782 - 1s - loss: 0.0676 - mse: 0.0676 - val_loss: 0.0880 - val_mse: 0.0880<br>Epoch 65/1000<br>782/782 - 1s - loss: 0.0672 - mse: 0.0672 - val_loss: 0.0879 - val_mse: 0.0879<br>Epoch 66/1000<br>782/782 - 1s - loss: 0.0670 - mse: 0.0670 - val_loss: 0.0839 - val_mse: 0.0839<br>Epoch 67/1000<br>782/782 - 1s - loss: 0.0669 - mse: 0.0669 - val_loss: 0.0851 - val_mse: 0.0851<br>Epoch 68/1000<br>782/782 - 1s - loss: 0.0667 - mse: 0.0667 - val_loss: 0.0862 - val_mse: 0.0862<br>Epoch 69/1000<br>782/782 - 1s - loss: 0.0667 - mse: 0.0667 - val_loss: 0.0828 - val_mse: 0.0828<br>Epoch 70/1000<br>782/782 - 1s - loss: 0.0666 - mse: 0.0666 - val_loss: 0.0836 - val_mse: 0.0836<br>Epoch 71/1000<br>782/782 - 1s - loss: 0.0664 - mse: 0.0664 - val_loss: 0.0848 - val_mse: 0.0848<br>Epoch 72/1000<br>782/782 - 1s - loss: 0.0660 - mse: 0.0660 - val_loss: 0.0833 - val_mse: 0.0833<br>Epoch 73/1000<br>782/782 - 1s - loss: 0.0660 - mse: 0.0660 - val_loss: 0.0910 - val_mse: 0.0910<br>Epoch 74/1000<br>782/782 - 1s - loss: 0.0660 - mse: 0.0660 - val_loss: 0.0845 - val_mse: 0.0845<br>Epoch 75/1000<br>782/782 - 1s - loss: 0.0661 - mse: 0.0661 - val_loss: 0.0836 - val_mse: 0.0836<br>Epoch 76/1000<br>782/782 - 1s - loss: 0.0655 - mse: 0.0655 - val_loss: 0.0838 - val_mse: 0.0838<br>Epoch 77/1000<br>782/782 - 1s - loss: 0.0656 - mse: 0.0656 - val_loss: 0.0843 - val_mse: 0.0843<br>Epoch 78/1000<br>782/782 - 1s - loss: 0.0652 - mse: 0.0652 - val_loss: 0.0832 - val_mse: 0.0832<br>Epoch 79/1000<br>782/782 - 1s - loss: 0.0653 - mse: 0.0653 - val_loss: 0.0849 - val_mse: 0.0849<br>Epoch 80/1000<br>782/782 - 1s - loss: 0.0649 - mse: 0.0649 - val_loss: 0.0867 - val_mse: 0.0867<br>Epoch 81/1000<br>782/782 - 1s - loss: 0.0651 - mse: 0.0651 - val_loss: 0.0857 - val_mse: 0.0857<br>Epoch 82/1000<br>782/782 - 1s - loss: 0.0650 - mse: 0.0650 - val_loss: 0.0845 - val_mse: 0.0845<br>Epoch 83/1000<br>782/782 - 1s - loss: 0.0650 - mse: 0.0650 - val_loss: 0.1058 - val_mse: 0.1058<br>Epoch 84/1000<br>782/782 - 1s - loss: 0.0645 - mse: 0.0645 - val_loss: 0.0866 - val_mse: 0.0866<br>Epoch 85/1000<br>782/782 - 1s - loss: 0.0647 - mse: 0.0647 - val_loss: 0.0854 - val_mse: 0.0854<br>Epoch 86/1000<br>782/782 - 1s - loss: 0.0644 - mse: 0.0644 - val_loss: 0.0842 - val_mse: 0.0842<br>Epoch 87/1000<br>782/782 - 1s - loss: 0.0645 - mse: 0.0645 - val_loss: 0.0932 - val_mse: 0.0932<br>Epoch 88/1000<br>782/782 - 1s - loss: 0.0642 - mse: 0.0642 - val_loss: 0.0920 - val_mse: 0.0920<br>Epoch 89/1000<br>782/782 - 1s - loss: 0.0641 - mse: 0.0641 - val_loss: 0.0935 - val_mse: 0.0935<br>Epoch 90/1000<br>782/782 - 1s - loss: 0.0639 - mse: 0.0639 - val_loss: 0.0857 - val_mse: 0.0857<br>Epoch 91/1000<br>782/782 - 1s - loss: 0.0638 - mse: 0.0638 - val_loss: 0.0839 - val_mse: 0.0839<br>Epoch 92/1000<br>782/782 - 1s - loss: 0.0639 - mse: 0.0639 - val_loss: 0.0841 - val_mse: 0.0841<br>Epoch 93/1000<br>782/782 - 1s - loss: 0.0638 - mse: 0.0638 - val_loss: 0.0830 - val_mse: 0.0830<br>Epoch 94/1000<br>782/782 - 1s - loss: 0.0635 - mse: 0.0635 - val_loss: 0.0833 - val_mse: 0.0833<br>Epoch 95/1000<br>782/782 - 1s - loss: 0.0633 - mse: 0.0633 - val_loss: 0.0839 - val_mse: 0.0839<br>Epoch 96/1000<br>782/782 - 1s - loss: 0.0633 - mse: 0.0633 - val_loss: 0.0827 - val_mse: 0.0827<br>Epoch 97/1000<br>782/782 - 1s - loss: 0.0631 - mse: 0.0631 - val_loss: 0.0893 - val_mse: 0.0893<br>Epoch 98/1000<br>782/782 - 1s - loss: 0.0631 - mse: 0.0631 - val_loss: 0.0839 - val_mse: 0.0839<br>Epoch 99/1000<br>782/782 - 1s - loss: 0.0630 - mse: 0.0630 - val_loss: 0.0829 - val_mse: 0.0829<br>Epoch 100/1000<br>782/782 - 1s - loss: 0.0628 - mse: 0.0628 - val_loss: 0.0825 - val_mse: 0.0825<br>Epoch 101/1000<br>782/782 - 1s - loss: 0.0625 - mse: 0.0625 - val_loss: 0.0831 - val_mse: 0.0831<br>Epoch 102/1000<br>782/782 - 1s - loss: 0.0628 - mse: 0.0628 - val_loss: 0.0822 - val_mse: 0.0822<br>Epoch 103/1000<br>782/782 - 1s - loss: 0.0625 - mse: 0.0625 - val_loss: 0.0838 - val_mse: 0.0838<br>Epoch 104/1000<br>782/782 - 1s - loss: 0.0624 - mse: 0.0624 - val_loss: 0.0862 - val_mse: 0.0862<br>Epoch 105/1000<br>782/782 - 1s - loss: 0.0621 - mse: 0.0621 - val_loss: 0.0902 - val_mse: 0.0902<br>Epoch 106/1000<br>782/782 - 1s - loss: 0.0620 - mse: 0.0620 - val_loss: 0.0877 - val_mse: 0.0877<br>Epoch 107/1000<br>782/782 - 1s - loss: 0.0619 - mse: 0.0619 - val_loss: 0.0893 - val_mse: 0.0893<br>Epoch 108/1000<br>782/782 - 1s - loss: 0.0619 - mse: 0.0619 - val_loss: 0.0860 - val_mse: 0.0860<br>Epoch 109/1000<br>782/782 - 1s - loss: 0.0618 - mse: 0.0618 - val_loss: 0.0904 - val_mse: 0.0904<br>Epoch 110/1000<br>782/782 - 1s - loss: 0.0616 - mse: 0.0616 - val_loss: 0.0856 - val_mse: 0.0856<br>Epoch 111/1000<br>782/782 - 1s - loss: 0.0616 - mse: 0.0616 - val_loss: 0.0903 - val_mse: 0.0903<br>Epoch 112/1000<br>782/782 - 1s - loss: 0.0616 - mse: 0.0616 - val_loss: 0.0851 - val_mse: 0.0851<br>Epoch 113/1000<br>782/782 - 1s - loss: 0.0616 - mse: 0.0616 - val_loss: 0.0935 - val_mse: 0.0935<br>Epoch 114/1000<br>782/782 - 1s - loss: 0.0612 - mse: 0.0612 - val_loss: 0.0851 - val_mse: 0.0851<br>Epoch 115/1000<br>782/782 - 1s - loss: 0.0612 - mse: 0.0612 - val_loss: 0.0844 - val_mse: 0.0844<br>Epoch 116/1000<br>782/782 - 1s - loss: 0.0608 - mse: 0.0608 - val_loss: 0.0858 - val_mse: 0.0858<br>Epoch 117/1000<br>782/782 - 1s - loss: 0.0610 - mse: 0.0610 - val_loss: 0.0876 - val_mse: 0.0876<br>Epoch 118/1000<br>782/782 - 1s - loss: 0.0609 - mse: 0.0609 - val_loss: 0.0830 - val_mse: 0.0830<br>Epoch 119/1000<br>782/782 - 1s - loss: 0.0607 - mse: 0.0607 - val_loss: 0.0826 - val_mse: 0.0826<br>Epoch 120/1000<br>782/782 - 1s - loss: 0.0606 - mse: 0.0606 - val_loss: 0.0830 - val_mse: 0.0830<br>Epoch 121/1000<br>782/782 - 1s - loss: 0.0606 - mse: 0.0606 - val_loss: 0.0860 - val_mse: 0.0860<br>Epoch 122/1000<br>782/782 - 1s - loss: 0.0602 - mse: 0.0602 - val_loss: 0.1017 - val_mse: 0.1017<br>Epoch 123/1000<br>782/782 - 1s - loss: 0.0602 - mse: 0.0602 - val_loss: 0.0906 - val_mse: 0.0906<br>Epoch 124/1000<br>782/782 - 1s - loss: 0.0599 - mse: 0.0599 - val_loss: 0.0863 - val_mse: 0.0863<br>Epoch 125/1000<br>782/782 - 1s - loss: 0.0601 - mse: 0.0601 - val_loss: 0.0833 - val_mse: 0.0833<br>Epoch 126/1000<br>782/782 - 1s - loss: 0.0599 - mse: 0.0599 - val_loss: 0.0820 - val_mse: 0.0820<br>Epoch 127/1000<br>782/782 - 1s - loss: 0.0601 - mse: 0.0601 - val_loss: 0.0821 - val_mse: 0.0821<br>Epoch 128/1000<br>782/782 - 1s - loss: 0.0597 - mse: 0.0597 - val_loss: 0.0827 - val_mse: 0.0827<br>Epoch 129/1000<br>782/782 - 1s - loss: 0.0596 - mse: 0.0596 - val_loss: 0.0831 - val_mse: 0.0831<br>Epoch 130/1000<br>782/782 - 1s - loss: 0.0595 - mse: 0.0595 - val_loss: 0.0859 - val_mse: 0.0859<br>Epoch 131/1000<br>782/782 - 1s - loss: 0.0592 - mse: 0.0592 - val_loss: 0.0902 - val_mse: 0.0902<br>Epoch 132/1000<br>782/782 - 1s - loss: 0.0590 - mse: 0.0590 - val_loss: 0.0840 - val_mse: 0.0840<br>Epoch 133/1000<br>782/782 - 1s - loss: 0.0592 - mse: 0.0592 - val_loss: 0.0868 - val_mse: 0.0868<br>Epoch 134/1000<br>782/782 - 1s - loss: 0.0591 - mse: 0.0591 - val_loss: 0.0865 - val_mse: 0.0865<br>Epoch 135/1000<br>782/782 - 1s - loss: 0.0588 - mse: 0.0588 - val_loss: 0.0848 - val_mse: 0.0848<br>Epoch 136/1000<br>782/782 - 1s - loss: 0.0586 - mse: 0.0586 - val_loss: 0.0834 - val_mse: 0.0834<br>Epoch 137/1000<br>782/782 - 1s - loss: 0.0587 - mse: 0.0587 - val_loss: 0.0852 - val_mse: 0.0852<br>Epoch 138/1000<br>782/782 - 2s - loss: 0.0585 - mse: 0.0585 - val_loss: 0.0915 - val_mse: 0.0915<br>Epoch 139/1000<br>782/782 - 1s - loss: 0.0584 - mse: 0.0584 - val_loss: 0.0852 - val_mse: 0.0852<br>Epoch 140/1000<br>782/782 - 1s - loss: 0.0581 - mse: 0.0581 - val_loss: 0.1141 - val_mse: 0.1141<br>Epoch 141/1000<br>782/782 - 1s - loss: 0.0579 - mse: 0.0579 - val_loss: 0.0877 - val_mse: 0.0877<br>Epoch 142/1000<br>782/782 - 1s - loss: 0.0578 - mse: 0.0578 - val_loss: 0.0857 - val_mse: 0.0857<br>Epoch 143/1000<br>782/782 - 1s - loss: 0.0581 - mse: 0.0581 - val_loss: 0.0850 - val_mse: 0.0850<br>Epoch 144/1000<br>782/782 - 1s - loss: 0.0574 - mse: 0.0574 - val_loss: 0.0855 - val_mse: 0.0855<br>Epoch 145/1000<br>782/782 - 1s - loss: 0.0575 - mse: 0.0575 - val_loss: 0.0843 - val_mse: 0.0843<br>Epoch 146/1000<br>782/782 - 1s - loss: 0.0577 - mse: 0.0577 - val_loss: 0.0915 - val_mse: 0.0915<br>Epoch 147/1000<br>782/782 - 1s - loss: 0.0573 - mse: 0.0573 - val_loss: 0.0848 - val_mse: 0.0848<br>Epoch 148/1000<br>782/782 - 1s - loss: 0.0572 - mse: 0.0572 - val_loss: 0.0854 - val_mse: 0.0854<br>Epoch 149/1000<br>782/782 - 1s - loss: 0.0569 - mse: 0.0569 - val_loss: 0.0863 - val_mse: 0.0863<br>Epoch 150/1000<br>782/782 - 1s - loss: 0.0567 - mse: 0.0567 - val_loss: 0.0912 - val_mse: 0.0912<br>Epoch 151/1000<br>782/782 - 1s - loss: 0.0567 - mse: 0.0567 - val_loss: 0.0959 - val_mse: 0.0959<br>Epoch 152/1000<br>782/782 - 1s - loss: 0.0566 - mse: 0.0566 - val_loss: 0.1128 - val_mse: 0.1128<br>Epoch 153/1000<br>782/782 - 1s - loss: 0.0567 - mse: 0.0567 - val_loss: 0.0931 - val_mse: 0.0931<br>Epoch 154/1000<br>782/782 - 1s - loss: 0.0568 - mse: 0.0568 - val_loss: 0.0888 - val_mse: 0.0888<br>Epoch 155/1000<br>782/782 - 1s - loss: 0.0563 - mse: 0.0563 - val_loss: 0.0948 - val_mse: 0.0948<br>Epoch 156/1000<br>782/782 - 1s - loss: 0.0561 - mse: 0.0561 - val_loss: 0.0908 - val_mse: 0.0908<br>Epoch 157/1000<br>782/782 - 1s - loss: 0.0560 - mse: 0.0560 - val_loss: 0.0841 - val_mse: 0.0841<br>Epoch 158/1000<br>782/782 - 1s - loss: 0.0557 - mse: 0.0557 - val_loss: 0.0911 - val_mse: 0.0911<br>Epoch 159/1000<br>782/782 - 1s - loss: 0.0557 - mse: 0.0557 - val_loss: 0.1110 - val_mse: 0.1110<br>Epoch 160/1000<br>782/782 - 1s - loss: 0.0556 - mse: 0.0556 - val_loss: 0.1032 - val_mse: 0.1032<br>Epoch 161/1000<br>782/782 - 1s - loss: 0.0555 - mse: 0.0555 - val_loss: 0.0854 - val_mse: 0.0854<br>Epoch 162/1000<br>782/782 - 1s - loss: 0.0555 - mse: 0.0555 - val_loss: 0.0941 - val_mse: 0.0941<br>Epoch 163/1000<br>782/782 - 1s - loss: 0.0553 - mse: 0.0553 - val_loss: 0.0945 - val_mse: 0.0945<br>Epoch 164/1000<br>782/782 - 1s - loss: 0.0550 - mse: 0.0550 - val_loss: 0.0856 - val_mse: 0.0856<br>Epoch 165/1000<br>782/782 - 1s - loss: 0.0551 - mse: 0.0551 - val_loss: 0.0859 - val_mse: 0.0859<br>Epoch 166/1000<br>782/782 - 1s - loss: 0.0547 - mse: 0.0547 - val_loss: 0.0848 - val_mse: 0.0848<br>Epoch 167/1000<br>782/782 - 1s - loss: 0.0549 - mse: 0.0549 - val_loss: 0.0896 - val_mse: 0.0896<br>Epoch 168/1000<br>782/782 - 1s - loss: 0.0547 - mse: 0.0547 - val_loss: 0.0897 - val_mse: 0.0897<br>Epoch 169/1000<br>782/782 - 1s - loss: 0.0542 - mse: 0.0542 - val_loss: 0.0849 - val_mse: 0.0849        </sup></sub>    </details>"
     },
     "metadata": {},
     "output_type": "display_data"
    }
   ],
   "source": [
    "# metrics\n",
    "start_time = time()\n",
    "\n",
    "# store standard out stream\n",
    "original_stdout = sys.stdout\n",
    "# replace standard out for intercepting model training logs\n",
    "sys.stdout = captured_stdout = StringIO()\n",
    "\n",
    "try:\n",
    "    # make temporary directory for saved model\n",
    "    if not os.path.exists(\"temp\"):\n",
    "        os.mkdir(\"temp\")\n",
    "\n",
    "    # perform model training\n",
    "    model.fit(\n",
    "        # training data\n",
    "        tf_input['train'], tf_output['train'],\n",
    "        # use test data to validate losses, but not for training\n",
    "        validation_data=(tf_input['validate'], tf_output['validate']),\n",
    "        callbacks=[\n",
    "            # patience: number of epochs with no improvement after which training will be stopped\n",
    "            EarlyStopping(monitor='val_loss', min_delta=1e-3, patience=100, mode='auto', verbose=0),\n",
    "            # save best model from all epochs\n",
    "            ModelCheckpoint(filepath=\"temp/model_best_weights.hdf5\", save_best_only=True, verbose=0)\n",
    "        ],\n",
    "        verbose=2,\n",
    "        epochs=1000,\n",
    "    )\n",
    "finally:\n",
    "    # restore standard out\n",
    "    sys.stdout = original_stdout\n",
    "\n",
    "# metrics\n",
    "print(f\"Model trained in {time() - start_time:.6f} seconds\")\n",
    "# noinspection PyTypeChecker\n",
    "display(HTML(f'\\\n",
    "    <details>\\\n",
    "        <summary><b>Training Details</b></summary>\\\n",
    "        <sub><sup>\\\n",
    "            {\"<br>\".join(captured_stdout.getvalue().splitlines())}\\\n",
    "        </sup></sub>\\\n",
    "    </details>\\\n",
    "'))"
   ],
   "metadata": {
    "collapsed": false,
    "pycharm": {
     "name": "#%%\n"
    }
   }
  },
  {
   "cell_type": "markdown",
   "source": [
    "<hr style=\"border-top: 2px solid #444\">"
   ],
   "metadata": {
    "collapsed": false,
    "pycharm": {
     "name": "#%% md\n"
    }
   }
  },
  {
   "cell_type": "markdown",
   "source": [
    "# V. Model Accuracy\n",
    "The accuracy of the model can be quantified and visualized by comparing the predicted outputs with the actual expected outputs with the testing subset."
   ],
   "metadata": {
    "collapsed": false,
    "pycharm": {
     "name": "#%% md\n"
    }
   }
  },
  {
   "cell_type": "markdown",
   "source": [
    "## Model Predictions\n",
    "Using the testing subset, predicted star ratings can be quickly computed with our trained model and its weights. Model predictions are computed using the regression model as continuous values and then rounded to the nearest half star as discrete values."
   ],
   "metadata": {
    "collapsed": false
   }
  },
  {
   "cell_type": "code",
   "execution_count": 15,
   "outputs": [
    {
     "name": "stdout",
     "output_type": "stream",
     "text": [
      "Predicted 10,000 business ratings in 0.679747 seconds\n"
     ]
    }
   ],
   "source": [
    "# metrics\n",
    "start_time = time()\n",
    "\n",
    "# load best model for prediction\n",
    "model.load_weights(\"temp/model_best_weights.hdf5\")\n",
    "\n",
    "# compute predicted ratings for test dataset\n",
    "predicted = model.predict(tf_input['test'])\n",
    "# map predictions to the nearest half-star\n",
    "predicted_rounded = numpy.array([min(round(prediction * 2) / 2, 5) for prediction in predicted.flatten()])\n",
    "\n",
    "# metrics\n",
    "print(f\"Predicted {len(tf_input['test']):,} business ratings in {time() - start_time:.6f} seconds\")"
   ],
   "metadata": {
    "collapsed": false,
    "pycharm": {
     "name": "#%%\n"
    }
   }
  },
  {
   "cell_type": "markdown",
   "source": [
    "## Error Scoring (MSE/RSME)\n",
    "Our model's prediction accuracy can be quantified numerically with a [MSE or RMSE](https://en.wikipedia.org/wiki/RSME) score. The score is actually quite statistically significant - the deviation is within the realm of roughly a half star. The scores are shown below for continuous predictions and discrete half-star rounded predictions."
   ],
   "metadata": {
    "collapsed": false,
    "pycharm": {
     "name": "#%% md\n"
    }
   }
  },
  {
   "cell_type": "code",
   "execution_count": 16,
   "outputs": [
    {
     "data": {
      "text/plain": "      Continuous  Discrete\nMSE     0.079469  0.097575\nRMSE    0.281903  0.312370",
      "text/html": "<div>\n<style scoped>\n    .dataframe tbody tr th:only-of-type {\n        vertical-align: middle;\n    }\n\n    .dataframe tbody tr th {\n        vertical-align: top;\n    }\n\n    .dataframe thead th {\n        text-align: right;\n    }\n</style>\n<table border=\"1\" class=\"dataframe\">\n  <thead>\n    <tr style=\"text-align: right;\">\n      <th></th>\n      <th>Continuous</th>\n      <th>Discrete</th>\n    </tr>\n  </thead>\n  <tbody>\n    <tr>\n      <th>MSE</th>\n      <td>0.079469</td>\n      <td>0.097575</td>\n    </tr>\n    <tr>\n      <th>RMSE</th>\n      <td>0.281903</td>\n      <td>0.312370</td>\n    </tr>\n  </tbody>\n</table>\n</div>"
     },
     "execution_count": 16,
     "metadata": {},
     "output_type": "execute_result"
    }
   ],
   "source": [
    "mse_score = sklearn.metrics.mean_squared_error(predicted, tf_output['test'])\n",
    "mse_rounded_score = sklearn.metrics.mean_squared_error(predicted_rounded, tf_output['test'])\n",
    "\n",
    "pandas.DataFrame(\n",
    "    [\n",
    "        [mse_score, mse_rounded_score],\n",
    "        numpy.sqrt([mse_score, mse_rounded_score])\n",
    "    ],\n",
    "    columns=[\"Continuous\", \"Discrete\"],\n",
    "    index=[\"MSE\", \"RMSE\"]\n",
    ")"
   ],
   "metadata": {
    "collapsed": false,
    "pycharm": {
     "name": "#%%\n"
    }
   }
  },
  {
   "cell_type": "markdown",
   "source": [
    "## Lift Chart Visualization\n",
    "Quantified error scoring does not lend itself to be easily interpreted; instead, the results may be visualized using a lift chart visualization from our predictions and actual values. Arbitrary businesses are ordered by their actual star rating; the deviations from the predicted value are quickly visible from the actual expected values.\n",
    "\n",
    "Interestingly enough, since a regression model was used here, continuous values above a 5 star rating are predicted. For the discrete visualization, values are clamped to only possible values for star ratings (i.e. clamped to `[0, 5]` and rounded to the nearest half-star)."
   ],
   "metadata": {
    "collapsed": false,
    "pycharm": {
     "name": "#%% md\n"
    }
   }
  },
  {
   "cell_type": "code",
   "execution_count": 17,
   "outputs": [
    {
     "data": {
      "text/plain": "<Figure size 864x288 with 2 Axes>",
      "image/png": "[encoded data removed]"
     },
     "metadata": {
      "needs_background": "light"
     },
     "output_type": "display_data"
    }
   ],
   "source": [
    "figure = pyplot.figure(figsize=(12, 4))\n",
    "\n",
    "axes = figure.add_subplot(1, 2, 1)\n",
    "axes.set_title(\"Continuous Predictions\")\n",
    "axes.set_xlabel(\"businesses, ordered by ascending star rating\")\n",
    "axes.set_ylabel(\"star rating \")\n",
    "table = pandas.DataFrame({'predicted': predicted.flatten(), 'y': tf_output['test'].flatten()})\n",
    "table.sort_values(by=['y'], inplace=True)\n",
    "axes.plot(table['predicted'].tolist(), label=\"prediction\")\n",
    "axes.plot(table['y'].tolist(), label=\"expected\")\n",
    "axes.legend()\n",
    "\n",
    "axes = figure.add_subplot(1, 2, 2)\n",
    "axes.set_title(\"Discrete Predictions\")\n",
    "axes.set_xlabel(\"businesses, ordered by ascending star rating\")\n",
    "axes.set_ylabel(\"star rating\")\n",
    "table = pandas.DataFrame({'predicted': predicted_rounded.flatten(), 'y': tf_output['test'].flatten()})\n",
    "table.sort_values(by=['y'], inplace=True)\n",
    "axes.plot(table['predicted'].tolist(), label=\"prediction\")\n",
    "axes.plot(table['y'].tolist(), label=\"expected\")\n",
    "axes.legend()\n",
    "\n",
    "pyplot.show()"
   ],
   "metadata": {
    "collapsed": false,
    "pycharm": {
     "name": "#%%\n"
    }
   }
  },
  {
   "cell_type": "markdown",
   "source": [
    "<hr style=\"border-top: 2px solid #444\">"
   ],
   "metadata": {
    "collapsed": false
   }
  },
  {
   "cell_type": "markdown",
   "source": [
    "# VI. Conclusion\n",
    "\n",
    "If a business has enough reviews (in our case, 15), there is a surprisingly accurate correlation between the text content of the user reviews and the star rating the business receives. The discrete lift chart visualization shows most of the deviation of predicted values occurs within a half-star of the actual expected value.\n",
    "\n",
    "The purpose of this project was not to optimize a model's ability to accurate predict stars, but to inspect a suspected correlation of data. It may be possible to construct a significantly better regression model using more input features of businesses (such as location, hours of operation, tips, etc), but optimization for this project is not quite necessary for identifying a correlation with a business's user reviews and its respective star rating."
   ],
   "metadata": {
    "collapsed": false,
    "pycharm": {
     "name": "#%% md\n"
    }
   }
  }
 ],
 "metadata": {
  "kernelspec": {
   "display_name": "Python 3",
   "language": "python",
   "name": "python3"
  },
  "language_info": {
   "codemirror_mode": {
    "name": "ipython",
    "version": 3
   },
   "file_extension": ".py",
   "mimetype": "text/x-python",
   "name": "python",
   "nbconvert_exporter": "python",
   "pygments_lexer": "ipython3",
   "version": "3.7.3"
  }
 },
 "nbformat": 4,
 "nbformat_minor": 2
}